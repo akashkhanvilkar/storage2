{
 "cells": [
  {
   "cell_type": "code",
   "execution_count": 3,
   "metadata": {},
   "outputs": [],
   "source": [
    "import csv\n",
    "import requests\n",
    "from bs4 import BeautifulSoup\n",
    "from datetime import datetime"
   ]
  },
  {
   "cell_type": "code",
   "execution_count": 497,
   "metadata": {},
   "outputs": [],
   "source": [
    "## Go on indeed.com and put the jo description and location. Think of the data you want to find\n"
   ]
  },
  {
   "cell_type": "code",
   "execution_count": 498,
   "metadata": {},
   "outputs": [],
   "source": [
    "## Copy the url. Create a template where you can insert job position and location"
   ]
  },
  {
   "cell_type": "code",
   "execution_count": 499,
   "metadata": {},
   "outputs": [],
   "source": [
    "def get_url(position, location):\n",
    "    template = 'https://in.indeed.com/jobs?q={}&l={}'\n",
    "    position = position.replace(' ', '+')\n",
    "    location = location.replace(' ', '+')\n",
    "    url = template.format(position, location)\n",
    "    return url\n",
    "    "
   ]
  },
  {
   "cell_type": "code",
   "execution_count": 500,
   "metadata": {},
   "outputs": [],
   "source": [
    "url = get_url('Salesforce Administrator','India')"
   ]
  },
  {
   "cell_type": "code",
   "execution_count": 501,
   "metadata": {},
   "outputs": [],
   "source": [
    "## Extract Raw HTML"
   ]
  },
  {
   "cell_type": "code",
   "execution_count": 502,
   "metadata": {},
   "outputs": [],
   "source": [
    "response = requests.get(url)"
   ]
  },
  {
   "cell_type": "code",
   "execution_count": 503,
   "metadata": {},
   "outputs": [
    {
     "data": {
      "text/plain": [
       "<Response [200]>"
      ]
     },
     "execution_count": 503,
     "metadata": {},
     "output_type": "execute_result"
    }
   ],
   "source": [
    "response"
   ]
  },
  {
   "cell_type": "code",
   "execution_count": 504,
   "metadata": {},
   "outputs": [],
   "source": [
    "## Response 200 means that it has been successfull"
   ]
  },
  {
   "cell_type": "code",
   "execution_count": 505,
   "metadata": {},
   "outputs": [],
   "source": [
    "soup = BeautifulSoup(response.text,'html.parser')"
   ]
  },
  {
   "cell_type": "code",
   "execution_count": 506,
   "metadata": {},
   "outputs": [],
   "source": [
    "cards = soup.find_all(\"div\",\"jobsearch-SerpJobCard\")"
   ]
  },
  {
   "cell_type": "code",
   "execution_count": 507,
   "metadata": {},
   "outputs": [
    {
     "data": {
      "text/plain": [
       "15"
      ]
     },
     "execution_count": 507,
     "metadata": {},
     "output_type": "execute_result"
    }
   ],
   "source": [
    "len(cards)"
   ]
  },
  {
   "cell_type": "code",
   "execution_count": 508,
   "metadata": {},
   "outputs": [],
   "source": [
    "card = cards[0]"
   ]
  },
  {
   "cell_type": "code",
   "execution_count": 509,
   "metadata": {},
   "outputs": [],
   "source": [
    "## Get a single record. Go on the job title and RC and inspect element"
   ]
  },
  {
   "cell_type": "code",
   "execution_count": 510,
   "metadata": {},
   "outputs": [],
   "source": [
    "atag = card.h2.a"
   ]
  },
  {
   "cell_type": "code",
   "execution_count": 511,
   "metadata": {},
   "outputs": [
    {
     "data": {
      "text/plain": [
       "'Senior Salesforce Administrator'"
      ]
     },
     "execution_count": 511,
     "metadata": {},
     "output_type": "execute_result"
    }
   ],
   "source": [
    "atag['title']"
   ]
  },
  {
   "cell_type": "code",
   "execution_count": 512,
   "metadata": {},
   "outputs": [],
   "source": [
    "## The above works but will stop if there is no value. Hence we will use get method which will simply give a null value if value doesnt exist\n"
   ]
  },
  {
   "cell_type": "code",
   "execution_count": 513,
   "metadata": {},
   "outputs": [],
   "source": [
    "job_title = atag.get('title')"
   ]
  },
  {
   "cell_type": "code",
   "execution_count": 514,
   "metadata": {},
   "outputs": [
    {
     "name": "stdout",
     "output_type": "stream",
     "text": [
      "Senior Salesforce Administrator\n"
     ]
    }
   ],
   "source": [
    "print(job_title)"
   ]
  },
  {
   "cell_type": "code",
   "execution_count": 515,
   "metadata": {},
   "outputs": [],
   "source": [
    "job_company = card.find('span','company').text.strip()"
   ]
  },
  {
   "cell_type": "code",
   "execution_count": 516,
   "metadata": {},
   "outputs": [],
   "source": [
    "job_location = card.find('span','location').text.strip()"
   ]
  },
  {
   "cell_type": "code",
   "execution_count": 517,
   "metadata": {},
   "outputs": [],
   "source": [
    "job_summary = card.find('div','summary').text.strip()"
   ]
  },
  {
   "cell_type": "code",
   "execution_count": 518,
   "metadata": {},
   "outputs": [],
   "source": [
    "job_post_date = card.find('span', 'date').text\n",
    "today = datetime.today().strftime('%Y-%m-%d')"
   ]
  },
  {
   "cell_type": "code",
   "execution_count": 519,
   "metadata": {},
   "outputs": [],
   "source": [
    "## Now if u use text attribute when no text is present an attribute error will occur. Hence we will wrap it in try catch"
   ]
  },
  {
   "cell_type": "code",
   "execution_count": 520,
   "metadata": {},
   "outputs": [],
   "source": [
    "# this does not exists for all jobs, so handle the exceptions\n",
    "salary_tag = card.find('span', 'salaryText')\n",
    "if salary_tag:\n",
    "    salary = salary_tag.text.strip()\n",
    "else:\n",
    "    salary = ''"
   ]
  },
  {
   "cell_type": "markdown",
   "metadata": {
    "slideshow": {
     "slide_type": "fragment"
    }
   },
   "source": [
    "Generalize the code"
   ]
  },
  {
   "cell_type": "code",
   "execution_count": 521,
   "metadata": {},
   "outputs": [],
   "source": [
    "def get_record(card):\n",
    "    job_title = card.h2.a.get('title')\n",
    "    company = card.find('span', 'company').text.strip()\n",
    "    job_location = card.find('div', 'recJobLoc').get('data-rc-loc')\n",
    "    post_date = card.find('span', 'date').text\n",
    "    today = datetime.today().strftime('%Y-%m-%d')\n",
    "    summary = card.find('div', 'summary').text.strip().replace('\\n', ' ')\n",
    "    \n",
    "\n",
    "    # this does not exists for all jobs, so handle the exceptions\n",
    "    salary_tag = card.find('span', 'salaryText')\n",
    "    if salary_tag:\n",
    "        salary = salary_tag.text.strip()\n",
    "    else:\n",
    "        salary = ''  \n",
    "        \n",
    "    record = (job_title, company, job_location, post_date, today, summary, salary)\n",
    "    return record"
   ]
  },
  {
   "cell_type": "code",
   "execution_count": 522,
   "metadata": {},
   "outputs": [],
   "source": [
    "records = []\n",
    "\n",
    "for card in cards:\n",
    "    record = get_record(card)\n",
    "    records.append(record)"
   ]
  },
  {
   "cell_type": "code",
   "execution_count": 523,
   "metadata": {},
   "outputs": [
    {
     "data": {
      "text/plain": [
       "('Senior Salesforce Administrator',\n",
       " 'Qualys',\n",
       " 'Pune, Maharashtra',\n",
       " '21 days ago',\n",
       " '2021-02-23',\n",
       " 'We are looking for an experienced Salesforce.com Administrator who has in-depth understanding of the SFDC tool along with experience on working with Business on…',\n",
       " '')"
      ]
     },
     "execution_count": 523,
     "metadata": {},
     "output_type": "execute_result"
    }
   ],
   "source": [
    "records[6]"
   ]
  },
  {
   "cell_type": "markdown",
   "metadata": {
    "slideshow": {
     "slide_type": "fragment"
    }
   },
   "source": [
    "Getting to the next Page"
   ]
  },
  {
   "cell_type": "code",
   "execution_count": 524,
   "metadata": {},
   "outputs": [],
   "source": [
    "## Go on the chevron of next and click on inspect"
   ]
  },
  {
   "cell_type": "code",
   "execution_count": 525,
   "metadata": {},
   "outputs": [],
   "source": [
    "while True:\n",
    "    try:\n",
    "        url = 'https://www.indeed.com' + soup.find('a', {'aria-label': 'Next'}).get('href')\n",
    "    except AttributeError:\n",
    "        break\n",
    "\n",
    "    response = requests.get(url)\n",
    "    soup = BeautifulSoup(response.text, 'html.parser')\n",
    "    cards = soup.find_all('div', 'jobsearch-SerpJobCard')\n",
    "\n",
    "    for card in cards:\n",
    "        record = get_record(card)\n",
    "        records.append(record)"
   ]
  },
  {
   "cell_type": "markdown",
   "metadata": {},
   "source": [
    "***Adding Everything Up***"
   ]
  },
  {
   "cell_type": "code",
   "execution_count": 526,
   "metadata": {},
   "outputs": [],
   "source": [
    "import csv\n",
    "from datetime import datetime\n",
    "import requests\n",
    "from bs4 import BeautifulSoup\n",
    "\n",
    "\n",
    "def get_url(position, location):\n",
    "    \"\"\"Generate url from position and location\"\"\"\n",
    "    template = 'https://in.indeed.com/jobs?q={}&l={}'\n",
    "    position = position.replace(' ', '+')\n",
    "    location = location.replace(' ', '+')\n",
    "    url = template.format(position, location)\n",
    "    return url\n",
    "\n",
    "\n",
    "def get_record(card):\n",
    "    \"\"\"Extract job data from a single record\"\"\"\n",
    "    \n",
    "    job_title = card.h2.a.get('title')\n",
    "    company = card.find('span', 'company').text.strip()\n",
    "    job_location = card.find('div', 'recJobLoc').get('data-rc-loc')\n",
    "    summary = card.find('div', 'summary').text.strip().replace('\\n', ' ')\n",
    "\n",
    "    # this does not exists for all jobs, so handle the exceptions\n",
    "    salary_tag = card.find('span', 'salaryText')\n",
    "    if salary_tag:\n",
    "        salary = salary_tag.text.strip()\n",
    "    else:\n",
    "        salary = ''  \n",
    "        \n",
    "    record = (job_title, company, job_location, summary, salary)\n",
    "    return record\n",
    "\n",
    "\n",
    "def main(position, location):\n",
    "    \"\"\"Run the main program routine\"\"\"\n",
    "    records = []\n",
    "    url = get_url(position, location)\n",
    "    \n",
    "    # extract the job data\n",
    "    while True:\n",
    "        response = requests.get(url)\n",
    "        soup = BeautifulSoup(response.text, 'html.parser')\n",
    "        cards = soup.find_all('div', 'jobsearch-SerpJobCard')\n",
    "        for card in cards:\n",
    "            record = get_record(card)\n",
    "            records.append(record)\n",
    "        try:\n",
    "            url = 'https://in.indeed.com' + soup.find('a', {'aria-label': 'Next'}).get('href')\n",
    "        except AttributeError:\n",
    "            break\n",
    "        \n",
    "    # save the job data\n",
    "    with open('Salesforce_Business_Analyst.csv', 'w', newline='', encoding='utf-8') as f:\n",
    "        writer = csv.writer(f)\n",
    "        writer.writerow(['JobTitle', 'Company', 'Location', 'Summary', 'Salary'])\n",
    "        writer.writerows(records)"
   ]
  },
  {
   "cell_type": "code",
   "execution_count": 527,
   "metadata": {},
   "outputs": [],
   "source": [
    "# run the main program\n",
    "main('Salesforce Business Analyst', 'India')"
   ]
  },
  {
   "cell_type": "code",
   "execution_count": 528,
   "metadata": {},
   "outputs": [],
   "source": [
    "## Getting all dataframes"
   ]
  },
  {
   "cell_type": "code",
   "execution_count": 4,
   "metadata": {},
   "outputs": [],
   "source": [
    "import pandas as pd\n",
    "import numpy as np\n",
    "import matplotlib.pyplot as plt"
   ]
  },
  {
   "cell_type": "code",
   "execution_count": 530,
   "metadata": {},
   "outputs": [],
   "source": [
    "df_admin = pd.read_csv(r\"Salesforce_Administrator.csv\")"
   ]
  },
  {
   "cell_type": "code",
   "execution_count": 531,
   "metadata": {},
   "outputs": [
    {
     "data": {
      "text/html": [
       "<div>\n",
       "<style scoped>\n",
       "    .dataframe tbody tr th:only-of-type {\n",
       "        vertical-align: middle;\n",
       "    }\n",
       "\n",
       "    .dataframe tbody tr th {\n",
       "        vertical-align: top;\n",
       "    }\n",
       "\n",
       "    .dataframe thead th {\n",
       "        text-align: right;\n",
       "    }\n",
       "</style>\n",
       "<table border=\"1\" class=\"dataframe\">\n",
       "  <thead>\n",
       "    <tr style=\"text-align: right;\">\n",
       "      <th></th>\n",
       "      <th>JobTitle</th>\n",
       "      <th>Company</th>\n",
       "      <th>Location</th>\n",
       "      <th>Summary</th>\n",
       "      <th>Salary</th>\n",
       "    </tr>\n",
       "  </thead>\n",
       "  <tbody>\n",
       "    <tr>\n",
       "      <th>0</th>\n",
       "      <td>Salesforce Administrator</td>\n",
       "      <td>Coupa</td>\n",
       "      <td>Pune, Maharashtra</td>\n",
       "      <td>Coupa Software (NASDAQ: COUP), a leader in bus...</td>\n",
       "      <td>NaN</td>\n",
       "    </tr>\n",
       "    <tr>\n",
       "      <th>1</th>\n",
       "      <td>Salesforce Administrator_ Pune Location</td>\n",
       "      <td>Spadeworx software Services</td>\n",
       "      <td>Pune, Maharashtra</td>\n",
       "      <td>Basic knowledge of salesforce development (Ape...</td>\n",
       "      <td>₹50,000 - ₹90,000 a month</td>\n",
       "    </tr>\n",
       "    <tr>\n",
       "      <th>2</th>\n",
       "      <td>Salesforce Administrator</td>\n",
       "      <td>TaskUs</td>\n",
       "      <td>Indore, Madhya Pradesh</td>\n",
       "      <td>You will work closely with Business Developmen...</td>\n",
       "      <td>NaN</td>\n",
       "    </tr>\n",
       "    <tr>\n",
       "      <th>3</th>\n",
       "      <td>Salesforce Administrator</td>\n",
       "      <td>Twilio</td>\n",
       "      <td>Bengaluru, Karnataka</td>\n",
       "      <td>Because you belong at Twilio. The Who, What, W...</td>\n",
       "      <td>NaN</td>\n",
       "    </tr>\n",
       "    <tr>\n",
       "      <th>4</th>\n",
       "      <td>Salesforce Administrator</td>\n",
       "      <td>Unacademy</td>\n",
       "      <td>Bengaluru, Karnataka</td>\n",
       "      <td>Minimum two years of experience as a Salesforc...</td>\n",
       "      <td>NaN</td>\n",
       "    </tr>\n",
       "  </tbody>\n",
       "</table>\n",
       "</div>"
      ],
      "text/plain": [
       "                                  JobTitle                      Company  \\\n",
       "0                 Salesforce Administrator                        Coupa   \n",
       "1  Salesforce Administrator_ Pune Location  Spadeworx software Services   \n",
       "2                 Salesforce Administrator                       TaskUs   \n",
       "3                 Salesforce Administrator                       Twilio   \n",
       "4                 Salesforce Administrator                    Unacademy   \n",
       "\n",
       "                 Location                                            Summary  \\\n",
       "0       Pune, Maharashtra  Coupa Software (NASDAQ: COUP), a leader in bus...   \n",
       "1       Pune, Maharashtra  Basic knowledge of salesforce development (Ape...   \n",
       "2  Indore, Madhya Pradesh  You will work closely with Business Developmen...   \n",
       "3    Bengaluru, Karnataka  Because you belong at Twilio. The Who, What, W...   \n",
       "4    Bengaluru, Karnataka  Minimum two years of experience as a Salesforc...   \n",
       "\n",
       "                      Salary  \n",
       "0                        NaN  \n",
       "1  ₹50,000 - ₹90,000 a month  \n",
       "2                        NaN  \n",
       "3                        NaN  \n",
       "4                        NaN  "
      ]
     },
     "execution_count": 531,
     "metadata": {},
     "output_type": "execute_result"
    }
   ],
   "source": [
    "df_admin.head()"
   ]
  },
  {
   "cell_type": "code",
   "execution_count": 532,
   "metadata": {},
   "outputs": [],
   "source": [
    "df_admin.dropna(axis=0, inplace=True)"
   ]
  },
  {
   "cell_type": "code",
   "execution_count": 533,
   "metadata": {},
   "outputs": [
    {
     "name": "stdout",
     "output_type": "stream",
     "text": [
      "<class 'pandas.core.frame.DataFrame'>\n",
      "Int64Index: 39 entries, 1 to 318\n",
      "Data columns (total 5 columns):\n",
      " #   Column    Non-Null Count  Dtype \n",
      "---  ------    --------------  ----- \n",
      " 0   JobTitle  39 non-null     object\n",
      " 1   Company   39 non-null     object\n",
      " 2   Location  39 non-null     object\n",
      " 3   Summary   39 non-null     object\n",
      " 4   Salary    39 non-null     object\n",
      "dtypes: object(5)\n",
      "memory usage: 1.8+ KB\n"
     ]
    }
   ],
   "source": [
    "df_admin.info()"
   ]
  },
  {
   "cell_type": "code",
   "execution_count": 534,
   "metadata": {},
   "outputs": [
    {
     "data": {
      "text/html": [
       "<div>\n",
       "<style scoped>\n",
       "    .dataframe tbody tr th:only-of-type {\n",
       "        vertical-align: middle;\n",
       "    }\n",
       "\n",
       "    .dataframe tbody tr th {\n",
       "        vertical-align: top;\n",
       "    }\n",
       "\n",
       "    .dataframe thead th {\n",
       "        text-align: right;\n",
       "    }\n",
       "</style>\n",
       "<table border=\"1\" class=\"dataframe\">\n",
       "  <thead>\n",
       "    <tr style=\"text-align: right;\">\n",
       "      <th></th>\n",
       "      <th>JobTitle</th>\n",
       "      <th>Company</th>\n",
       "      <th>Location</th>\n",
       "      <th>Summary</th>\n",
       "      <th>Salary</th>\n",
       "    </tr>\n",
       "  </thead>\n",
       "  <tbody>\n",
       "    <tr>\n",
       "      <th>1</th>\n",
       "      <td>Salesforce Administrator_ Pune Location</td>\n",
       "      <td>Spadeworx software Services</td>\n",
       "      <td>Pune, Maharashtra</td>\n",
       "      <td>Basic knowledge of salesforce development (Ape...</td>\n",
       "      <td>₹50,000 - ₹90,000 a month</td>\n",
       "    </tr>\n",
       "    <tr>\n",
       "      <th>7</th>\n",
       "      <td>Salesforce Administrator/Developer</td>\n",
       "      <td>221 B Baker ST</td>\n",
       "      <td>Salt Lake City, West Bengal</td>\n",
       "      <td>Develop customized solutions within the Salesf...</td>\n",
       "      <td>₹30,000 - ₹60,000 a month</td>\n",
       "    </tr>\n",
       "    <tr>\n",
       "      <th>8</th>\n",
       "      <td>Salesforce Developer/Administrator</td>\n",
       "      <td>Appletech</td>\n",
       "      <td>Vadodara, Gujarat</td>\n",
       "      <td>3+ years of Salesforce application experience....</td>\n",
       "      <td>₹25,000 - ₹60,000 a month</td>\n",
       "    </tr>\n",
       "    <tr>\n",
       "      <th>17</th>\n",
       "      <td>ZOHO CRM Administrator</td>\n",
       "      <td>Elegant International</td>\n",
       "      <td>Jaipur, Rajasthan</td>\n",
       "      <td>The CRM administrator will normally report to ...</td>\n",
       "      <td>₹15,000 - ₹25,000 a year</td>\n",
       "    </tr>\n",
       "    <tr>\n",
       "      <th>18</th>\n",
       "      <td>Salesforce marketing cloud</td>\n",
       "      <td>GeniusU Web Services pvt ltd</td>\n",
       "      <td>Mumbai, Maharashtra</td>\n",
       "      <td>Work alongside the Salesforce administrator to...</td>\n",
       "      <td>₹75,000 a month</td>\n",
       "    </tr>\n",
       "  </tbody>\n",
       "</table>\n",
       "</div>"
      ],
      "text/plain": [
       "                                   JobTitle                       Company  \\\n",
       "1   Salesforce Administrator_ Pune Location   Spadeworx software Services   \n",
       "7        Salesforce Administrator/Developer                221 B Baker ST   \n",
       "8        Salesforce Developer/Administrator                     Appletech   \n",
       "17                   ZOHO CRM Administrator         Elegant International   \n",
       "18               Salesforce marketing cloud  GeniusU Web Services pvt ltd   \n",
       "\n",
       "                       Location  \\\n",
       "1             Pune, Maharashtra   \n",
       "7   Salt Lake City, West Bengal   \n",
       "8             Vadodara, Gujarat   \n",
       "17            Jaipur, Rajasthan   \n",
       "18          Mumbai, Maharashtra   \n",
       "\n",
       "                                              Summary  \\\n",
       "1   Basic knowledge of salesforce development (Ape...   \n",
       "7   Develop customized solutions within the Salesf...   \n",
       "8   3+ years of Salesforce application experience....   \n",
       "17  The CRM administrator will normally report to ...   \n",
       "18  Work alongside the Salesforce administrator to...   \n",
       "\n",
       "                       Salary  \n",
       "1   ₹50,000 - ₹90,000 a month  \n",
       "7   ₹30,000 - ₹60,000 a month  \n",
       "8   ₹25,000 - ₹60,000 a month  \n",
       "17   ₹15,000 - ₹25,000 a year  \n",
       "18            ₹75,000 a month  "
      ]
     },
     "execution_count": 534,
     "metadata": {},
     "output_type": "execute_result"
    }
   ],
   "source": [
    "df_admin.head()"
   ]
  },
  {
   "cell_type": "code",
   "execution_count": 535,
   "metadata": {},
   "outputs": [
    {
     "name": "stdout",
     "output_type": "stream",
     "text": [
      "                                              JobTitle  \\\n",
      "1              Salesforce Administrator_ Pune Location   \n",
      "7                   Salesforce Administrator/Developer   \n",
      "8                   Salesforce Developer/Administrator   \n",
      "17                              ZOHO CRM Administrator   \n",
      "18                          Salesforce marketing cloud   \n",
      "19                                Salesforce Developer   \n",
      "33                                Salesforce Developer   \n",
      "39                  Salesforce Developer/Administrator   \n",
      "45                    Salesforce Developer (4+ Yr exp)   \n",
      "51                                Salesforce Developer   \n",
      "57                  Salesforce Developer/Administrator   \n",
      "58                               Salesforce Consultant   \n",
      "60                             Email Marketing Manager   \n",
      "63                           Salesforce ERP Specialist   \n",
      "69                   sr Salesforce associate developer   \n",
      "74                          Job Opening for Salesforce   \n",
      "91                        Salesforce hiring for Mumbai   \n",
      "96                     Pardot and Salesforce Developer   \n",
      "100               Immediate Requirement for Salesforce   \n",
      "112                         Sharp Salesforce Architect   \n",
      "120                      Salesforce Openings in Mumbai   \n",
      "131      Salesforce Marketing Cloud - Business Analyst   \n",
      "135                                Salesforce Solution   \n",
      "158                               Salesforce Developer   \n",
      "159                         Email Marketing Specialist   \n",
      "162   Opportunity in Salesforce Technical Architecture   \n",
      "173  Immediate jobs in Salesforce Technical Archite...   \n",
      "177                     Salesforce Solution consultant   \n",
      "184                               Salesforce Developer   \n",
      "198                         Salesforce lead consultant   \n",
      "214                Salesforce Solution lead consultant   \n",
      "226  Salesforce Developer salary 10lakhs experience...   \n",
      "230                              Maximo Jobs in Mumbai   \n",
      "231                                         QA Manager   \n",
      "258                   Senior Salesforce Developer/Lead   \n",
      "277                               Salesforce Developer   \n",
      "301             Workday Core HCM Openings in Hyderabad   \n",
      "311         Urgent Requirement Java Enterprise Edition   \n",
      "318          Java Enterprise Edition Jobs in Hyderabad   \n",
      "\n",
      "                                            Company  \\\n",
      "1                       Spadeworx software Services   \n",
      "7                                    221 B Baker ST   \n",
      "8                                         Appletech   \n",
      "17                            Elegant International   \n",
      "18                     GeniusU Web Services pvt ltd   \n",
      "19                   Cloudy Wave Technology Pvt Ltd   \n",
      "33                          C2N IT Services Pvt Ltd   \n",
      "39                            Rudhra Info Solutions   \n",
      "45                                     Keras Global   \n",
      "51                          C2N IT Services Pvt Ltd   \n",
      "57                            Rudhra Info Solutions   \n",
      "58                                  Webkul Software   \n",
      "60                     GeniusU Web Services pvt ltd   \n",
      "63                                       Workafella   \n",
      "69                  ANI Calls India Private Limited   \n",
      "74                         ICS Consultancy Services   \n",
      "91                         ICS Consultancy Services   \n",
      "96                         Search Bridge Consulting   \n",
      "100                        ICS Consultancy Services   \n",
      "112                               Titan Consultancy   \n",
      "120                        ICS Consultancy Services   \n",
      "131                   Tekeinstein Software Solution   \n",
      "135                 ANI Calls India Private Limited   \n",
      "158                                    Talentbasket   \n",
      "159                    GeniusU Web Services pvt ltd   \n",
      "162                        ICS Consultancy Services   \n",
      "173                        ICS Consultancy Services   \n",
      "177                 ANI Calls India Private Limited   \n",
      "184                         Talent Zone Consultants   \n",
      "198                 ANI Calls India Private Limited   \n",
      "214                 ANI Calls India Private Limited   \n",
      "226                                   Angel & Genie   \n",
      "230                        ICS Consultancy Services   \n",
      "231                     C P Careers Private Limited   \n",
      "258  Search advisers Services (GUJ) Private Limited   \n",
      "277            IT-Scient Consulting Private Limited   \n",
      "301                        ICS Consultancy Services   \n",
      "311                        ICS Consultancy Services   \n",
      "318                        ICS Consultancy Services   \n",
      "\n",
      "                                Location  \\\n",
      "1                      Pune, Maharashtra   \n",
      "7            Salt Lake City, West Bengal   \n",
      "8                      Vadodara, Gujarat   \n",
      "17                     Jaipur, Rajasthan   \n",
      "18                   Mumbai, Maharashtra   \n",
      "19                     Pune, Maharashtra   \n",
      "33                  Hyderabad, Telangana   \n",
      "39                   Chennai, Tamil Nadu   \n",
      "45                  Hyderabad, Telangana   \n",
      "51                  Hyderabad, Telangana   \n",
      "57                   Chennai, Tamil Nadu   \n",
      "58                  Noida, Uttar Pradesh   \n",
      "60           Bandra, Mumbai, Maharashtra   \n",
      "63   Sholinganallur, Chennai, Tamil Nadu   \n",
      "69                   Mumbai, Maharashtra   \n",
      "74                   Mumbai, Maharashtra   \n",
      "91                   Mumbai, Maharashtra   \n",
      "96                          Delhi, Delhi   \n",
      "100                  Mumbai, Maharashtra   \n",
      "112                 Bengaluru, Karnataka   \n",
      "120                  Mumbai, Maharashtra   \n",
      "131                  Chennai, Tamil Nadu   \n",
      "135                 Noida, Uttar Pradesh   \n",
      "158           Thiruvananthapuram, Kerala   \n",
      "159                  Mumbai, Maharashtra   \n",
      "162                 Hyderabad, Telangana   \n",
      "173                 Hyderabad, Telangana   \n",
      "177                 Hyderabad, Telangana   \n",
      "184                 Bengaluru, Karnataka   \n",
      "198                  Chennai, Tamil Nadu   \n",
      "214                 Bengaluru, Karnataka   \n",
      "226                 Bengaluru, Karnataka   \n",
      "230                 Hyderabad, Telangana   \n",
      "231                  Chennai, Tamil Nadu   \n",
      "258                 Bengaluru, Karnataka   \n",
      "277                 Bengaluru, Karnataka   \n",
      "301                 Hyderabad, Telangana   \n",
      "311                                India   \n",
      "318                 Hyderabad, Telangana   \n",
      "\n",
      "                                               Summary  \\\n",
      "1    Basic knowledge of salesforce development (Ape...   \n",
      "7    Develop customized solutions within the Salesf...   \n",
      "8    3+ years of Salesforce application experience....   \n",
      "17   The CRM administrator will normally report to ...   \n",
      "18   Work alongside the Salesforce administrator to...   \n",
      "19   We are looking for strong Salesforce experienc...   \n",
      "33   Experience utilizing development frameworks an...   \n",
      "39   Salesforce trained freshers needed especially ...   \n",
      "45   Location : Remote working or also in nearshore...   \n",
      "51   Experience utilizing development frameworks an...   \n",
      "57   Salesforce trained freshers needed especially ...   \n",
      "58   Usually maps requirement of business to salesf...   \n",
      "60   Work alongside the Salesforce administrator to...   \n",
      "63   Serve as primary system administrator for the ...   \n",
      "69   Ten years of overall IT experience. 2 to 3 yea...   \n",
      "74   Must have Skills : Salesforce Good to Have Ski...   \n",
      "91   Must have Skills : Salesforce Good to Have Ski...   \n",
      "96   Certified Pardot & Salesforce Developer and ad...   \n",
      "100  Must have Skills : Salesforce Good to Have Ski...   \n",
      "112  This Client is experiencing tremendous growth ...   \n",
      "120  Must have Skills : Salesforce Good to Have Ski...   \n",
      "131  Excellent Opportunity to work with Us. Interna...   \n",
      "135  Ten years of overall IT experience. 2 to 3 yea...   \n",
      "158  Great opportunity to work for a leading global...   \n",
      "159  Work alongside the Salesforce administrator to...   \n",
      "162  Roles and responsibilities for Opportunity in ...   \n",
      "173  Roles and responsibilities for Immediate jobs ...   \n",
      "177  Ten years of overall IT experience. 2 to 3 yea...   \n",
      "184  Work Experience: 3 - 6 years of Salesforce.com...   \n",
      "198  Ten years of overall IT experience. 2 to 3 yea...   \n",
      "214  Ten years of overall IT experience. 2 to 3 yea...   \n",
      "226  O 3 plus salesforce certifications including A...   \n",
      "230  Roles and responsibilities for Maximo Jobs in ...   \n",
      "231  Required 10-15 years of Functional & Non-Funct...   \n",
      "258  Work Timings: 5:30Pm to 2:30Am IST. Work with ...   \n",
      "277  Coordinating all offshore efforts for support ...   \n",
      "301  Roles and responsibilities for Workday Core HC...   \n",
      "311  Roles and responsibilities for Urgent Requirem...   \n",
      "318  Roles and responsibilities for Java Enterprise...   \n",
      "\n",
      "                             Salary  \n",
      "1         ₹50,000 - ₹90,000 a month  \n",
      "7         ₹30,000 - ₹60,000 a month  \n",
      "8         ₹25,000 - ₹60,000 a month  \n",
      "17         ₹15,000 - ₹25,000 a year  \n",
      "18                  ₹75,000 a month  \n",
      "19     ₹2,00,000 - ₹7,00,000 a year  \n",
      "33                 ₹6,00,000 a year  \n",
      "39        ₹10,000 - ₹15,000 a month  \n",
      "45        ₹90,000 - ₹95,000 a month  \n",
      "51                 ₹6,00,000 a year  \n",
      "57        ₹10,000 - ₹15,000 a month  \n",
      "58                 ₹3,20,000 a year  \n",
      "60        ₹35,000 - ₹50,000 a month  \n",
      "63     ₹4,00,000 - ₹6,00,000 a year  \n",
      "69    ₹9,00,000 - ₹14,00,000 a year  \n",
      "74   ₹10,00,000 - ₹25,00,000 a year  \n",
      "91   ₹10,00,000 - ₹25,00,000 a year  \n",
      "96   ₹10,00,000 - ₹12,00,000 a year  \n",
      "100  ₹10,00,000 - ₹25,00,000 a year  \n",
      "112  ₹18,00,000 - ₹30,00,000 a year  \n",
      "120  ₹10,00,000 - ₹25,00,000 a year  \n",
      "131              ₹88 - ₹333 an hour  \n",
      "135   ₹9,00,000 - ₹14,00,000 a year  \n",
      "158   ₹9,00,000 - ₹10,00,000 a year  \n",
      "159       ₹35,000 - ₹50,000 a month  \n",
      "162  ₹10,00,000 - ₹25,00,000 a year  \n",
      "173  ₹10,00,000 - ₹25,00,000 a year  \n",
      "177   ₹9,00,000 - ₹14,00,000 a year  \n",
      "184   ₹3,00,000 - ₹10,00,000 a year  \n",
      "198   ₹9,00,000 - ₹14,00,000 a year  \n",
      "214   ₹9,00,000 - ₹14,00,000 a year  \n",
      "226               ₹10,00,000 a year  \n",
      "230  ₹10,00,000 - ₹25,00,000 a year  \n",
      "231  ₹20,00,000 - ₹25,00,000 a year  \n",
      "258  ₹10,00,000 - ₹22,00,000 a year  \n",
      "277    ₹1,00,000 - ₹1,40,000 a year  \n",
      "301  ₹10,00,000 - ₹25,00,000 a year  \n",
      "311  ₹10,00,000 - ₹25,00,000 a year  \n",
      "318  ₹10,00,000 - ₹25,00,000 a year  \n"
     ]
    }
   ],
   "source": [
    "print(df_admin)"
   ]
  },
  {
   "cell_type": "code",
   "execution_count": 536,
   "metadata": {},
   "outputs": [],
   "source": [
    "df_dev = pd.read_csv(r\"Salesforce_Developer.csv\")"
   ]
  },
  {
   "cell_type": "code",
   "execution_count": 537,
   "metadata": {},
   "outputs": [],
   "source": [
    "df_dev.dropna(axis=0, inplace=True)"
   ]
  },
  {
   "cell_type": "code",
   "execution_count": 538,
   "metadata": {},
   "outputs": [
    {
     "name": "stdout",
     "output_type": "stream",
     "text": [
      "<class 'pandas.core.frame.DataFrame'>\n",
      "Int64Index: 248 entries, 0 to 1013\n",
      "Data columns (total 5 columns):\n",
      " #   Column    Non-Null Count  Dtype \n",
      "---  ------    --------------  ----- \n",
      " 0   JobTitle  248 non-null    object\n",
      " 1   Company   248 non-null    object\n",
      " 2   Location  248 non-null    object\n",
      " 3   Summary   248 non-null    object\n",
      " 4   Salary    248 non-null    object\n",
      "dtypes: object(5)\n",
      "memory usage: 11.6+ KB\n"
     ]
    }
   ],
   "source": [
    "df_dev.info()"
   ]
  },
  {
   "cell_type": "code",
   "execution_count": 539,
   "metadata": {},
   "outputs": [],
   "source": [
    "df_Architect = pd.read_csv(r\"Salesforce_Architect.csv\")"
   ]
  },
  {
   "cell_type": "code",
   "execution_count": 540,
   "metadata": {},
   "outputs": [],
   "source": [
    "df_Architect.dropna(axis=0, inplace=True)"
   ]
  },
  {
   "cell_type": "code",
   "execution_count": 541,
   "metadata": {},
   "outputs": [
    {
     "name": "stdout",
     "output_type": "stream",
     "text": [
      "<class 'pandas.core.frame.DataFrame'>\n",
      "Int64Index: 74 entries, 4 to 556\n",
      "Data columns (total 5 columns):\n",
      " #   Column    Non-Null Count  Dtype \n",
      "---  ------    --------------  ----- \n",
      " 0   JobTitle  74 non-null     object\n",
      " 1   Company   74 non-null     object\n",
      " 2   Location  74 non-null     object\n",
      " 3   Summary   74 non-null     object\n",
      " 4   Salary    74 non-null     object\n",
      "dtypes: object(5)\n",
      "memory usage: 3.5+ KB\n"
     ]
    }
   ],
   "source": [
    "df_Architect.info()"
   ]
  },
  {
   "cell_type": "code",
   "execution_count": 542,
   "metadata": {},
   "outputs": [],
   "source": [
    "df_manager = pd.read_csv(r\"Salesforce_Manage.csv\", encoding='cp1252')"
   ]
  },
  {
   "cell_type": "code",
   "execution_count": 543,
   "metadata": {},
   "outputs": [
    {
     "name": "stdout",
     "output_type": "stream",
     "text": [
      "<class 'pandas.core.frame.DataFrame'>\n",
      "RangeIndex: 1010 entries, 0 to 1009\n",
      "Data columns (total 5 columns):\n",
      " #   Column    Non-Null Count  Dtype \n",
      "---  ------    --------------  ----- \n",
      " 0   JobTitle  1010 non-null   object\n",
      " 1   Company   1010 non-null   object\n",
      " 2   Location  1010 non-null   object\n",
      " 3   Summary   1010 non-null   object\n",
      " 4   Salary    115 non-null    object\n",
      "dtypes: object(5)\n",
      "memory usage: 39.6+ KB\n"
     ]
    }
   ],
   "source": [
    "df_manager.info()"
   ]
  },
  {
   "cell_type": "code",
   "execution_count": 544,
   "metadata": {},
   "outputs": [],
   "source": [
    "df_manager.dropna(axis=0, inplace=True)"
   ]
  },
  {
   "cell_type": "code",
   "execution_count": 545,
   "metadata": {},
   "outputs": [
    {
     "name": "stdout",
     "output_type": "stream",
     "text": [
      "<class 'pandas.core.frame.DataFrame'>\n",
      "Int64Index: 115 entries, 2 to 987\n",
      "Data columns (total 5 columns):\n",
      " #   Column    Non-Null Count  Dtype \n",
      "---  ------    --------------  ----- \n",
      " 0   JobTitle  115 non-null    object\n",
      " 1   Company   115 non-null    object\n",
      " 2   Location  115 non-null    object\n",
      " 3   Summary   115 non-null    object\n",
      " 4   Salary    115 non-null    object\n",
      "dtypes: object(5)\n",
      "memory usage: 5.4+ KB\n"
     ]
    }
   ],
   "source": [
    "df_manager.info()"
   ]
  },
  {
   "cell_type": "code",
   "execution_count": 546,
   "metadata": {},
   "outputs": [],
   "source": [
    "df_BA = pd.read_csv(r\"Salesforce_BA.csv\", encoding='cp1252')"
   ]
  },
  {
   "cell_type": "code",
   "execution_count": 547,
   "metadata": {},
   "outputs": [],
   "source": [
    "df_BA.dropna(inplace = True, axis =0)"
   ]
  },
  {
   "cell_type": "code",
   "execution_count": 548,
   "metadata": {},
   "outputs": [
    {
     "name": "stdout",
     "output_type": "stream",
     "text": [
      "<class 'pandas.core.frame.DataFrame'>\n",
      "Int64Index: 33 entries, 1 to 543\n",
      "Data columns (total 5 columns):\n",
      " #   Column    Non-Null Count  Dtype \n",
      "---  ------    --------------  ----- \n",
      " 0   JobTitle  33 non-null     object\n",
      " 1   Company   33 non-null     object\n",
      " 2   Location  33 non-null     object\n",
      " 3   Summary   33 non-null     object\n",
      " 4   Salary    33 non-null     object\n",
      "dtypes: object(5)\n",
      "memory usage: 1.5+ KB\n"
     ]
    }
   ],
   "source": [
    "df_BA.info()"
   ]
  },
  {
   "cell_type": "code",
   "execution_count": 549,
   "metadata": {},
   "outputs": [],
   "source": [
    "## Get all dataframes together"
   ]
  },
  {
   "cell_type": "code",
   "execution_count": 550,
   "metadata": {},
   "outputs": [],
   "source": [
    "df = pd.concat([df_admin,df_manager,df_dev,df_Architect,df_BA], axis =0).drop_duplicates()"
   ]
  },
  {
   "cell_type": "code",
   "execution_count": 551,
   "metadata": {},
   "outputs": [
    {
     "name": "stdout",
     "output_type": "stream",
     "text": [
      "<class 'pandas.core.frame.DataFrame'>\n",
      "Int64Index: 426 entries, 1 to 543\n",
      "Data columns (total 5 columns):\n",
      " #   Column    Non-Null Count  Dtype \n",
      "---  ------    --------------  ----- \n",
      " 0   JobTitle  426 non-null    object\n",
      " 1   Company   426 non-null    object\n",
      " 2   Location  426 non-null    object\n",
      " 3   Summary   426 non-null    object\n",
      " 4   Salary    426 non-null    object\n",
      "dtypes: object(5)\n",
      "memory usage: 20.0+ KB\n"
     ]
    }
   ],
   "source": [
    "df.info()"
   ]
  },
  {
   "cell_type": "code",
   "execution_count": 552,
   "metadata": {},
   "outputs": [
    {
     "data": {
      "text/plain": [
       "JobTitle                                                Company                                        Location                     Summary                                                                                                                                                            Salary                        \n",
       "sr Salesforce associate developer                       ANI Calls India Private Limited                Mumbai, Maharashtra          Ten years of overall IT experience. 2 to 3 years' Experience as a Salesforce Technical Lead or Senior Developer in a fast-paced environment.                       ₹9,00,000 - ₹14,00,000 a year     1\n",
       "MuleSoft Developer                                      Vibrantzz Management Services                  Bengaluru, Karnataka         Mulesoft Developer required for International IT Company. Candidate with Graduate from IT Background can apply for this job. Should have Mule ESB experience.      ₹10,00,000 - ₹15,00,000 a year    1\n",
       "MuleSoft Lead/ Architect                                Apisero                                        Bengaluru, Karnataka         The Apiseroian would be actively involved in field activities with clients by shadowing seasoned architects and practicing enablement gained from training.        ₹7,44,067 - ₹21,91,171 a year     1\n",
       "Mulesoft Cloudhub Jobs in Pune                          ICS Consultancy Services                       Pune, Maharashtra            Must have Skills : Mulesoft Cloudhub Good to Have Skills : No Technology Specialty Job Requirements : Key Responsibilities : a Responsible for RAML designs and…   ?10,00,000 - ?25,00,000 a year    1\n",
       "Mulesoft Cloudhub Openings in Pune                      ICS Consultancy Services                       Pune, Maharashtra            Must have Skills : Mulesoft Cloudhub Good to Have Skills : No Technology Specialty Job Requirements : Key Responsibilities : a Responsible for RAML designs and…   ?10,00,000 - ?25,00,000 a year    1\n",
       "                                                                                                                                                                                                                                                                                                                                        ..\n",
       "Salesforce Developer with Lightning/LWC/Apex            Maxify Digital                                 Noida, Uttar Pradesh         Work closely with customers, business analysts, user interaction designers, and other software engineers to develop new solutions and improve existing ones.       ?3,00,000 - ?13,00,000 a year     1\n",
       "Salesforce Developer(ERP)-CORE JAVA,HTML,CSS, Servlets  Razor sharp HR and Consulting Private Limited  Coimbatore, Tamil Nadu       Qualification: BE/B.Tech/MCA/M.Sc/M. Tech from a reputed university. Experience: 2-3 YEARS experience with Java Web Application Development Out of which 1-2…      ₹7,00,000 - ₹14,00,000 a year     1\n",
       "Salesforce Developer- Apex/Visual Force                 CloudVandana Solutions                         Delhi, Delhi                 Senior Salesforce Developer* will work with business and technology partners to maintain and enhance the Customer Relationship Management system (Salesforce.com…  ₹25,000 - ₹70,000 a month         1\n",
       "Salesforce Developer- Servicemax                        MicroSan Consultancy Services                  Thiruvananthapuram, Kerala   Overall 4+ years of experience. Min 2+ years experience on SFDC, Service Max, Service Cloud. Job Types: Full-time, Contract. Total work: 4 years (Preferred).      ₹40,000 - ₹50,000 a month         1\n",
       "1. Sales Force Lightning + MuleSoft Developer           ABTECH Software Solutions                      Alwal, Hyderabad, Telangana  ABTECH Solutions is a leading global professional services company, providing a broad range of services in strategy and consulting, interactive, technology and…   ₹90,000 a year                    1\n",
       "Length: 426, dtype: int64"
      ]
     },
     "execution_count": 552,
     "metadata": {},
     "output_type": "execute_result"
    }
   ],
   "source": [
    "df.value_counts()"
   ]
  },
  {
   "cell_type": "code",
   "execution_count": 553,
   "metadata": {},
   "outputs": [
    {
     "data": {
      "text/plain": [
       "(426, 5)"
      ]
     },
     "execution_count": 553,
     "metadata": {},
     "output_type": "execute_result"
    }
   ],
   "source": [
    "df.shape"
   ]
  },
  {
   "cell_type": "code",
   "execution_count": 554,
   "metadata": {},
   "outputs": [],
   "source": [
    "### Format the salary"
   ]
  },
  {
   "cell_type": "code",
   "execution_count": 555,
   "metadata": {},
   "outputs": [
    {
     "data": {
      "text/html": [
       "<div>\n",
       "<style scoped>\n",
       "    .dataframe tbody tr th:only-of-type {\n",
       "        vertical-align: middle;\n",
       "    }\n",
       "\n",
       "    .dataframe tbody tr th {\n",
       "        vertical-align: top;\n",
       "    }\n",
       "\n",
       "    .dataframe thead th {\n",
       "        text-align: right;\n",
       "    }\n",
       "</style>\n",
       "<table border=\"1\" class=\"dataframe\">\n",
       "  <thead>\n",
       "    <tr style=\"text-align: right;\">\n",
       "      <th></th>\n",
       "      <th>JobTitle</th>\n",
       "      <th>Company</th>\n",
       "      <th>Location</th>\n",
       "      <th>Summary</th>\n",
       "      <th>Salary</th>\n",
       "    </tr>\n",
       "  </thead>\n",
       "  <tbody>\n",
       "    <tr>\n",
       "      <th>1</th>\n",
       "      <td>Salesforce Administrator_ Pune Location</td>\n",
       "      <td>Spadeworx software Services</td>\n",
       "      <td>Pune, Maharashtra</td>\n",
       "      <td>Basic knowledge of salesforce development (Ape...</td>\n",
       "      <td>₹50,000 - ₹90,000 a month</td>\n",
       "    </tr>\n",
       "    <tr>\n",
       "      <th>7</th>\n",
       "      <td>Salesforce Administrator/Developer</td>\n",
       "      <td>221 B Baker ST</td>\n",
       "      <td>Salt Lake City, West Bengal</td>\n",
       "      <td>Develop customized solutions within the Salesf...</td>\n",
       "      <td>₹30,000 - ₹60,000 a month</td>\n",
       "    </tr>\n",
       "    <tr>\n",
       "      <th>8</th>\n",
       "      <td>Salesforce Developer/Administrator</td>\n",
       "      <td>Appletech</td>\n",
       "      <td>Vadodara, Gujarat</td>\n",
       "      <td>3+ years of Salesforce application experience....</td>\n",
       "      <td>₹25,000 - ₹60,000 a month</td>\n",
       "    </tr>\n",
       "    <tr>\n",
       "      <th>17</th>\n",
       "      <td>ZOHO CRM Administrator</td>\n",
       "      <td>Elegant International</td>\n",
       "      <td>Jaipur, Rajasthan</td>\n",
       "      <td>The CRM administrator will normally report to ...</td>\n",
       "      <td>₹15,000 - ₹25,000 a year</td>\n",
       "    </tr>\n",
       "    <tr>\n",
       "      <th>18</th>\n",
       "      <td>Salesforce marketing cloud</td>\n",
       "      <td>GeniusU Web Services pvt ltd</td>\n",
       "      <td>Mumbai, Maharashtra</td>\n",
       "      <td>Work alongside the Salesforce administrator to...</td>\n",
       "      <td>₹75,000 a month</td>\n",
       "    </tr>\n",
       "  </tbody>\n",
       "</table>\n",
       "</div>"
      ],
      "text/plain": [
       "                                   JobTitle                       Company  \\\n",
       "1   Salesforce Administrator_ Pune Location   Spadeworx software Services   \n",
       "7        Salesforce Administrator/Developer                221 B Baker ST   \n",
       "8        Salesforce Developer/Administrator                     Appletech   \n",
       "17                   ZOHO CRM Administrator         Elegant International   \n",
       "18               Salesforce marketing cloud  GeniusU Web Services pvt ltd   \n",
       "\n",
       "                       Location  \\\n",
       "1             Pune, Maharashtra   \n",
       "7   Salt Lake City, West Bengal   \n",
       "8             Vadodara, Gujarat   \n",
       "17            Jaipur, Rajasthan   \n",
       "18          Mumbai, Maharashtra   \n",
       "\n",
       "                                              Summary  \\\n",
       "1   Basic knowledge of salesforce development (Ape...   \n",
       "7   Develop customized solutions within the Salesf...   \n",
       "8   3+ years of Salesforce application experience....   \n",
       "17  The CRM administrator will normally report to ...   \n",
       "18  Work alongside the Salesforce administrator to...   \n",
       "\n",
       "                       Salary  \n",
       "1   ₹50,000 - ₹90,000 a month  \n",
       "7   ₹30,000 - ₹60,000 a month  \n",
       "8   ₹25,000 - ₹60,000 a month  \n",
       "17   ₹15,000 - ₹25,000 a year  \n",
       "18            ₹75,000 a month  "
      ]
     },
     "execution_count": 555,
     "metadata": {},
     "output_type": "execute_result"
    }
   ],
   "source": [
    "df.head()"
   ]
  },
  {
   "cell_type": "code",
   "execution_count": 556,
   "metadata": {},
   "outputs": [],
   "source": [
    "df['monthly'] = df['Salary'].apply(lambda x: 1 if 'a month' in x.lower() else 0)"
   ]
  },
  {
   "cell_type": "code",
   "execution_count": 557,
   "metadata": {},
   "outputs": [],
   "source": [
    "def format_salary(row):\n",
    "    salary = row[\"Salary\"]\n",
    "    if \"-\" in salary:\n",
    "        split = salary.split(\"-\")\n",
    "        salary_min = split[0]\n",
    "        salary_max = split[1]\n",
    "       \n",
    "    else:\n",
    "        salary_min = salary\n",
    "        salary_max = salary\n",
    "    \n",
    "    row[\"salary_min\"] = salary_min.replace(\"₹\",\"\").replace(\"a month\",\"\").replace(\"a year\",\"\").replace(\",\",\"\").replace('?','').replace(' ?','')\n",
    "    row[\"salary_max\"] = salary_max.replace(\"₹\",\"\").replace(\"a month\",\"\").replace(\"a year\",\"\").replace(\",\",\"\").replace('?','').replace('an hour','')\n",
    "       \n",
    "    return row\n",
    "\n",
    "\n",
    "df = df.apply(format_salary, axis=1) \n",
    "\n"
   ]
  },
  {
   "cell_type": "code",
   "execution_count": 558,
   "metadata": {},
   "outputs": [
    {
     "data": {
      "text/html": [
       "<div>\n",
       "<style scoped>\n",
       "    .dataframe tbody tr th:only-of-type {\n",
       "        vertical-align: middle;\n",
       "    }\n",
       "\n",
       "    .dataframe tbody tr th {\n",
       "        vertical-align: top;\n",
       "    }\n",
       "\n",
       "    .dataframe thead th {\n",
       "        text-align: right;\n",
       "    }\n",
       "</style>\n",
       "<table border=\"1\" class=\"dataframe\">\n",
       "  <thead>\n",
       "    <tr style=\"text-align: right;\">\n",
       "      <th></th>\n",
       "      <th>JobTitle</th>\n",
       "      <th>Company</th>\n",
       "      <th>Location</th>\n",
       "      <th>Summary</th>\n",
       "      <th>Salary</th>\n",
       "      <th>monthly</th>\n",
       "      <th>salary_min</th>\n",
       "      <th>salary_max</th>\n",
       "    </tr>\n",
       "  </thead>\n",
       "  <tbody>\n",
       "    <tr>\n",
       "      <th>1</th>\n",
       "      <td>Salesforce Administrator_ Pune Location</td>\n",
       "      <td>Spadeworx software Services</td>\n",
       "      <td>Pune, Maharashtra</td>\n",
       "      <td>Basic knowledge of salesforce development (Ape...</td>\n",
       "      <td>₹50,000 - ₹90,000 a month</td>\n",
       "      <td>1</td>\n",
       "      <td>50000</td>\n",
       "      <td>90000</td>\n",
       "    </tr>\n",
       "    <tr>\n",
       "      <th>7</th>\n",
       "      <td>Salesforce Administrator/Developer</td>\n",
       "      <td>221 B Baker ST</td>\n",
       "      <td>Salt Lake City, West Bengal</td>\n",
       "      <td>Develop customized solutions within the Salesf...</td>\n",
       "      <td>₹30,000 - ₹60,000 a month</td>\n",
       "      <td>1</td>\n",
       "      <td>30000</td>\n",
       "      <td>60000</td>\n",
       "    </tr>\n",
       "    <tr>\n",
       "      <th>8</th>\n",
       "      <td>Salesforce Developer/Administrator</td>\n",
       "      <td>Appletech</td>\n",
       "      <td>Vadodara, Gujarat</td>\n",
       "      <td>3+ years of Salesforce application experience....</td>\n",
       "      <td>₹25,000 - ₹60,000 a month</td>\n",
       "      <td>1</td>\n",
       "      <td>25000</td>\n",
       "      <td>60000</td>\n",
       "    </tr>\n",
       "    <tr>\n",
       "      <th>17</th>\n",
       "      <td>ZOHO CRM Administrator</td>\n",
       "      <td>Elegant International</td>\n",
       "      <td>Jaipur, Rajasthan</td>\n",
       "      <td>The CRM administrator will normally report to ...</td>\n",
       "      <td>₹15,000 - ₹25,000 a year</td>\n",
       "      <td>0</td>\n",
       "      <td>15000</td>\n",
       "      <td>25000</td>\n",
       "    </tr>\n",
       "    <tr>\n",
       "      <th>18</th>\n",
       "      <td>Salesforce marketing cloud</td>\n",
       "      <td>GeniusU Web Services pvt ltd</td>\n",
       "      <td>Mumbai, Maharashtra</td>\n",
       "      <td>Work alongside the Salesforce administrator to...</td>\n",
       "      <td>₹75,000 a month</td>\n",
       "      <td>1</td>\n",
       "      <td>75000</td>\n",
       "      <td>75000</td>\n",
       "    </tr>\n",
       "  </tbody>\n",
       "</table>\n",
       "</div>"
      ],
      "text/plain": [
       "                                   JobTitle                       Company  \\\n",
       "1   Salesforce Administrator_ Pune Location   Spadeworx software Services   \n",
       "7        Salesforce Administrator/Developer                221 B Baker ST   \n",
       "8        Salesforce Developer/Administrator                     Appletech   \n",
       "17                   ZOHO CRM Administrator         Elegant International   \n",
       "18               Salesforce marketing cloud  GeniusU Web Services pvt ltd   \n",
       "\n",
       "                       Location  \\\n",
       "1             Pune, Maharashtra   \n",
       "7   Salt Lake City, West Bengal   \n",
       "8             Vadodara, Gujarat   \n",
       "17            Jaipur, Rajasthan   \n",
       "18          Mumbai, Maharashtra   \n",
       "\n",
       "                                              Summary  \\\n",
       "1   Basic knowledge of salesforce development (Ape...   \n",
       "7   Develop customized solutions within the Salesf...   \n",
       "8   3+ years of Salesforce application experience....   \n",
       "17  The CRM administrator will normally report to ...   \n",
       "18  Work alongside the Salesforce administrator to...   \n",
       "\n",
       "                       Salary  monthly salary_min salary_max  \n",
       "1   ₹50,000 - ₹90,000 a month        1     50000      90000   \n",
       "7   ₹30,000 - ₹60,000 a month        1     30000      60000   \n",
       "8   ₹25,000 - ₹60,000 a month        1     25000      60000   \n",
       "17   ₹15,000 - ₹25,000 a year        0     15000      25000   \n",
       "18            ₹75,000 a month        1     75000      75000   "
      ]
     },
     "execution_count": 558,
     "metadata": {},
     "output_type": "execute_result"
    }
   ],
   "source": [
    "df.head()"
   ]
  },
  {
   "cell_type": "code",
   "execution_count": 559,
   "metadata": {},
   "outputs": [
    {
     "name": "stdout",
     "output_type": "stream",
     "text": [
      "<class 'pandas.core.frame.DataFrame'>\n",
      "Int64Index: 426 entries, 1 to 543\n",
      "Data columns (total 8 columns):\n",
      " #   Column      Non-Null Count  Dtype \n",
      "---  ------      --------------  ----- \n",
      " 0   JobTitle    426 non-null    object\n",
      " 1   Company     426 non-null    object\n",
      " 2   Location    426 non-null    object\n",
      " 3   Summary     426 non-null    object\n",
      " 4   Salary      426 non-null    object\n",
      " 5   monthly     426 non-null    int64 \n",
      " 6   salary_min  426 non-null    object\n",
      " 7   salary_max  426 non-null    object\n",
      "dtypes: int64(1), object(7)\n",
      "memory usage: 30.0+ KB\n"
     ]
    }
   ],
   "source": [
    "df.info()"
   ]
  },
  {
   "cell_type": "code",
   "execution_count": 560,
   "metadata": {},
   "outputs": [],
   "source": [
    "def salary_multiply(row):\n",
    "    monthly = row[\"monthly\"] \n",
    "    if monthly == True:\n",
    "        \n",
    "        row[\"salary_min\"] = int(row[\"salary_min\"])*12\n",
    "        row[\"salary_max\"] = int(row[\"salary_max\"])*12\n",
    "       \n",
    "    return row\n",
    "\n",
    "\n",
    "df = df.apply(salary_multiply, axis=1) "
   ]
  },
  {
   "cell_type": "code",
   "execution_count": 561,
   "metadata": {},
   "outputs": [
    {
     "data": {
      "text/html": [
       "<div>\n",
       "<style scoped>\n",
       "    .dataframe tbody tr th:only-of-type {\n",
       "        vertical-align: middle;\n",
       "    }\n",
       "\n",
       "    .dataframe tbody tr th {\n",
       "        vertical-align: top;\n",
       "    }\n",
       "\n",
       "    .dataframe thead th {\n",
       "        text-align: right;\n",
       "    }\n",
       "</style>\n",
       "<table border=\"1\" class=\"dataframe\">\n",
       "  <thead>\n",
       "    <tr style=\"text-align: right;\">\n",
       "      <th></th>\n",
       "      <th>JobTitle</th>\n",
       "      <th>Company</th>\n",
       "      <th>Location</th>\n",
       "      <th>Summary</th>\n",
       "      <th>Salary</th>\n",
       "      <th>monthly</th>\n",
       "      <th>salary_min</th>\n",
       "      <th>salary_max</th>\n",
       "    </tr>\n",
       "  </thead>\n",
       "  <tbody>\n",
       "    <tr>\n",
       "      <th>1</th>\n",
       "      <td>Salesforce Administrator_ Pune Location</td>\n",
       "      <td>Spadeworx software Services</td>\n",
       "      <td>Pune, Maharashtra</td>\n",
       "      <td>Basic knowledge of salesforce development (Ape...</td>\n",
       "      <td>₹50,000 - ₹90,000 a month</td>\n",
       "      <td>1</td>\n",
       "      <td>600000</td>\n",
       "      <td>1080000</td>\n",
       "    </tr>\n",
       "    <tr>\n",
       "      <th>7</th>\n",
       "      <td>Salesforce Administrator/Developer</td>\n",
       "      <td>221 B Baker ST</td>\n",
       "      <td>Salt Lake City, West Bengal</td>\n",
       "      <td>Develop customized solutions within the Salesf...</td>\n",
       "      <td>₹30,000 - ₹60,000 a month</td>\n",
       "      <td>1</td>\n",
       "      <td>360000</td>\n",
       "      <td>720000</td>\n",
       "    </tr>\n",
       "    <tr>\n",
       "      <th>8</th>\n",
       "      <td>Salesforce Developer/Administrator</td>\n",
       "      <td>Appletech</td>\n",
       "      <td>Vadodara, Gujarat</td>\n",
       "      <td>3+ years of Salesforce application experience....</td>\n",
       "      <td>₹25,000 - ₹60,000 a month</td>\n",
       "      <td>1</td>\n",
       "      <td>300000</td>\n",
       "      <td>720000</td>\n",
       "    </tr>\n",
       "    <tr>\n",
       "      <th>17</th>\n",
       "      <td>ZOHO CRM Administrator</td>\n",
       "      <td>Elegant International</td>\n",
       "      <td>Jaipur, Rajasthan</td>\n",
       "      <td>The CRM administrator will normally report to ...</td>\n",
       "      <td>₹15,000 - ₹25,000 a year</td>\n",
       "      <td>0</td>\n",
       "      <td>15000</td>\n",
       "      <td>25000</td>\n",
       "    </tr>\n",
       "    <tr>\n",
       "      <th>18</th>\n",
       "      <td>Salesforce marketing cloud</td>\n",
       "      <td>GeniusU Web Services pvt ltd</td>\n",
       "      <td>Mumbai, Maharashtra</td>\n",
       "      <td>Work alongside the Salesforce administrator to...</td>\n",
       "      <td>₹75,000 a month</td>\n",
       "      <td>1</td>\n",
       "      <td>900000</td>\n",
       "      <td>900000</td>\n",
       "    </tr>\n",
       "  </tbody>\n",
       "</table>\n",
       "</div>"
      ],
      "text/plain": [
       "                                   JobTitle                       Company  \\\n",
       "1   Salesforce Administrator_ Pune Location   Spadeworx software Services   \n",
       "7        Salesforce Administrator/Developer                221 B Baker ST   \n",
       "8        Salesforce Developer/Administrator                     Appletech   \n",
       "17                   ZOHO CRM Administrator         Elegant International   \n",
       "18               Salesforce marketing cloud  GeniusU Web Services pvt ltd   \n",
       "\n",
       "                       Location  \\\n",
       "1             Pune, Maharashtra   \n",
       "7   Salt Lake City, West Bengal   \n",
       "8             Vadodara, Gujarat   \n",
       "17            Jaipur, Rajasthan   \n",
       "18          Mumbai, Maharashtra   \n",
       "\n",
       "                                              Summary  \\\n",
       "1   Basic knowledge of salesforce development (Ape...   \n",
       "7   Develop customized solutions within the Salesf...   \n",
       "8   3+ years of Salesforce application experience....   \n",
       "17  The CRM administrator will normally report to ...   \n",
       "18  Work alongside the Salesforce administrator to...   \n",
       "\n",
       "                       Salary  monthly salary_min salary_max  \n",
       "1   ₹50,000 - ₹90,000 a month        1     600000    1080000  \n",
       "7   ₹30,000 - ₹60,000 a month        1     360000     720000  \n",
       "8   ₹25,000 - ₹60,000 a month        1     300000     720000  \n",
       "17   ₹15,000 - ₹25,000 a year        0     15000      25000   \n",
       "18            ₹75,000 a month        1     900000     900000  "
      ]
     },
     "execution_count": 561,
     "metadata": {},
     "output_type": "execute_result"
    }
   ],
   "source": [
    "df.head()"
   ]
  },
  {
   "cell_type": "code",
   "execution_count": 562,
   "metadata": {},
   "outputs": [],
   "source": [
    "def salary_tax(row):\n",
    "    if (int(row[\"salary_min\"]) > 500000) & (int(row[\"salary_min\"]) < 800000):\n",
    "        row[\"salary_min\"] = int(row[\"salary_min\"])*1.25\n",
    "        \n",
    "    elif (int(row[\"salary_min\"]) > 800000):\n",
    "            row[\"salary_min\"] = int(row[\"salary_min\"])*1.43\n",
    "            \n",
    "    return row\n",
    "\n",
    "df = df.apply(salary_tax, axis=1) "
   ]
  },
  {
   "cell_type": "code",
   "execution_count": 563,
   "metadata": {},
   "outputs": [
    {
     "data": {
      "text/html": [
       "<div>\n",
       "<style scoped>\n",
       "    .dataframe tbody tr th:only-of-type {\n",
       "        vertical-align: middle;\n",
       "    }\n",
       "\n",
       "    .dataframe tbody tr th {\n",
       "        vertical-align: top;\n",
       "    }\n",
       "\n",
       "    .dataframe thead th {\n",
       "        text-align: right;\n",
       "    }\n",
       "</style>\n",
       "<table border=\"1\" class=\"dataframe\">\n",
       "  <thead>\n",
       "    <tr style=\"text-align: right;\">\n",
       "      <th></th>\n",
       "      <th>JobTitle</th>\n",
       "      <th>Company</th>\n",
       "      <th>Location</th>\n",
       "      <th>Summary</th>\n",
       "      <th>Salary</th>\n",
       "      <th>monthly</th>\n",
       "      <th>salary_min</th>\n",
       "      <th>salary_max</th>\n",
       "    </tr>\n",
       "  </thead>\n",
       "  <tbody>\n",
       "    <tr>\n",
       "      <th>1</th>\n",
       "      <td>Salesforce Administrator_ Pune Location</td>\n",
       "      <td>Spadeworx software Services</td>\n",
       "      <td>Pune, Maharashtra</td>\n",
       "      <td>Basic knowledge of salesforce development (Ape...</td>\n",
       "      <td>₹50,000 - ₹90,000 a month</td>\n",
       "      <td>1</td>\n",
       "      <td>750000</td>\n",
       "      <td>1080000</td>\n",
       "    </tr>\n",
       "    <tr>\n",
       "      <th>7</th>\n",
       "      <td>Salesforce Administrator/Developer</td>\n",
       "      <td>221 B Baker ST</td>\n",
       "      <td>Salt Lake City, West Bengal</td>\n",
       "      <td>Develop customized solutions within the Salesf...</td>\n",
       "      <td>₹30,000 - ₹60,000 a month</td>\n",
       "      <td>1</td>\n",
       "      <td>360000</td>\n",
       "      <td>720000</td>\n",
       "    </tr>\n",
       "    <tr>\n",
       "      <th>8</th>\n",
       "      <td>Salesforce Developer/Administrator</td>\n",
       "      <td>Appletech</td>\n",
       "      <td>Vadodara, Gujarat</td>\n",
       "      <td>3+ years of Salesforce application experience....</td>\n",
       "      <td>₹25,000 - ₹60,000 a month</td>\n",
       "      <td>1</td>\n",
       "      <td>300000</td>\n",
       "      <td>720000</td>\n",
       "    </tr>\n",
       "    <tr>\n",
       "      <th>17</th>\n",
       "      <td>ZOHO CRM Administrator</td>\n",
       "      <td>Elegant International</td>\n",
       "      <td>Jaipur, Rajasthan</td>\n",
       "      <td>The CRM administrator will normally report to ...</td>\n",
       "      <td>₹15,000 - ₹25,000 a year</td>\n",
       "      <td>0</td>\n",
       "      <td>15000</td>\n",
       "      <td>25000</td>\n",
       "    </tr>\n",
       "    <tr>\n",
       "      <th>18</th>\n",
       "      <td>Salesforce marketing cloud</td>\n",
       "      <td>GeniusU Web Services pvt ltd</td>\n",
       "      <td>Mumbai, Maharashtra</td>\n",
       "      <td>Work alongside the Salesforce administrator to...</td>\n",
       "      <td>₹75,000 a month</td>\n",
       "      <td>1</td>\n",
       "      <td>1.287e+06</td>\n",
       "      <td>900000</td>\n",
       "    </tr>\n",
       "  </tbody>\n",
       "</table>\n",
       "</div>"
      ],
      "text/plain": [
       "                                   JobTitle                       Company  \\\n",
       "1   Salesforce Administrator_ Pune Location   Spadeworx software Services   \n",
       "7        Salesforce Administrator/Developer                221 B Baker ST   \n",
       "8        Salesforce Developer/Administrator                     Appletech   \n",
       "17                   ZOHO CRM Administrator         Elegant International   \n",
       "18               Salesforce marketing cloud  GeniusU Web Services pvt ltd   \n",
       "\n",
       "                       Location  \\\n",
       "1             Pune, Maharashtra   \n",
       "7   Salt Lake City, West Bengal   \n",
       "8             Vadodara, Gujarat   \n",
       "17            Jaipur, Rajasthan   \n",
       "18          Mumbai, Maharashtra   \n",
       "\n",
       "                                              Summary  \\\n",
       "1   Basic knowledge of salesforce development (Ape...   \n",
       "7   Develop customized solutions within the Salesf...   \n",
       "8   3+ years of Salesforce application experience....   \n",
       "17  The CRM administrator will normally report to ...   \n",
       "18  Work alongside the Salesforce administrator to...   \n",
       "\n",
       "                       Salary  monthly salary_min salary_max  \n",
       "1   ₹50,000 - ₹90,000 a month        1     750000    1080000  \n",
       "7   ₹30,000 - ₹60,000 a month        1     360000     720000  \n",
       "8   ₹25,000 - ₹60,000 a month        1     300000     720000  \n",
       "17   ₹15,000 - ₹25,000 a year        0     15000      25000   \n",
       "18            ₹75,000 a month        1  1.287e+06     900000  "
      ]
     },
     "execution_count": 563,
     "metadata": {},
     "output_type": "execute_result"
    }
   ],
   "source": [
    "df.head()"
   ]
  },
  {
   "cell_type": "code",
   "execution_count": 564,
   "metadata": {},
   "outputs": [],
   "source": [
    "def salary_tax_max(row):\n",
    "    if (int(row[\"salary_max\"]) > 500000) & (int(row[\"salary_max\"]) < 800000):\n",
    "        row[\"salary_max\"] = int(row[\"salary_max\"])*1.25\n",
    "        \n",
    "    elif (int(row[\"salary_max\"]) > 800000):\n",
    "            row[\"salary_max\"] = int(row[\"salary_max\"])*1.43\n",
    "            \n",
    "    return row\n",
    "\n",
    "df = df.apply(salary_tax_max, axis=1) "
   ]
  },
  {
   "cell_type": "code",
   "execution_count": 565,
   "metadata": {},
   "outputs": [
    {
     "data": {
      "text/html": [
       "<div>\n",
       "<style scoped>\n",
       "    .dataframe tbody tr th:only-of-type {\n",
       "        vertical-align: middle;\n",
       "    }\n",
       "\n",
       "    .dataframe tbody tr th {\n",
       "        vertical-align: top;\n",
       "    }\n",
       "\n",
       "    .dataframe thead th {\n",
       "        text-align: right;\n",
       "    }\n",
       "</style>\n",
       "<table border=\"1\" class=\"dataframe\">\n",
       "  <thead>\n",
       "    <tr style=\"text-align: right;\">\n",
       "      <th></th>\n",
       "      <th>JobTitle</th>\n",
       "      <th>Company</th>\n",
       "      <th>Location</th>\n",
       "      <th>Summary</th>\n",
       "      <th>Salary</th>\n",
       "      <th>monthly</th>\n",
       "      <th>salary_min</th>\n",
       "      <th>salary_max</th>\n",
       "    </tr>\n",
       "  </thead>\n",
       "  <tbody>\n",
       "    <tr>\n",
       "      <th>1</th>\n",
       "      <td>Salesforce Administrator_ Pune Location</td>\n",
       "      <td>Spadeworx software Services</td>\n",
       "      <td>Pune, Maharashtra</td>\n",
       "      <td>Basic knowledge of salesforce development (Ape...</td>\n",
       "      <td>₹50,000 - ₹90,000 a month</td>\n",
       "      <td>1</td>\n",
       "      <td>750000</td>\n",
       "      <td>1.5444e+06</td>\n",
       "    </tr>\n",
       "    <tr>\n",
       "      <th>7</th>\n",
       "      <td>Salesforce Administrator/Developer</td>\n",
       "      <td>221 B Baker ST</td>\n",
       "      <td>Salt Lake City, West Bengal</td>\n",
       "      <td>Develop customized solutions within the Salesf...</td>\n",
       "      <td>₹30,000 - ₹60,000 a month</td>\n",
       "      <td>1</td>\n",
       "      <td>360000</td>\n",
       "      <td>900000</td>\n",
       "    </tr>\n",
       "    <tr>\n",
       "      <th>8</th>\n",
       "      <td>Salesforce Developer/Administrator</td>\n",
       "      <td>Appletech</td>\n",
       "      <td>Vadodara, Gujarat</td>\n",
       "      <td>3+ years of Salesforce application experience....</td>\n",
       "      <td>₹25,000 - ₹60,000 a month</td>\n",
       "      <td>1</td>\n",
       "      <td>300000</td>\n",
       "      <td>900000</td>\n",
       "    </tr>\n",
       "    <tr>\n",
       "      <th>17</th>\n",
       "      <td>ZOHO CRM Administrator</td>\n",
       "      <td>Elegant International</td>\n",
       "      <td>Jaipur, Rajasthan</td>\n",
       "      <td>The CRM administrator will normally report to ...</td>\n",
       "      <td>₹15,000 - ₹25,000 a year</td>\n",
       "      <td>0</td>\n",
       "      <td>15000</td>\n",
       "      <td>25000</td>\n",
       "    </tr>\n",
       "    <tr>\n",
       "      <th>18</th>\n",
       "      <td>Salesforce marketing cloud</td>\n",
       "      <td>GeniusU Web Services pvt ltd</td>\n",
       "      <td>Mumbai, Maharashtra</td>\n",
       "      <td>Work alongside the Salesforce administrator to...</td>\n",
       "      <td>₹75,000 a month</td>\n",
       "      <td>1</td>\n",
       "      <td>1.287e+06</td>\n",
       "      <td>1.287e+06</td>\n",
       "    </tr>\n",
       "  </tbody>\n",
       "</table>\n",
       "</div>"
      ],
      "text/plain": [
       "                                   JobTitle                       Company  \\\n",
       "1   Salesforce Administrator_ Pune Location   Spadeworx software Services   \n",
       "7        Salesforce Administrator/Developer                221 B Baker ST   \n",
       "8        Salesforce Developer/Administrator                     Appletech   \n",
       "17                   ZOHO CRM Administrator         Elegant International   \n",
       "18               Salesforce marketing cloud  GeniusU Web Services pvt ltd   \n",
       "\n",
       "                       Location  \\\n",
       "1             Pune, Maharashtra   \n",
       "7   Salt Lake City, West Bengal   \n",
       "8             Vadodara, Gujarat   \n",
       "17            Jaipur, Rajasthan   \n",
       "18          Mumbai, Maharashtra   \n",
       "\n",
       "                                              Summary  \\\n",
       "1   Basic knowledge of salesforce development (Ape...   \n",
       "7   Develop customized solutions within the Salesf...   \n",
       "8   3+ years of Salesforce application experience....   \n",
       "17  The CRM administrator will normally report to ...   \n",
       "18  Work alongside the Salesforce administrator to...   \n",
       "\n",
       "                       Salary  monthly salary_min  salary_max  \n",
       "1   ₹50,000 - ₹90,000 a month        1     750000  1.5444e+06  \n",
       "7   ₹30,000 - ₹60,000 a month        1     360000      900000  \n",
       "8   ₹25,000 - ₹60,000 a month        1     300000      900000  \n",
       "17   ₹15,000 - ₹25,000 a year        0     15000       25000   \n",
       "18            ₹75,000 a month        1  1.287e+06   1.287e+06  "
      ]
     },
     "execution_count": 565,
     "metadata": {},
     "output_type": "execute_result"
    }
   ],
   "source": [
    "df.head()"
   ]
  },
  {
   "cell_type": "code",
   "execution_count": 572,
   "metadata": {},
   "outputs": [
    {
     "data": {
      "text/plain": [
       "3575000.0     87\n",
       "2002000.0     24\n",
       "2288000.0     23\n",
       "2860000.0     16\n",
       "1430000.0     15\n",
       "              ..\n",
       "825000.0       1\n",
       " 250000        1\n",
       " 25001         1\n",
       "2050027.98     1\n",
       " 450000        1\n",
       "Name: salary_max, Length: 97, dtype: int64"
      ]
     },
     "execution_count": 572,
     "metadata": {},
     "output_type": "execute_result"
    }
   ],
   "source": [
    "df['salary_max'].value_counts()"
   ]
  },
  {
   "cell_type": "code",
   "execution_count": 573,
   "metadata": {},
   "outputs": [
    {
     "data": {
      "text/html": [
       "<div>\n",
       "<style scoped>\n",
       "    .dataframe tbody tr th:only-of-type {\n",
       "        vertical-align: middle;\n",
       "    }\n",
       "\n",
       "    .dataframe tbody tr th {\n",
       "        vertical-align: top;\n",
       "    }\n",
       "\n",
       "    .dataframe thead th {\n",
       "        text-align: right;\n",
       "    }\n",
       "</style>\n",
       "<table border=\"1\" class=\"dataframe\">\n",
       "  <thead>\n",
       "    <tr style=\"text-align: right;\">\n",
       "      <th></th>\n",
       "      <th>JobTitle</th>\n",
       "      <th>Company</th>\n",
       "      <th>Location</th>\n",
       "      <th>Summary</th>\n",
       "      <th>Salary</th>\n",
       "      <th>monthly</th>\n",
       "      <th>salary_min</th>\n",
       "      <th>salary_max</th>\n",
       "    </tr>\n",
       "  </thead>\n",
       "  <tbody>\n",
       "    <tr>\n",
       "      <th>1</th>\n",
       "      <td>Salesforce Administrator_ Pune Location</td>\n",
       "      <td>Spadeworx software Services</td>\n",
       "      <td>Pune, Maharashtra</td>\n",
       "      <td>Basic knowledge of salesforce development (Ape...</td>\n",
       "      <td>₹50,000 - ₹90,000 a month</td>\n",
       "      <td>1</td>\n",
       "      <td>750000</td>\n",
       "      <td>1.5444e+06</td>\n",
       "    </tr>\n",
       "    <tr>\n",
       "      <th>7</th>\n",
       "      <td>Salesforce Administrator/Developer</td>\n",
       "      <td>221 B Baker ST</td>\n",
       "      <td>Salt Lake City, West Bengal</td>\n",
       "      <td>Develop customized solutions within the Salesf...</td>\n",
       "      <td>₹30,000 - ₹60,000 a month</td>\n",
       "      <td>1</td>\n",
       "      <td>360000</td>\n",
       "      <td>900000</td>\n",
       "    </tr>\n",
       "    <tr>\n",
       "      <th>8</th>\n",
       "      <td>Salesforce Developer/Administrator</td>\n",
       "      <td>Appletech</td>\n",
       "      <td>Vadodara, Gujarat</td>\n",
       "      <td>3+ years of Salesforce application experience....</td>\n",
       "      <td>₹25,000 - ₹60,000 a month</td>\n",
       "      <td>1</td>\n",
       "      <td>300000</td>\n",
       "      <td>900000</td>\n",
       "    </tr>\n",
       "    <tr>\n",
       "      <th>17</th>\n",
       "      <td>ZOHO CRM Administrator</td>\n",
       "      <td>Elegant International</td>\n",
       "      <td>Jaipur, Rajasthan</td>\n",
       "      <td>The CRM administrator will normally report to ...</td>\n",
       "      <td>₹15,000 - ₹25,000 a year</td>\n",
       "      <td>0</td>\n",
       "      <td>15000</td>\n",
       "      <td>25000</td>\n",
       "    </tr>\n",
       "    <tr>\n",
       "      <th>18</th>\n",
       "      <td>Salesforce marketing cloud</td>\n",
       "      <td>GeniusU Web Services pvt ltd</td>\n",
       "      <td>Mumbai, Maharashtra</td>\n",
       "      <td>Work alongside the Salesforce administrator to...</td>\n",
       "      <td>₹75,000 a month</td>\n",
       "      <td>1</td>\n",
       "      <td>1.287e+06</td>\n",
       "      <td>1.287e+06</td>\n",
       "    </tr>\n",
       "  </tbody>\n",
       "</table>\n",
       "</div>"
      ],
      "text/plain": [
       "                                   JobTitle                       Company  \\\n",
       "1   Salesforce Administrator_ Pune Location   Spadeworx software Services   \n",
       "7        Salesforce Administrator/Developer                221 B Baker ST   \n",
       "8        Salesforce Developer/Administrator                     Appletech   \n",
       "17                   ZOHO CRM Administrator         Elegant International   \n",
       "18               Salesforce marketing cloud  GeniusU Web Services pvt ltd   \n",
       "\n",
       "                       Location  \\\n",
       "1             Pune, Maharashtra   \n",
       "7   Salt Lake City, West Bengal   \n",
       "8             Vadodara, Gujarat   \n",
       "17            Jaipur, Rajasthan   \n",
       "18          Mumbai, Maharashtra   \n",
       "\n",
       "                                              Summary  \\\n",
       "1   Basic knowledge of salesforce development (Ape...   \n",
       "7   Develop customized solutions within the Salesf...   \n",
       "8   3+ years of Salesforce application experience....   \n",
       "17  The CRM administrator will normally report to ...   \n",
       "18  Work alongside the Salesforce administrator to...   \n",
       "\n",
       "                       Salary  monthly salary_min  salary_max  \n",
       "1   ₹50,000 - ₹90,000 a month        1     750000  1.5444e+06  \n",
       "7   ₹30,000 - ₹60,000 a month        1     360000      900000  \n",
       "8   ₹25,000 - ₹60,000 a month        1     300000      900000  \n",
       "17   ₹15,000 - ₹25,000 a year        0     15000       25000   \n",
       "18            ₹75,000 a month        1  1.287e+06   1.287e+06  "
      ]
     },
     "execution_count": 573,
     "metadata": {},
     "output_type": "execute_result"
    }
   ],
   "source": [
    "df.head()"
   ]
  },
  {
   "cell_type": "markdown",
   "metadata": {},
   "source": [
    "** Change the job title "
   ]
  },
  {
   "cell_type": "code",
   "execution_count": 577,
   "metadata": {},
   "outputs": [],
   "source": [
    "df.loc[df['JobTitle'].str.contains('Admin'), 'JobTitle'] = 'Salesforce Administrator'"
   ]
  },
  {
   "cell_type": "code",
   "execution_count": 578,
   "metadata": {},
   "outputs": [
    {
     "data": {
      "text/html": [
       "<div>\n",
       "<style scoped>\n",
       "    .dataframe tbody tr th:only-of-type {\n",
       "        vertical-align: middle;\n",
       "    }\n",
       "\n",
       "    .dataframe tbody tr th {\n",
       "        vertical-align: top;\n",
       "    }\n",
       "\n",
       "    .dataframe thead th {\n",
       "        text-align: right;\n",
       "    }\n",
       "</style>\n",
       "<table border=\"1\" class=\"dataframe\">\n",
       "  <thead>\n",
       "    <tr style=\"text-align: right;\">\n",
       "      <th></th>\n",
       "      <th>JobTitle</th>\n",
       "      <th>Company</th>\n",
       "      <th>Location</th>\n",
       "      <th>Summary</th>\n",
       "      <th>Salary</th>\n",
       "      <th>monthly</th>\n",
       "      <th>salary_min</th>\n",
       "      <th>salary_max</th>\n",
       "    </tr>\n",
       "  </thead>\n",
       "  <tbody>\n",
       "    <tr>\n",
       "      <th>1</th>\n",
       "      <td>Salesforce Administrator</td>\n",
       "      <td>Spadeworx software Services</td>\n",
       "      <td>Pune, Maharashtra</td>\n",
       "      <td>Basic knowledge of salesforce development (Ape...</td>\n",
       "      <td>₹50,000 - ₹90,000 a month</td>\n",
       "      <td>1</td>\n",
       "      <td>750000</td>\n",
       "      <td>1.5444e+06</td>\n",
       "    </tr>\n",
       "    <tr>\n",
       "      <th>7</th>\n",
       "      <td>Salesforce Administrator</td>\n",
       "      <td>221 B Baker ST</td>\n",
       "      <td>Salt Lake City, West Bengal</td>\n",
       "      <td>Develop customized solutions within the Salesf...</td>\n",
       "      <td>₹30,000 - ₹60,000 a month</td>\n",
       "      <td>1</td>\n",
       "      <td>360000</td>\n",
       "      <td>900000</td>\n",
       "    </tr>\n",
       "    <tr>\n",
       "      <th>8</th>\n",
       "      <td>Salesforce Administrator</td>\n",
       "      <td>Appletech</td>\n",
       "      <td>Vadodara, Gujarat</td>\n",
       "      <td>3+ years of Salesforce application experience....</td>\n",
       "      <td>₹25,000 - ₹60,000 a month</td>\n",
       "      <td>1</td>\n",
       "      <td>300000</td>\n",
       "      <td>900000</td>\n",
       "    </tr>\n",
       "    <tr>\n",
       "      <th>17</th>\n",
       "      <td>Salesforce Administrator</td>\n",
       "      <td>Elegant International</td>\n",
       "      <td>Jaipur, Rajasthan</td>\n",
       "      <td>The CRM administrator will normally report to ...</td>\n",
       "      <td>₹15,000 - ₹25,000 a year</td>\n",
       "      <td>0</td>\n",
       "      <td>15000</td>\n",
       "      <td>25000</td>\n",
       "    </tr>\n",
       "    <tr>\n",
       "      <th>18</th>\n",
       "      <td>Salesforce marketing cloud</td>\n",
       "      <td>GeniusU Web Services pvt ltd</td>\n",
       "      <td>Mumbai, Maharashtra</td>\n",
       "      <td>Work alongside the Salesforce administrator to...</td>\n",
       "      <td>₹75,000 a month</td>\n",
       "      <td>1</td>\n",
       "      <td>1.287e+06</td>\n",
       "      <td>1.287e+06</td>\n",
       "    </tr>\n",
       "  </tbody>\n",
       "</table>\n",
       "</div>"
      ],
      "text/plain": [
       "                      JobTitle                       Company  \\\n",
       "1     Salesforce Administrator   Spadeworx software Services   \n",
       "7     Salesforce Administrator                221 B Baker ST   \n",
       "8     Salesforce Administrator                     Appletech   \n",
       "17    Salesforce Administrator         Elegant International   \n",
       "18  Salesforce marketing cloud  GeniusU Web Services pvt ltd   \n",
       "\n",
       "                       Location  \\\n",
       "1             Pune, Maharashtra   \n",
       "7   Salt Lake City, West Bengal   \n",
       "8             Vadodara, Gujarat   \n",
       "17            Jaipur, Rajasthan   \n",
       "18          Mumbai, Maharashtra   \n",
       "\n",
       "                                              Summary  \\\n",
       "1   Basic knowledge of salesforce development (Ape...   \n",
       "7   Develop customized solutions within the Salesf...   \n",
       "8   3+ years of Salesforce application experience....   \n",
       "17  The CRM administrator will normally report to ...   \n",
       "18  Work alongside the Salesforce administrator to...   \n",
       "\n",
       "                       Salary  monthly salary_min  salary_max  \n",
       "1   ₹50,000 - ₹90,000 a month        1     750000  1.5444e+06  \n",
       "7   ₹30,000 - ₹60,000 a month        1     360000      900000  \n",
       "8   ₹25,000 - ₹60,000 a month        1     300000      900000  \n",
       "17   ₹15,000 - ₹25,000 a year        0     15000       25000   \n",
       "18            ₹75,000 a month        1  1.287e+06   1.287e+06  "
      ]
     },
     "execution_count": 578,
     "metadata": {},
     "output_type": "execute_result"
    }
   ],
   "source": [
    "df.head()"
   ]
  },
  {
   "cell_type": "code",
   "execution_count": 579,
   "metadata": {},
   "outputs": [],
   "source": [
    "df.loc[df['JobTitle'].str.contains('Developer'), 'JobTitle'] = 'Salesforce Developer'"
   ]
  },
  {
   "cell_type": "code",
   "execution_count": 580,
   "metadata": {},
   "outputs": [],
   "source": [
    "df.loc[df['JobTitle'].str.contains('Architect'), 'JobTitle'] = 'Salesforce Technical Architect'"
   ]
  },
  {
   "cell_type": "code",
   "execution_count": 581,
   "metadata": {},
   "outputs": [],
   "source": [
    "df.loc[df['JobTitle'].str.contains('Manager'), 'JobTitle'] = 'Salesforce Technical/Proect Manager'"
   ]
  },
  {
   "cell_type": "code",
   "execution_count": 582,
   "metadata": {},
   "outputs": [],
   "source": [
    "df.loc[df['JobTitle'].str.contains('Analyst'), 'JobTitle'] = 'Salesforce Business Analyst'"
   ]
  },
  {
   "cell_type": "code",
   "execution_count": 584,
   "metadata": {},
   "outputs": [],
   "source": [
    "df.loc[df['JobTitle'].str.contains('developer'), 'JobTitle'] = 'Salesforce Developer'"
   ]
  },
  {
   "cell_type": "markdown",
   "metadata": {},
   "source": [
    "**** Get Clean Data"
   ]
  },
  {
   "cell_type": "code",
   "execution_count": 613,
   "metadata": {},
   "outputs": [],
   "source": [
    "df_clean1 = pd.read_csv(r\"Salesforce_clean_data.csv\")"
   ]
  },
  {
   "cell_type": "code",
   "execution_count": 614,
   "metadata": {},
   "outputs": [
    {
     "name": "stdout",
     "output_type": "stream",
     "text": [
      "<class 'pandas.core.frame.DataFrame'>\n",
      "RangeIndex: 356 entries, 0 to 355\n",
      "Data columns (total 9 columns):\n",
      " #   Column      Non-Null Count  Dtype  \n",
      "---  ------      --------------  -----  \n",
      " 0   Unnamed: 0  356 non-null    int64  \n",
      " 1   JobTitle    356 non-null    object \n",
      " 2   Company     356 non-null    object \n",
      " 3   Location    356 non-null    object \n",
      " 4   Summary     356 non-null    object \n",
      " 5   Salary      356 non-null    object \n",
      " 6   monthly     356 non-null    int64  \n",
      " 7   salary_min  356 non-null    float64\n",
      " 8   salary_max  356 non-null    float64\n",
      "dtypes: float64(2), int64(2), object(5)\n",
      "memory usage: 25.2+ KB\n"
     ]
    }
   ],
   "source": [
    "df_clean1.info()"
   ]
  },
  {
   "cell_type": "markdown",
   "metadata": {},
   "source": [
    "***Experience Calculation"
   ]
  },
  {
   "cell_type": "code",
   "execution_count": 625,
   "metadata": {},
   "outputs": [],
   "source": [
    "df_clean1[\"salary_avg\"] = (df_clean1[\"salary_min\"] + df_clean1[\"salary_max\"])/2"
   ]
  },
  {
   "cell_type": "code",
   "execution_count": 626,
   "metadata": {},
   "outputs": [
    {
     "name": "stdout",
     "output_type": "stream",
     "text": [
      "<class 'pandas.core.frame.DataFrame'>\n",
      "RangeIndex: 356 entries, 0 to 355\n",
      "Data columns (total 10 columns):\n",
      " #   Column      Non-Null Count  Dtype  \n",
      "---  ------      --------------  -----  \n",
      " 0   Unnamed: 0  356 non-null    int64  \n",
      " 1   JobTitle    356 non-null    object \n",
      " 2   Company     356 non-null    object \n",
      " 3   Location    356 non-null    object \n",
      " 4   Summary     356 non-null    object \n",
      " 5   Salary      356 non-null    object \n",
      " 6   monthly     356 non-null    int64  \n",
      " 7   salary_min  356 non-null    float64\n",
      " 8   salary_max  356 non-null    float64\n",
      " 9   salary_avg  356 non-null    float64\n",
      "dtypes: float64(3), int64(2), object(5)\n",
      "memory usage: 27.9+ KB\n"
     ]
    }
   ],
   "source": [
    "df_clean1.info()"
   ]
  },
  {
   "cell_type": "code",
   "execution_count": 639,
   "metadata": {},
   "outputs": [],
   "source": [
    "def experience(row):\n",
    "    avg = row[\"salary_avg\"]\n",
    "    if row['JobTitle'] == 'Salesforce Developer':\n",
    "        if (int(row[\"salary_avg\"]) <= 500000):\n",
    "            row[\"Experience\"] = 2\n",
    "        elif (int(row[\"salary_avg\"]) > 500000) & (int(row[\"salary_avg\"]) <= 1500000):\n",
    "            row[\"Experience\"] = 5\n",
    "        elif (int(row[\"salary_avg\"]) > 1500000):\n",
    "            row[\"Experience\"] = 8\n",
    "    elif row['JobTitle'] == 'Salesforce Administrator':\n",
    "        if (int(row[\"salary_avg\"]) <= 400000):\n",
    "            row[\"Experience\"] = 2\n",
    "        elif (int(row[\"salary_avg\"]) > 400000) & (int(row[\"salary_avg\"]) <= 1000000):\n",
    "            row[\"Experience\"] = 5\n",
    "        elif (int(row[\"salary_avg\"]) > 1000000):\n",
    "            row[\"Experience\"] = 8\n",
    "    elif row['JobTitle'] == 'Salesforce Business Analyst':\n",
    "        if (int(row[\"salary_avg\"]) <= 500000):\n",
    "            row[\"Experience\"] = 2\n",
    "        elif (int(row[\"salary_avg\"]) > 500000) & (int(row[\"salary_avg\"]) <= 1300000):\n",
    "            row[\"Experience\"] = 5\n",
    "        elif (int(row[\"salary_avg\"]) > 1300000):\n",
    "            row[\"Experience\"] = 8\n",
    "    elif row['JobTitle'] == 'Salesforce Technical Architect':\n",
    "        if (int(row[\"salary_avg\"]) <= 1500000):\n",
    "            row[\"Experience\"] = 7\n",
    "        elif (int(row[\"salary_avg\"]) > 1500000):\n",
    "            row[\"Experience\"] = 10\n",
    "    elif row['JobTitle'] == 'Salesforce Technical/Proect Manager':\n",
    "        if (int(row[\"salary_avg\"]) <= 2000000):\n",
    "            row[\"Experience\"] = 8\n",
    "        elif (int(row[\"salary_avg\"]) > 2000000):\n",
    "            row[\"Experience\"] = 10    \n",
    "    return row\n",
    "  \n",
    "    \n",
    "\n",
    "df_clean1 = df_clean1.apply(experience, axis=1)"
   ]
  },
  {
   "cell_type": "code",
   "execution_count": 640,
   "metadata": {},
   "outputs": [
    {
     "name": "stdout",
     "output_type": "stream",
     "text": [
      "<class 'pandas.core.frame.DataFrame'>\n",
      "RangeIndex: 356 entries, 0 to 355\n",
      "Data columns (total 11 columns):\n",
      " #   Column      Non-Null Count  Dtype  \n",
      "---  ------      --------------  -----  \n",
      " 0   Company     356 non-null    object \n",
      " 1   Experience  356 non-null    int64  \n",
      " 2   JobTitle    356 non-null    object \n",
      " 3   Location    356 non-null    object \n",
      " 4   Salary      356 non-null    object \n",
      " 5   Summary     356 non-null    object \n",
      " 6   Unnamed: 0  356 non-null    int64  \n",
      " 7   monthly     356 non-null    int64  \n",
      " 8   salary_avg  356 non-null    float64\n",
      " 9   salary_max  356 non-null    float64\n",
      " 10  salary_min  356 non-null    float64\n",
      "dtypes: float64(3), int64(3), object(5)\n",
      "memory usage: 30.7+ KB\n"
     ]
    }
   ],
   "source": [
    "df_clean1.info()"
   ]
  },
  {
   "cell_type": "markdown",
   "metadata": {},
   "source": [
    "*** Location"
   ]
  },
  {
   "cell_type": "code",
   "execution_count": 641,
   "metadata": {},
   "outputs": [
    {
     "data": {
      "text/plain": [
       "Bengaluru, Karnataka                     85\n",
       "Chennai, Tamil Nadu                      43\n",
       "Hyderabad, Telangana                     35\n",
       "Mumbai, Maharashtra                      32\n",
       "Pune, Maharashtra                        26\n",
       "Noida, Uttar Pradesh                     23\n",
       "India                                    11\n",
       "Remote                                    9\n",
       "Ahmedabad, Gujarat                        8\n",
       "Jaipur, Rajasthan                         8\n",
       "Mohali, Punjab                            8\n",
       "Indore, Madhya Pradesh                    6\n",
       "Delhi, Delhi                              5\n",
       "Vadodara, Gujarat                         5\n",
       "Coimbatore, Tamil Nadu                    4\n",
       "Kolkata, West Bengal                      3\n",
       "Kochi, Kerala                             3\n",
       "Thiruvananthapuram, Kerala                3\n",
       "Salt Lake City, West Bengal               3\n",
       "Gurgaon, Haryana                          2\n",
       "Raj Bhavan Road, Hyderabad, Telangana     2\n",
       "Alwal, Hyderabad, Telangana               2\n",
       "Hospet, Karnataka                         2\n",
       "New Delhi, Delhi                          2\n",
       "Madurai, Tamil Nadu                       2\n",
       "Dehra Dun, Uttarakhand                    1\n",
       "Pathanamthitta, Kerala                    1\n",
       "Salem, Tamil Nadu                         1\n",
       "Anand, Gujarat                            1\n",
       "Swargate, Pune, Maharashtra               1\n",
       "Tiruchchirappalli, Tamil Nadu             1\n",
       "Tenkasi, Tamil Nadu                       1\n",
       "Rajkot, Gujarat                           1\n",
       "Kamothe, Navi Mumbai, Maharashtra         1\n",
       "Tollygunge Circular Road, West Bengal     1\n",
       "Nagpur, Maharashtra                       1\n",
       "Tirunelveli, Tamil Nadu                   1\n",
       "Bommanahalli, Bengaluru, Karnataka        1\n",
       "Nashik, Maharashtra                       1\n",
       "Lalithanagaram, Andhra Pradesh            1\n",
       "Navi Mumbai, Maharashtra                  1\n",
       "Amritsar, Punjab                          1\n",
       "Patna, Bihar                              1\n",
       "Ghaziabad, Uttar Pradesh                  1\n",
       "Vashi, Navi Mumbai, Maharashtra           1\n",
       "Faridabad, Haryana                        1\n",
       "Sholinganallur, Chennai, Tamil Nadu       1\n",
       "Bhopal, Madhya Pradesh                    1\n",
       "Bandra, Mumbai, Maharashtra               1\n",
       "Name: Location, dtype: int64"
      ]
     },
     "execution_count": 641,
     "metadata": {},
     "output_type": "execute_result"
    }
   ],
   "source": [
    "df_clean1[\"Location\"].value_counts()"
   ]
  },
  {
   "cell_type": "code",
   "execution_count": 657,
   "metadata": {},
   "outputs": [],
   "source": [
    "def format_location(row):\n",
    "    location = row[\"Location\"]\n",
    "    if \",\" in location:\n",
    "        split = location.split(\",\")\n",
    "        city = split[0]\n",
    "        state = split[1]\n",
    "       \n",
    "    else:\n",
    "        city = location\n",
    "        state = location\n",
    "    \n",
    "    row[\"City\"] = city\n",
    "    row[\"State\"] = state\n",
    "    \n",
    "       \n",
    "    return row\n",
    "\n",
    "\n",
    "df_clean1 = df_clean1.apply(format_location, axis=1) "
   ]
  },
  {
   "cell_type": "code",
   "execution_count": 658,
   "metadata": {},
   "outputs": [
    {
     "data": {
      "text/html": [
       "<div>\n",
       "<style scoped>\n",
       "    .dataframe tbody tr th:only-of-type {\n",
       "        vertical-align: middle;\n",
       "    }\n",
       "\n",
       "    .dataframe tbody tr th {\n",
       "        vertical-align: top;\n",
       "    }\n",
       "\n",
       "    .dataframe thead th {\n",
       "        text-align: right;\n",
       "    }\n",
       "</style>\n",
       "<table border=\"1\" class=\"dataframe\">\n",
       "  <thead>\n",
       "    <tr style=\"text-align: right;\">\n",
       "      <th></th>\n",
       "      <th>Company</th>\n",
       "      <th>Experience</th>\n",
       "      <th>JobTitle</th>\n",
       "      <th>Location</th>\n",
       "      <th>Salary</th>\n",
       "      <th>Summary</th>\n",
       "      <th>Unnamed: 0</th>\n",
       "      <th>monthly</th>\n",
       "      <th>salary_avg</th>\n",
       "      <th>salary_max</th>\n",
       "      <th>salary_min</th>\n",
       "      <th>City</th>\n",
       "      <th>State</th>\n",
       "    </tr>\n",
       "  </thead>\n",
       "  <tbody>\n",
       "    <tr>\n",
       "      <th>0</th>\n",
       "      <td>Spadeworx software Services</td>\n",
       "      <td>5</td>\n",
       "      <td>Salesforce Developer</td>\n",
       "      <td>Pune, Maharashtra</td>\n",
       "      <td>₹50,000 - ₹90,000 a month</td>\n",
       "      <td>Basic knowledge of salesforce development (Ape...</td>\n",
       "      <td>1</td>\n",
       "      <td>1</td>\n",
       "      <td>1147200.0</td>\n",
       "      <td>1544400.0</td>\n",
       "      <td>750000.0</td>\n",
       "      <td>Pune</td>\n",
       "      <td>Maharashtra</td>\n",
       "    </tr>\n",
       "    <tr>\n",
       "      <th>1</th>\n",
       "      <td>221 B Baker ST</td>\n",
       "      <td>5</td>\n",
       "      <td>Salesforce Administrator</td>\n",
       "      <td>Salt Lake City, West Bengal</td>\n",
       "      <td>₹30,000 - ₹60,000 a month</td>\n",
       "      <td>Develop customized solutions within the Salesf...</td>\n",
       "      <td>7</td>\n",
       "      <td>1</td>\n",
       "      <td>630000.0</td>\n",
       "      <td>900000.0</td>\n",
       "      <td>360000.0</td>\n",
       "      <td>Salt Lake City</td>\n",
       "      <td>West Bengal</td>\n",
       "    </tr>\n",
       "    <tr>\n",
       "      <th>2</th>\n",
       "      <td>Appletech</td>\n",
       "      <td>5</td>\n",
       "      <td>Salesforce Administrator</td>\n",
       "      <td>Vadodara, Gujarat</td>\n",
       "      <td>₹25,000 - ₹60,000 a month</td>\n",
       "      <td>3+ years of Salesforce application experience....</td>\n",
       "      <td>8</td>\n",
       "      <td>1</td>\n",
       "      <td>600000.0</td>\n",
       "      <td>900000.0</td>\n",
       "      <td>300000.0</td>\n",
       "      <td>Vadodara</td>\n",
       "      <td>Gujarat</td>\n",
       "    </tr>\n",
       "    <tr>\n",
       "      <th>3</th>\n",
       "      <td>Elegant International</td>\n",
       "      <td>2</td>\n",
       "      <td>Salesforce Administrator</td>\n",
       "      <td>Jaipur, Rajasthan</td>\n",
       "      <td>₹15,000 - ₹25,000 a year</td>\n",
       "      <td>The CRM administrator will normally report to ...</td>\n",
       "      <td>17</td>\n",
       "      <td>0</td>\n",
       "      <td>20000.0</td>\n",
       "      <td>25000.0</td>\n",
       "      <td>15000.0</td>\n",
       "      <td>Jaipur</td>\n",
       "      <td>Rajasthan</td>\n",
       "    </tr>\n",
       "    <tr>\n",
       "      <th>4</th>\n",
       "      <td>GeniusU Web Services pvt ltd</td>\n",
       "      <td>5</td>\n",
       "      <td>Salesforce Developer</td>\n",
       "      <td>Mumbai, Maharashtra</td>\n",
       "      <td>₹75,000 a month</td>\n",
       "      <td>Work alongside the Salesforce administrator to...</td>\n",
       "      <td>18</td>\n",
       "      <td>1</td>\n",
       "      <td>1287000.0</td>\n",
       "      <td>1287000.0</td>\n",
       "      <td>1287000.0</td>\n",
       "      <td>Mumbai</td>\n",
       "      <td>Maharashtra</td>\n",
       "    </tr>\n",
       "  </tbody>\n",
       "</table>\n",
       "</div>"
      ],
      "text/plain": [
       "                        Company  Experience                  JobTitle  \\\n",
       "0   Spadeworx software Services           5      Salesforce Developer   \n",
       "1                221 B Baker ST           5  Salesforce Administrator   \n",
       "2                     Appletech           5  Salesforce Administrator   \n",
       "3         Elegant International           2  Salesforce Administrator   \n",
       "4  GeniusU Web Services pvt ltd           5      Salesforce Developer   \n",
       "\n",
       "                      Location                     Salary  \\\n",
       "0            Pune, Maharashtra  ₹50,000 - ₹90,000 a month   \n",
       "1  Salt Lake City, West Bengal  ₹30,000 - ₹60,000 a month   \n",
       "2            Vadodara, Gujarat  ₹25,000 - ₹60,000 a month   \n",
       "3            Jaipur, Rajasthan   ₹15,000 - ₹25,000 a year   \n",
       "4          Mumbai, Maharashtra            ₹75,000 a month   \n",
       "\n",
       "                                             Summary  Unnamed: 0  monthly  \\\n",
       "0  Basic knowledge of salesforce development (Ape...           1        1   \n",
       "1  Develop customized solutions within the Salesf...           7        1   \n",
       "2  3+ years of Salesforce application experience....           8        1   \n",
       "3  The CRM administrator will normally report to ...          17        0   \n",
       "4  Work alongside the Salesforce administrator to...          18        1   \n",
       "\n",
       "   salary_avg  salary_max  salary_min            City         State  \n",
       "0   1147200.0   1544400.0    750000.0            Pune   Maharashtra  \n",
       "1    630000.0    900000.0    360000.0  Salt Lake City   West Bengal  \n",
       "2    600000.0    900000.0    300000.0        Vadodara       Gujarat  \n",
       "3     20000.0     25000.0     15000.0          Jaipur     Rajasthan  \n",
       "4   1287000.0   1287000.0   1287000.0          Mumbai   Maharashtra  "
      ]
     },
     "execution_count": 658,
     "metadata": {},
     "output_type": "execute_result"
    }
   ],
   "source": [
    "df_clean1.head()"
   ]
  },
  {
   "cell_type": "code",
   "execution_count": 659,
   "metadata": {},
   "outputs": [],
   "source": [
    "df_clean1.to_csv(\"test2.csv\")"
   ]
  },
  {
   "cell_type": "code",
   "execution_count": 668,
   "metadata": {},
   "outputs": [],
   "source": [
    "df_clean2 = pd.read_csv(r\"test2.csv\")"
   ]
  },
  {
   "cell_type": "code",
   "execution_count": 669,
   "metadata": {},
   "outputs": [
    {
     "data": {
      "text/html": [
       "<div>\n",
       "<style scoped>\n",
       "    .dataframe tbody tr th:only-of-type {\n",
       "        vertical-align: middle;\n",
       "    }\n",
       "\n",
       "    .dataframe tbody tr th {\n",
       "        vertical-align: top;\n",
       "    }\n",
       "\n",
       "    .dataframe thead th {\n",
       "        text-align: right;\n",
       "    }\n",
       "</style>\n",
       "<table border=\"1\" class=\"dataframe\">\n",
       "  <thead>\n",
       "    <tr style=\"text-align: right;\">\n",
       "      <th></th>\n",
       "      <th>Unnamed: 0</th>\n",
       "      <th>Company</th>\n",
       "      <th>Experience</th>\n",
       "      <th>JobTitle</th>\n",
       "      <th>Location</th>\n",
       "      <th>Salary</th>\n",
       "      <th>Summary</th>\n",
       "      <th>monthly</th>\n",
       "      <th>salary_avg</th>\n",
       "      <th>salary_max</th>\n",
       "      <th>salary_min</th>\n",
       "      <th>City</th>\n",
       "      <th>State</th>\n",
       "    </tr>\n",
       "  </thead>\n",
       "  <tbody>\n",
       "    <tr>\n",
       "      <th>0</th>\n",
       "      <td>0</td>\n",
       "      <td>Spadeworx software Services</td>\n",
       "      <td>5</td>\n",
       "      <td>Salesforce Developer</td>\n",
       "      <td>Pune, Maharashtra</td>\n",
       "      <td>₹50,000 - ₹90,000 a month</td>\n",
       "      <td>Basic knowledge of salesforce development (Ape...</td>\n",
       "      <td>1</td>\n",
       "      <td>1147200.0</td>\n",
       "      <td>1544400.0</td>\n",
       "      <td>750000.0</td>\n",
       "      <td>Pune</td>\n",
       "      <td>Maharashtra</td>\n",
       "    </tr>\n",
       "    <tr>\n",
       "      <th>1</th>\n",
       "      <td>1</td>\n",
       "      <td>221 B Baker ST</td>\n",
       "      <td>5</td>\n",
       "      <td>Salesforce Administrator</td>\n",
       "      <td>Salt Lake City, West Bengal</td>\n",
       "      <td>₹30,000 - ₹60,000 a month</td>\n",
       "      <td>Develop customized solutions within the Salesf...</td>\n",
       "      <td>1</td>\n",
       "      <td>630000.0</td>\n",
       "      <td>900000.0</td>\n",
       "      <td>360000.0</td>\n",
       "      <td>Kolkata</td>\n",
       "      <td>West Bengal</td>\n",
       "    </tr>\n",
       "    <tr>\n",
       "      <th>2</th>\n",
       "      <td>2</td>\n",
       "      <td>Appletech</td>\n",
       "      <td>5</td>\n",
       "      <td>Salesforce Administrator</td>\n",
       "      <td>Vadodara, Gujarat</td>\n",
       "      <td>₹25,000 - ₹60,000 a month</td>\n",
       "      <td>3+ years of Salesforce application experience....</td>\n",
       "      <td>1</td>\n",
       "      <td>600000.0</td>\n",
       "      <td>900000.0</td>\n",
       "      <td>300000.0</td>\n",
       "      <td>Ahmedabad</td>\n",
       "      <td>Gujarat</td>\n",
       "    </tr>\n",
       "    <tr>\n",
       "      <th>3</th>\n",
       "      <td>3</td>\n",
       "      <td>Elegant International</td>\n",
       "      <td>2</td>\n",
       "      <td>Salesforce Administrator</td>\n",
       "      <td>Jaipur, Rajasthan</td>\n",
       "      <td>₹15,000 - ₹25,000 a year</td>\n",
       "      <td>The CRM administrator will normally report to ...</td>\n",
       "      <td>0</td>\n",
       "      <td>20000.0</td>\n",
       "      <td>25000.0</td>\n",
       "      <td>15000.0</td>\n",
       "      <td>Gurgaon</td>\n",
       "      <td>Rajasthan</td>\n",
       "    </tr>\n",
       "    <tr>\n",
       "      <th>4</th>\n",
       "      <td>4</td>\n",
       "      <td>GeniusU Web Services pvt ltd</td>\n",
       "      <td>5</td>\n",
       "      <td>Salesforce Developer</td>\n",
       "      <td>Mumbai, Maharashtra</td>\n",
       "      <td>₹75,000 a month</td>\n",
       "      <td>Work alongside the Salesforce administrator to...</td>\n",
       "      <td>1</td>\n",
       "      <td>1287000.0</td>\n",
       "      <td>1287000.0</td>\n",
       "      <td>1287000.0</td>\n",
       "      <td>Mumbai</td>\n",
       "      <td>Maharashtra</td>\n",
       "    </tr>\n",
       "  </tbody>\n",
       "</table>\n",
       "</div>"
      ],
      "text/plain": [
       "   Unnamed: 0                       Company  Experience  \\\n",
       "0           0   Spadeworx software Services           5   \n",
       "1           1                221 B Baker ST           5   \n",
       "2           2                     Appletech           5   \n",
       "3           3         Elegant International           2   \n",
       "4           4  GeniusU Web Services pvt ltd           5   \n",
       "\n",
       "                   JobTitle                     Location  \\\n",
       "0      Salesforce Developer            Pune, Maharashtra   \n",
       "1  Salesforce Administrator  Salt Lake City, West Bengal   \n",
       "2  Salesforce Administrator            Vadodara, Gujarat   \n",
       "3  Salesforce Administrator            Jaipur, Rajasthan   \n",
       "4      Salesforce Developer          Mumbai, Maharashtra   \n",
       "\n",
       "                      Salary  \\\n",
       "0  ₹50,000 - ₹90,000 a month   \n",
       "1  ₹30,000 - ₹60,000 a month   \n",
       "2  ₹25,000 - ₹60,000 a month   \n",
       "3   ₹15,000 - ₹25,000 a year   \n",
       "4            ₹75,000 a month   \n",
       "\n",
       "                                             Summary  monthly  salary_avg  \\\n",
       "0  Basic knowledge of salesforce development (Ape...        1   1147200.0   \n",
       "1  Develop customized solutions within the Salesf...        1    630000.0   \n",
       "2  3+ years of Salesforce application experience....        1    600000.0   \n",
       "3  The CRM administrator will normally report to ...        0     20000.0   \n",
       "4  Work alongside the Salesforce administrator to...        1   1287000.0   \n",
       "\n",
       "   salary_max  salary_min       City         State  \n",
       "0   1544400.0    750000.0       Pune   Maharashtra  \n",
       "1    900000.0    360000.0    Kolkata   West Bengal  \n",
       "2    900000.0    300000.0  Ahmedabad       Gujarat  \n",
       "3     25000.0     15000.0    Gurgaon     Rajasthan  \n",
       "4   1287000.0   1287000.0     Mumbai   Maharashtra  "
      ]
     },
     "execution_count": 669,
     "metadata": {},
     "output_type": "execute_result"
    }
   ],
   "source": [
    "df_clean2.head()"
   ]
  },
  {
   "cell_type": "code",
   "execution_count": 670,
   "metadata": {},
   "outputs": [
    {
     "name": "stdout",
     "output_type": "stream",
     "text": [
      "<class 'pandas.core.frame.DataFrame'>\n",
      "RangeIndex: 356 entries, 0 to 355\n",
      "Data columns (total 13 columns):\n",
      " #   Column      Non-Null Count  Dtype  \n",
      "---  ------      --------------  -----  \n",
      " 0   Unnamed: 0  356 non-null    int64  \n",
      " 1   Company     356 non-null    object \n",
      " 2   Experience  356 non-null    int64  \n",
      " 3   JobTitle    356 non-null    object \n",
      " 4   Location    356 non-null    object \n",
      " 5   Salary      356 non-null    object \n",
      " 6   Summary     356 non-null    object \n",
      " 7   monthly     356 non-null    int64  \n",
      " 8   salary_avg  356 non-null    float64\n",
      " 9   salary_max  356 non-null    float64\n",
      " 10  salary_min  356 non-null    float64\n",
      " 11  City        356 non-null    object \n",
      " 12  State       356 non-null    object \n",
      "dtypes: float64(3), int64(3), object(7)\n",
      "memory usage: 36.3+ KB\n"
     ]
    }
   ],
   "source": [
    "df_clean2.info()"
   ]
  },
  {
   "cell_type": "code",
   "execution_count": 671,
   "metadata": {},
   "outputs": [],
   "source": [
    "df_clean2 = df_clean2[df_clean2[\"salary_avg\"] > 300000]"
   ]
  },
  {
   "cell_type": "code",
   "execution_count": 672,
   "metadata": {},
   "outputs": [
    {
     "name": "stdout",
     "output_type": "stream",
     "text": [
      "<class 'pandas.core.frame.DataFrame'>\n",
      "Int64Index: 309 entries, 0 to 355\n",
      "Data columns (total 13 columns):\n",
      " #   Column      Non-Null Count  Dtype  \n",
      "---  ------      --------------  -----  \n",
      " 0   Unnamed: 0  309 non-null    int64  \n",
      " 1   Company     309 non-null    object \n",
      " 2   Experience  309 non-null    int64  \n",
      " 3   JobTitle    309 non-null    object \n",
      " 4   Location    309 non-null    object \n",
      " 5   Salary      309 non-null    object \n",
      " 6   Summary     309 non-null    object \n",
      " 7   monthly     309 non-null    int64  \n",
      " 8   salary_avg  309 non-null    float64\n",
      " 9   salary_max  309 non-null    float64\n",
      " 10  salary_min  309 non-null    float64\n",
      " 11  City        309 non-null    object \n",
      " 12  State       309 non-null    object \n",
      "dtypes: float64(3), int64(3), object(7)\n",
      "memory usage: 33.8+ KB\n"
     ]
    }
   ],
   "source": [
    "df_clean2.info()"
   ]
  },
  {
   "cell_type": "markdown",
   "metadata": {},
   "source": [
    "*** The data has been Cleaned!!!!!!!!!!!!!!!!!!!!!!!!!!!!!!!!!!!!!!!!!!!!!!!!!!!!!!!!!!!!!!!!!!!!!!!!!!!!!!!!!!!!!!!!!!!"
   ]
  },
  {
   "cell_type": "code",
   "execution_count": 673,
   "metadata": {},
   "outputs": [
    {
     "name": "stdout",
     "output_type": "stream",
     "text": [
      "<class 'pandas.core.frame.DataFrame'>\n",
      "Int64Index: 309 entries, 0 to 355\n",
      "Data columns (total 13 columns):\n",
      " #   Column      Non-Null Count  Dtype  \n",
      "---  ------      --------------  -----  \n",
      " 0   Unnamed: 0  309 non-null    int64  \n",
      " 1   Company     309 non-null    object \n",
      " 2   Experience  309 non-null    int64  \n",
      " 3   JobTitle    309 non-null    object \n",
      " 4   Location    309 non-null    object \n",
      " 5   Salary      309 non-null    object \n",
      " 6   Summary     309 non-null    object \n",
      " 7   monthly     309 non-null    int64  \n",
      " 8   salary_avg  309 non-null    float64\n",
      " 9   salary_max  309 non-null    float64\n",
      " 10  salary_min  309 non-null    float64\n",
      " 11  City        309 non-null    object \n",
      " 12  State       309 non-null    object \n",
      "dtypes: float64(3), int64(3), object(7)\n",
      "memory usage: 33.8+ KB\n"
     ]
    }
   ],
   "source": [
    "df_clean2.info()"
   ]
  },
  {
   "cell_type": "markdown",
   "metadata": {},
   "source": [
    "** Lets do more cleaning!!!!!!!!!!!!! "
   ]
  },
  {
   "cell_type": "markdown",
   "metadata": {},
   "source": [
    "#parsing of job description (python, etc.)"
   ]
  },
  {
   "cell_type": "code",
   "execution_count": 716,
   "metadata": {},
   "outputs": [
    {
     "name": "stdout",
     "output_type": "stream",
     "text": [
      "0    233\n",
      "1     76\n",
      "Name: development, dtype: int64\n",
      "0    286\n",
      "1     23\n",
      "Name: Configuration, dtype: int64\n",
      "0    273\n",
      "1     36\n",
      "Name: Business_Interaction, dtype: int64\n",
      "0    286\n",
      "1     23\n",
      "Name: Functional, dtype: int64\n",
      "0    268\n",
      "1     41\n",
      "Name: Lead_team, dtype: int64\n"
     ]
    }
   ],
   "source": [
    "df_clean2['development'] = df_clean2['Summary'].apply(lambda x: 1 if 'development' in x.lower() else 0)\n",
    "print(df_clean2['development'].value_counts())\n",
    "df_clean2['Configuration'] = df_clean2['Summary'].apply(lambda x: 1 if 'config' in x.lower() else 0)\n",
    "print(df_clean2['Configuration'].value_counts())\n",
    "df_clean2['Business_Interaction'] = df_clean2['Summary'].apply(lambda x: 1 if 'requirement' in x.lower() else 0)\n",
    "print(df_clean2['Business_Interaction'].value_counts())\n",
    "df_clean2['Functional'] = df_clean2['Summary'].apply(lambda x: 1 if 'function' in x.lower() else 0)\n",
    "print(df_clean2['Functional'].value_counts())\n",
    "df_clean2['Lead_team'] = df_clean2['Summary'].apply(lambda x: 1 if 'lead' in x.lower() else 0)\n",
    "print(df_clean2['Lead_team'].value_counts())\n",
    "\n"
   ]
  },
  {
   "cell_type": "code",
   "execution_count": 717,
   "metadata": {},
   "outputs": [
    {
     "data": {
      "text/html": [
       "<div>\n",
       "<style scoped>\n",
       "    .dataframe tbody tr th:only-of-type {\n",
       "        vertical-align: middle;\n",
       "    }\n",
       "\n",
       "    .dataframe tbody tr th {\n",
       "        vertical-align: top;\n",
       "    }\n",
       "\n",
       "    .dataframe thead th {\n",
       "        text-align: right;\n",
       "    }\n",
       "</style>\n",
       "<table border=\"1\" class=\"dataframe\">\n",
       "  <thead>\n",
       "    <tr style=\"text-align: right;\">\n",
       "      <th></th>\n",
       "      <th>Unnamed: 0</th>\n",
       "      <th>Company</th>\n",
       "      <th>Experience</th>\n",
       "      <th>JobTitle</th>\n",
       "      <th>Location</th>\n",
       "      <th>Salary</th>\n",
       "      <th>Summary</th>\n",
       "      <th>monthly</th>\n",
       "      <th>salary_avg</th>\n",
       "      <th>salary_max</th>\n",
       "      <th>...</th>\n",
       "      <th>Testing</th>\n",
       "      <th>Client</th>\n",
       "      <th>Configuration</th>\n",
       "      <th>Business</th>\n",
       "      <th>lightning</th>\n",
       "      <th>apex</th>\n",
       "      <th>development</th>\n",
       "      <th>Business_Interaction</th>\n",
       "      <th>Functional</th>\n",
       "      <th>Lead_team</th>\n",
       "    </tr>\n",
       "  </thead>\n",
       "  <tbody>\n",
       "    <tr>\n",
       "      <th>0</th>\n",
       "      <td>0</td>\n",
       "      <td>Spadeworx software Services</td>\n",
       "      <td>5</td>\n",
       "      <td>Salesforce Developer</td>\n",
       "      <td>Pune, Maharashtra</td>\n",
       "      <td>₹50,000 - ₹90,000 a month</td>\n",
       "      <td>Basic knowledge of salesforce development (Ape...</td>\n",
       "      <td>1</td>\n",
       "      <td>1147200.0</td>\n",
       "      <td>1544400.0</td>\n",
       "      <td>...</td>\n",
       "      <td>0</td>\n",
       "      <td>0</td>\n",
       "      <td>0</td>\n",
       "      <td>0</td>\n",
       "      <td>0</td>\n",
       "      <td>0</td>\n",
       "      <td>1</td>\n",
       "      <td>0</td>\n",
       "      <td>0</td>\n",
       "      <td>0</td>\n",
       "    </tr>\n",
       "    <tr>\n",
       "      <th>1</th>\n",
       "      <td>1</td>\n",
       "      <td>221 B Baker ST</td>\n",
       "      <td>5</td>\n",
       "      <td>Salesforce Administrator</td>\n",
       "      <td>Salt Lake City, West Bengal</td>\n",
       "      <td>₹30,000 - ₹60,000 a month</td>\n",
       "      <td>Develop customized solutions within the Salesf...</td>\n",
       "      <td>1</td>\n",
       "      <td>630000.0</td>\n",
       "      <td>900000.0</td>\n",
       "      <td>...</td>\n",
       "      <td>0</td>\n",
       "      <td>0</td>\n",
       "      <td>0</td>\n",
       "      <td>1</td>\n",
       "      <td>0</td>\n",
       "      <td>0</td>\n",
       "      <td>0</td>\n",
       "      <td>1</td>\n",
       "      <td>1</td>\n",
       "      <td>0</td>\n",
       "    </tr>\n",
       "    <tr>\n",
       "      <th>2</th>\n",
       "      <td>2</td>\n",
       "      <td>Appletech</td>\n",
       "      <td>5</td>\n",
       "      <td>Salesforce Administrator</td>\n",
       "      <td>Vadodara, Gujarat</td>\n",
       "      <td>₹25,000 - ₹60,000 a month</td>\n",
       "      <td>3+ years of Salesforce application experience....</td>\n",
       "      <td>1</td>\n",
       "      <td>600000.0</td>\n",
       "      <td>900000.0</td>\n",
       "      <td>...</td>\n",
       "      <td>0</td>\n",
       "      <td>0</td>\n",
       "      <td>0</td>\n",
       "      <td>0</td>\n",
       "      <td>0</td>\n",
       "      <td>0</td>\n",
       "      <td>0</td>\n",
       "      <td>0</td>\n",
       "      <td>0</td>\n",
       "      <td>0</td>\n",
       "    </tr>\n",
       "    <tr>\n",
       "      <th>4</th>\n",
       "      <td>4</td>\n",
       "      <td>GeniusU Web Services pvt ltd</td>\n",
       "      <td>5</td>\n",
       "      <td>Salesforce Developer</td>\n",
       "      <td>Mumbai, Maharashtra</td>\n",
       "      <td>₹75,000 a month</td>\n",
       "      <td>Work alongside the Salesforce administrator to...</td>\n",
       "      <td>1</td>\n",
       "      <td>1287000.0</td>\n",
       "      <td>1287000.0</td>\n",
       "      <td>...</td>\n",
       "      <td>0</td>\n",
       "      <td>0</td>\n",
       "      <td>0</td>\n",
       "      <td>0</td>\n",
       "      <td>0</td>\n",
       "      <td>0</td>\n",
       "      <td>0</td>\n",
       "      <td>0</td>\n",
       "      <td>0</td>\n",
       "      <td>0</td>\n",
       "    </tr>\n",
       "    <tr>\n",
       "      <th>5</th>\n",
       "      <td>5</td>\n",
       "      <td>Cloudy Wave Technology Pvt Ltd</td>\n",
       "      <td>5</td>\n",
       "      <td>Salesforce Developer</td>\n",
       "      <td>Pune, Maharashtra</td>\n",
       "      <td>₹2,00,000 - ₹7,00,000 a year</td>\n",
       "      <td>We are looking for strong Salesforce experienc...</td>\n",
       "      <td>0</td>\n",
       "      <td>537500.0</td>\n",
       "      <td>875000.0</td>\n",
       "      <td>...</td>\n",
       "      <td>0</td>\n",
       "      <td>0</td>\n",
       "      <td>0</td>\n",
       "      <td>0</td>\n",
       "      <td>0</td>\n",
       "      <td>0</td>\n",
       "      <td>0</td>\n",
       "      <td>0</td>\n",
       "      <td>0</td>\n",
       "      <td>0</td>\n",
       "    </tr>\n",
       "  </tbody>\n",
       "</table>\n",
       "<p>5 rows × 28 columns</p>\n",
       "</div>"
      ],
      "text/plain": [
       "   Unnamed: 0                         Company  Experience  \\\n",
       "0           0     Spadeworx software Services           5   \n",
       "1           1                  221 B Baker ST           5   \n",
       "2           2                       Appletech           5   \n",
       "4           4    GeniusU Web Services pvt ltd           5   \n",
       "5           5  Cloudy Wave Technology Pvt Ltd           5   \n",
       "\n",
       "                   JobTitle                     Location  \\\n",
       "0      Salesforce Developer            Pune, Maharashtra   \n",
       "1  Salesforce Administrator  Salt Lake City, West Bengal   \n",
       "2  Salesforce Administrator            Vadodara, Gujarat   \n",
       "4      Salesforce Developer          Mumbai, Maharashtra   \n",
       "5      Salesforce Developer            Pune, Maharashtra   \n",
       "\n",
       "                         Salary  \\\n",
       "0     ₹50,000 - ₹90,000 a month   \n",
       "1     ₹30,000 - ₹60,000 a month   \n",
       "2     ₹25,000 - ₹60,000 a month   \n",
       "4               ₹75,000 a month   \n",
       "5  ₹2,00,000 - ₹7,00,000 a year   \n",
       "\n",
       "                                             Summary  monthly  salary_avg  \\\n",
       "0  Basic knowledge of salesforce development (Ape...        1   1147200.0   \n",
       "1  Develop customized solutions within the Salesf...        1    630000.0   \n",
       "2  3+ years of Salesforce application experience....        1    600000.0   \n",
       "4  Work alongside the Salesforce administrator to...        1   1287000.0   \n",
       "5  We are looking for strong Salesforce experienc...        0    537500.0   \n",
       "\n",
       "   salary_max  ...  Testing Client Configuration  Business  lightning  apex  \\\n",
       "0   1544400.0  ...        0      0             0         0          0     0   \n",
       "1    900000.0  ...        0      0             0         1          0     0   \n",
       "2    900000.0  ...        0      0             0         0          0     0   \n",
       "4   1287000.0  ...        0      0             0         0          0     0   \n",
       "5    875000.0  ...        0      0             0         0          0     0   \n",
       "\n",
       "   development  Business_Interaction  Functional  Lead_team  \n",
       "0            1                     0           0          0  \n",
       "1            0                     1           1          0  \n",
       "2            0                     0           0          0  \n",
       "4            0                     0           0          0  \n",
       "5            0                     0           0          0  \n",
       "\n",
       "[5 rows x 28 columns]"
      ]
     },
     "execution_count": 717,
     "metadata": {},
     "output_type": "execute_result"
    }
   ],
   "source": [
    "df_clean2.head()"
   ]
  },
  {
   "cell_type": "markdown",
   "metadata": {},
   "source": [
    "# #EDA"
   ]
  },
  {
   "cell_type": "code",
   "execution_count": 720,
   "metadata": {},
   "outputs": [],
   "source": [
    "df_clean2.to_csv(\"Final_dataset.csv\")"
   ]
  },
  {
   "cell_type": "code",
   "execution_count": 6,
   "metadata": {},
   "outputs": [],
   "source": [
    "df = pd.read_csv(r\"Final_dataset.csv\")"
   ]
  },
  {
   "cell_type": "code",
   "execution_count": 7,
   "metadata": {},
   "outputs": [
    {
     "data": {
      "text/plain": [
       "<AxesSubplot:>"
      ]
     },
     "execution_count": 7,
     "metadata": {},
     "output_type": "execute_result"
    },
    {
     "data": {
      "image/png": "[encoded data removed]",
      "text/plain": [
       "<Figure size 432x288 with 1 Axes>"
      ]
     },
     "metadata": {
      "needs_background": "light"
     },
     "output_type": "display_data"
    }
   ],
   "source": [
    "df.City.hist()"
   ]
  },
  {
   "cell_type": "code",
   "execution_count": 8,
   "metadata": {},
   "outputs": [
    {
     "data": {
      "text/plain": [
       "<AxesSubplot:>"
      ]
     },
     "execution_count": 8,
     "metadata": {},
     "output_type": "execute_result"
    },
    {
     "data": {
      "image/png": "[encoded data removed]",
      "text/plain": [
       "<Figure size 432x288 with 1 Axes>"
      ]
     },
     "metadata": {
      "needs_background": "light"
     },
     "output_type": "display_data"
    }
   ],
   "source": [
    "df.salary_avg.hist()"
   ]
  },
  {
   "cell_type": "code",
   "execution_count": 9,
   "metadata": {},
   "outputs": [
    {
     "data": {
      "text/plain": [
       "<AxesSubplot:>"
      ]
     },
     "execution_count": 9,
     "metadata": {},
     "output_type": "execute_result"
    },
    {
     "data": {
      "image/png": "[encoded data removed]",
      "text/plain": [
       "<Figure size 432x288 with 1 Axes>"
      ]
     },
     "metadata": {
      "needs_background": "light"
     },
     "output_type": "display_data"
    }
   ],
   "source": [
    "df.boxplot(column = ['salary_avg','Experience'])"
   ]
  },
  {
   "cell_type": "code",
   "execution_count": 10,
   "metadata": {},
   "outputs": [
    {
     "data": {
      "text/html": [
       "<div>\n",
       "<style scoped>\n",
       "    .dataframe tbody tr th:only-of-type {\n",
       "        vertical-align: middle;\n",
       "    }\n",
       "\n",
       "    .dataframe tbody tr th {\n",
       "        vertical-align: top;\n",
       "    }\n",
       "\n",
       "    .dataframe thead th {\n",
       "        text-align: right;\n",
       "    }\n",
       "</style>\n",
       "<table border=\"1\" class=\"dataframe\">\n",
       "  <thead>\n",
       "    <tr style=\"text-align: right;\">\n",
       "      <th></th>\n",
       "      <th>salary_avg</th>\n",
       "      <th>Experience</th>\n",
       "    </tr>\n",
       "  </thead>\n",
       "  <tbody>\n",
       "    <tr>\n",
       "      <th>salary_avg</th>\n",
       "      <td>1.000000</td>\n",
       "      <td>0.654844</td>\n",
       "    </tr>\n",
       "    <tr>\n",
       "      <th>Experience</th>\n",
       "      <td>0.654844</td>\n",
       "      <td>1.000000</td>\n",
       "    </tr>\n",
       "  </tbody>\n",
       "</table>\n",
       "</div>"
      ],
      "text/plain": [
       "            salary_avg  Experience\n",
       "salary_avg    1.000000    0.654844\n",
       "Experience    0.654844    1.000000"
      ]
     },
     "execution_count": 10,
     "metadata": {},
     "output_type": "execute_result"
    }
   ],
   "source": [
    "df[['salary_avg','Experience']].corr()"
   ]
  },
  {
   "cell_type": "code",
   "execution_count": 11,
   "metadata": {},
   "outputs": [
    {
     "data": {
      "text/plain": [
       "Index(['Unnamed: 0', 'Unnamed: 0.1', 'Company', 'Experience', 'JobTitle',\n",
       "       'salary_avg', 'Salary', 'Summary', 'monthly', 'Unnamed: 9',\n",
       "       'salary_max', 'salary_min', 'City', 'State', 'Lightning', 'LWC',\n",
       "       'Triggers', 'Test_Classes', 'JavaScript', 'Testing', 'Client',\n",
       "       'Configuration', 'Business', 'lightning', 'apex', 'development',\n",
       "       'Business_Interaction', 'Functional', 'Lead_team'],\n",
       "      dtype='object')"
      ]
     },
     "execution_count": 11,
     "metadata": {},
     "output_type": "execute_result"
    }
   ],
   "source": [
    "df.columns"
   ]
  },
  {
   "cell_type": "code",
   "execution_count": 12,
   "metadata": {},
   "outputs": [
    {
     "name": "stdout",
     "output_type": "stream",
     "text": [
      "<class 'pandas.core.frame.DataFrame'>\n",
      "RangeIndex: 309 entries, 0 to 308\n",
      "Data columns (total 29 columns):\n",
      " #   Column                Non-Null Count  Dtype  \n",
      "---  ------                --------------  -----  \n",
      " 0   Unnamed: 0            309 non-null    int64  \n",
      " 1   Unnamed: 0.1          309 non-null    int64  \n",
      " 2   Company               309 non-null    object \n",
      " 3   Experience            309 non-null    int64  \n",
      " 4   JobTitle              309 non-null    object \n",
      " 5   salary_avg            309 non-null    float64\n",
      " 6   Salary                309 non-null    object \n",
      " 7   Summary               309 non-null    object \n",
      " 8   monthly               309 non-null    int64  \n",
      " 9   Unnamed: 9            0 non-null      float64\n",
      " 10  salary_max            309 non-null    float64\n",
      " 11  salary_min            309 non-null    float64\n",
      " 12  City                  309 non-null    object \n",
      " 13  State                 309 non-null    object \n",
      " 14  Lightning             309 non-null    int64  \n",
      " 15  LWC                   309 non-null    int64  \n",
      " 16  Triggers              309 non-null    int64  \n",
      " 17  Test_Classes          309 non-null    int64  \n",
      " 18  JavaScript            309 non-null    int64  \n",
      " 19  Testing               309 non-null    int64  \n",
      " 20  Client                309 non-null    int64  \n",
      " 21  Configuration         309 non-null    int64  \n",
      " 22  Business              309 non-null    int64  \n",
      " 23  lightning             309 non-null    int64  \n",
      " 24  apex                  309 non-null    int64  \n",
      " 25  development           309 non-null    int64  \n",
      " 26  Business_Interaction  309 non-null    int64  \n",
      " 27  Functional            309 non-null    int64  \n",
      " 28  Lead_team             309 non-null    int64  \n",
      "dtypes: float64(4), int64(19), object(6)\n",
      "memory usage: 70.1+ KB\n"
     ]
    }
   ],
   "source": [
    "df.info()"
   ]
  },
  {
   "cell_type": "code",
   "execution_count": 13,
   "metadata": {},
   "outputs": [],
   "source": [
    "df_cat = df[['JobTitle','City','development','Business_Interaction',\n",
    "       'Functional', 'Lead_team','Configuration']].corr()"
   ]
  },
  {
   "cell_type": "code",
   "execution_count": 14,
   "metadata": {},
   "outputs": [
    {
     "data": {
      "text/html": [
       "<div>\n",
       "<style scoped>\n",
       "    .dataframe tbody tr th:only-of-type {\n",
       "        vertical-align: middle;\n",
       "    }\n",
       "\n",
       "    .dataframe tbody tr th {\n",
       "        vertical-align: top;\n",
       "    }\n",
       "\n",
       "    .dataframe thead th {\n",
       "        text-align: right;\n",
       "    }\n",
       "</style>\n",
       "<table border=\"1\" class=\"dataframe\">\n",
       "  <thead>\n",
       "    <tr style=\"text-align: right;\">\n",
       "      <th></th>\n",
       "      <th>development</th>\n",
       "      <th>Business_Interaction</th>\n",
       "      <th>Functional</th>\n",
       "      <th>Lead_team</th>\n",
       "      <th>Configuration</th>\n",
       "    </tr>\n",
       "  </thead>\n",
       "  <tbody>\n",
       "    <tr>\n",
       "      <th>development</th>\n",
       "      <td>1.000000</td>\n",
       "      <td>-0.066858</td>\n",
       "      <td>-0.133330</td>\n",
       "      <td>-0.134776</td>\n",
       "      <td>-0.133330</td>\n",
       "    </tr>\n",
       "    <tr>\n",
       "      <th>Business_Interaction</th>\n",
       "      <td>-0.066858</td>\n",
       "      <td>1.000000</td>\n",
       "      <td>0.012313</td>\n",
       "      <td>-0.142035</td>\n",
       "      <td>0.012313</td>\n",
       "    </tr>\n",
       "    <tr>\n",
       "      <th>Functional</th>\n",
       "      <td>-0.133330</td>\n",
       "      <td>0.012313</td>\n",
       "      <td>1.000000</td>\n",
       "      <td>-0.038228</td>\n",
       "      <td>0.060505</td>\n",
       "    </tr>\n",
       "    <tr>\n",
       "      <th>Lead_team</th>\n",
       "      <td>-0.134776</td>\n",
       "      <td>-0.142035</td>\n",
       "      <td>-0.038228</td>\n",
       "      <td>1.000000</td>\n",
       "      <td>0.070809</td>\n",
       "    </tr>\n",
       "    <tr>\n",
       "      <th>Configuration</th>\n",
       "      <td>-0.133330</td>\n",
       "      <td>0.012313</td>\n",
       "      <td>0.060505</td>\n",
       "      <td>0.070809</td>\n",
       "      <td>1.000000</td>\n",
       "    </tr>\n",
       "  </tbody>\n",
       "</table>\n",
       "</div>"
      ],
      "text/plain": [
       "                      development  Business_Interaction  Functional  \\\n",
       "development              1.000000             -0.066858   -0.133330   \n",
       "Business_Interaction    -0.066858              1.000000    0.012313   \n",
       "Functional              -0.133330              0.012313    1.000000   \n",
       "Lead_team               -0.134776             -0.142035   -0.038228   \n",
       "Configuration           -0.133330              0.012313    0.060505   \n",
       "\n",
       "                      Lead_team  Configuration  \n",
       "development           -0.134776      -0.133330  \n",
       "Business_Interaction  -0.142035       0.012313  \n",
       "Functional            -0.038228       0.060505  \n",
       "Lead_team              1.000000       0.070809  \n",
       "Configuration          0.070809       1.000000  "
      ]
     },
     "execution_count": 14,
     "metadata": {},
     "output_type": "execute_result"
    }
   ],
   "source": [
    "df_cat"
   ]
  },
  {
   "cell_type": "code",
   "execution_count": 15,
   "metadata": {},
   "outputs": [],
   "source": [
    "import seaborn as sns"
   ]
  },
  {
   "cell_type": "code",
   "execution_count": 16,
   "metadata": {},
   "outputs": [
    {
     "name": "stdout",
     "output_type": "stream",
     "text": [
      "graph for development: total = 5\n"
     ]
    },
    {
     "data": {
      "image/png": "[encoded data removed]",
      "text/plain": [
       "<Figure size 432x288 with 1 Axes>"
      ]
     },
     "metadata": {
      "needs_background": "light"
     },
     "output_type": "display_data"
    },
    {
     "name": "stdout",
     "output_type": "stream",
     "text": [
      "graph for Business_Interaction: total = 5\n"
     ]
    },
    {
     "data": {
      "image/png": "[encoded data removed]",
      "text/plain": [
       "<Figure size 432x288 with 1 Axes>"
      ]
     },
     "metadata": {
      "needs_background": "light"
     },
     "output_type": "display_data"
    },
    {
     "name": "stdout",
     "output_type": "stream",
     "text": [
      "graph for Functional: total = 5\n"
     ]
    },
    {
     "data": {
      "image/png": "[encoded data removed]",
      "text/plain": [
       "<Figure size 432x288 with 1 Axes>"
      ]
     },
     "metadata": {
      "needs_background": "light"
     },
     "output_type": "display_data"
    },
    {
     "name": "stdout",
     "output_type": "stream",
     "text": [
      "graph for Lead_team: total = 5\n"
     ]
    },
    {
     "data": {
      "image/png": "[encoded data removed]",
      "text/plain": [
       "<Figure size 432x288 with 1 Axes>"
      ]
     },
     "metadata": {
      "needs_background": "light"
     },
     "output_type": "display_data"
    },
    {
     "name": "stdout",
     "output_type": "stream",
     "text": [
      "graph for Configuration: total = 5\n"
     ]
    },
    {
     "data": {
      "image/png": "[encoded data removed]",
      "text/plain": [
       "<Figure size 432x288 with 1 Axes>"
      ]
     },
     "metadata": {
      "needs_background": "light"
     },
     "output_type": "display_data"
    }
   ],
   "source": [
    "for i in df_cat.columns:\n",
    "    cat_num = df_cat[i].value_counts()\n",
    "    print(\"graph for %s: total = %d\" % (i, len(cat_num)))\n",
    "    chart = sns.barplot(x=cat_num.index, y=cat_num)\n",
    "    chart.set_xticklabels(chart.get_xticklabels(), rotation=90)\n",
    "    plt.show()"
   ]
  },
  {
   "cell_type": "code",
   "execution_count": 17,
   "metadata": {},
   "outputs": [
    {
     "data": {
      "text/html": [
       "<div>\n",
       "<style scoped>\n",
       "    .dataframe tbody tr th:only-of-type {\n",
       "        vertical-align: middle;\n",
       "    }\n",
       "\n",
       "    .dataframe tbody tr th {\n",
       "        vertical-align: top;\n",
       "    }\n",
       "\n",
       "    .dataframe thead th {\n",
       "        text-align: right;\n",
       "    }\n",
       "</style>\n",
       "<table border=\"1\" class=\"dataframe\">\n",
       "  <thead>\n",
       "    <tr style=\"text-align: right;\">\n",
       "      <th></th>\n",
       "      <th>salary_avg</th>\n",
       "    </tr>\n",
       "    <tr>\n",
       "      <th>JobTitle</th>\n",
       "      <th></th>\n",
       "    </tr>\n",
       "  </thead>\n",
       "  <tbody>\n",
       "    <tr>\n",
       "      <th>Salesforce Administrator</th>\n",
       "      <td>9.867180e+05</td>\n",
       "    </tr>\n",
       "    <tr>\n",
       "      <th>Salesforce Business Analyst</th>\n",
       "      <td>8.432676e+05</td>\n",
       "    </tr>\n",
       "    <tr>\n",
       "      <th>Salesforce Developer</th>\n",
       "      <td>1.566923e+06</td>\n",
       "    </tr>\n",
       "    <tr>\n",
       "      <th>Salesforce Technical Architect</th>\n",
       "      <td>2.158556e+06</td>\n",
       "    </tr>\n",
       "    <tr>\n",
       "      <th>Salesforce Technical/Proect Manager</th>\n",
       "      <td>2.002707e+06</td>\n",
       "    </tr>\n",
       "  </tbody>\n",
       "</table>\n",
       "</div>"
      ],
      "text/plain": [
       "                                       salary_avg\n",
       "JobTitle                                         \n",
       "Salesforce Administrator             9.867180e+05\n",
       "Salesforce Business Analyst          8.432676e+05\n",
       "Salesforce Developer                 1.566923e+06\n",
       "Salesforce Technical Architect       2.158556e+06\n",
       "Salesforce Technical/Proect Manager  2.002707e+06"
      ]
     },
     "execution_count": 17,
     "metadata": {},
     "output_type": "execute_result"
    }
   ],
   "source": [
    "pd.pivot_table(df, index = 'JobTitle', values = 'salary_avg')"
   ]
  },
  {
   "cell_type": "code",
   "execution_count": 18,
   "metadata": {},
   "outputs": [
    {
     "data": {
      "text/plain": [
       "0      1147200.0\n",
       "1       630000.0\n",
       "2       600000.0\n",
       "3      1287000.0\n",
       "4       537500.0\n",
       "         ...    \n",
       "304    2502500.0\n",
       "305    1430000.0\n",
       "306    3003000.0\n",
       "307    3432000.0\n",
       "308    1322500.0\n",
       "Name: salary_avg, Length: 309, dtype: float64"
      ]
     },
     "execution_count": 18,
     "metadata": {},
     "output_type": "execute_result"
    }
   ],
   "source": [
    "df['salary_avg']"
   ]
  },
  {
   "cell_type": "code",
   "execution_count": 19,
   "metadata": {},
   "outputs": [
    {
     "data": {
      "text/html": [
       "<div>\n",
       "<style scoped>\n",
       "    .dataframe tbody tr th:only-of-type {\n",
       "        vertical-align: middle;\n",
       "    }\n",
       "\n",
       "    .dataframe tbody tr th {\n",
       "        vertical-align: top;\n",
       "    }\n",
       "\n",
       "    .dataframe thead th {\n",
       "        text-align: right;\n",
       "    }\n",
       "</style>\n",
       "<table border=\"1\" class=\"dataframe\">\n",
       "  <thead>\n",
       "    <tr style=\"text-align: right;\">\n",
       "      <th></th>\n",
       "      <th></th>\n",
       "      <th>salary_avg</th>\n",
       "    </tr>\n",
       "    <tr>\n",
       "      <th>City</th>\n",
       "      <th>JobTitle</th>\n",
       "      <th></th>\n",
       "    </tr>\n",
       "  </thead>\n",
       "  <tbody>\n",
       "    <tr>\n",
       "      <th>Noida</th>\n",
       "      <th>Salesforce Technical/Proect Manager</th>\n",
       "      <td>2.168833e+06</td>\n",
       "    </tr>\n",
       "    <tr>\n",
       "      <th>Mumbai</th>\n",
       "      <th>Salesforce Technical/Proect Manager</th>\n",
       "      <td>1.263000e+06</td>\n",
       "    </tr>\n",
       "    <tr>\n",
       "      <th>Ahmedabad</th>\n",
       "      <th>Salesforce Technical/Proect Manager</th>\n",
       "      <td>8.000000e+05</td>\n",
       "    </tr>\n",
       "    <tr>\n",
       "      <th>Hyderabad</th>\n",
       "      <th>Salesforce Technical/Proect Manager</th>\n",
       "      <td>8.595000e+05</td>\n",
       "    </tr>\n",
       "    <tr>\n",
       "      <th>Gurgaon</th>\n",
       "      <th>Salesforce Technical/Proect Manager</th>\n",
       "      <td>1.410667e+06</td>\n",
       "    </tr>\n",
       "    <tr>\n",
       "      <th>Bengaluru</th>\n",
       "      <th>Salesforce Technical/Proect Manager</th>\n",
       "      <td>2.482111e+06</td>\n",
       "    </tr>\n",
       "    <tr>\n",
       "      <th>Delhi</th>\n",
       "      <th>Salesforce Technical/Proect Manager</th>\n",
       "      <td>2.240333e+06</td>\n",
       "    </tr>\n",
       "    <tr>\n",
       "      <th rowspan=\"2\" valign=\"top\">Chennai</th>\n",
       "      <th>Salesforce Technical/Proect Manager</th>\n",
       "      <td>2.394400e+06</td>\n",
       "    </tr>\n",
       "    <tr>\n",
       "      <th>Salesforce Technical Architect</th>\n",
       "      <td>2.530520e+06</td>\n",
       "    </tr>\n",
       "    <tr>\n",
       "      <th>Hyderabad</th>\n",
       "      <th>Salesforce Technical Architect</th>\n",
       "      <td>2.189557e+06</td>\n",
       "    </tr>\n",
       "    <tr>\n",
       "      <th>Noida</th>\n",
       "      <th>Salesforce Technical Architect</th>\n",
       "      <td>1.587167e+06</td>\n",
       "    </tr>\n",
       "    <tr>\n",
       "      <th>Delhi</th>\n",
       "      <th>Salesforce Technical Architect</th>\n",
       "      <td>2.502500e+06</td>\n",
       "    </tr>\n",
       "    <tr>\n",
       "      <th>Mumbai</th>\n",
       "      <th>Salesforce Technical Architect</th>\n",
       "      <td>2.077750e+06</td>\n",
       "    </tr>\n",
       "    <tr>\n",
       "      <th>Bengaluru</th>\n",
       "      <th>Salesforce Technical Architect</th>\n",
       "      <td>2.096248e+06</td>\n",
       "    </tr>\n",
       "    <tr>\n",
       "      <th>Pune</th>\n",
       "      <th>Salesforce Technical Architect</th>\n",
       "      <td>2.502500e+06</td>\n",
       "    </tr>\n",
       "    <tr>\n",
       "      <th>Chennai</th>\n",
       "      <th>Salesforce Developer</th>\n",
       "      <td>1.364221e+06</td>\n",
       "    </tr>\n",
       "    <tr>\n",
       "      <th>Mumbai</th>\n",
       "      <th>Salesforce Developer</th>\n",
       "      <td>1.800808e+06</td>\n",
       "    </tr>\n",
       "    <tr>\n",
       "      <th>Delhi</th>\n",
       "      <th>Salesforce Developer</th>\n",
       "      <td>2.030600e+06</td>\n",
       "    </tr>\n",
       "    <tr>\n",
       "      <th>Pune</th>\n",
       "      <th>Salesforce Developer</th>\n",
       "      <td>2.386679e+06</td>\n",
       "    </tr>\n",
       "    <tr>\n",
       "      <th>Gurgaon</th>\n",
       "      <th>Salesforce Developer</th>\n",
       "      <td>1.083822e+06</td>\n",
       "    </tr>\n",
       "    <tr>\n",
       "      <th>Bengaluru</th>\n",
       "      <th>Salesforce Developer</th>\n",
       "      <td>1.756209e+06</td>\n",
       "    </tr>\n",
       "    <tr>\n",
       "      <th>Noida</th>\n",
       "      <th>Salesforce Developer</th>\n",
       "      <td>1.392207e+06</td>\n",
       "    </tr>\n",
       "    <tr>\n",
       "      <th>Hyderabad</th>\n",
       "      <th>Salesforce Developer</th>\n",
       "      <td>1.536653e+06</td>\n",
       "    </tr>\n",
       "    <tr>\n",
       "      <th>Ahmedabad</th>\n",
       "      <th>Salesforce Developer</th>\n",
       "      <td>9.511050e+05</td>\n",
       "    </tr>\n",
       "    <tr>\n",
       "      <th>Kolkata</th>\n",
       "      <th>Salesforce Developer</th>\n",
       "      <td>6.808833e+05</td>\n",
       "    </tr>\n",
       "    <tr>\n",
       "      <th>Remote</th>\n",
       "      <th>Salesforce Developer</th>\n",
       "      <td>1.162474e+06</td>\n",
       "    </tr>\n",
       "    <tr>\n",
       "      <th>Pune</th>\n",
       "      <th>Salesforce Business Analyst</th>\n",
       "      <td>1.116875e+06</td>\n",
       "    </tr>\n",
       "    <tr>\n",
       "      <th>Noida</th>\n",
       "      <th>Salesforce Business Analyst</th>\n",
       "      <td>3.200000e+05</td>\n",
       "    </tr>\n",
       "    <tr>\n",
       "      <th>Remote</th>\n",
       "      <th>Salesforce Business Analyst</th>\n",
       "      <td>5.883333e+05</td>\n",
       "    </tr>\n",
       "    <tr>\n",
       "      <th>Hyderabad</th>\n",
       "      <th>Salesforce Business Analyst</th>\n",
       "      <td>8.412500e+05</td>\n",
       "    </tr>\n",
       "    <tr>\n",
       "      <th>Mumbai</th>\n",
       "      <th>Salesforce Business Analyst</th>\n",
       "      <td>9.481000e+05</td>\n",
       "    </tr>\n",
       "    <tr>\n",
       "      <th>Ahmedabad</th>\n",
       "      <th>Salesforce Business Analyst</th>\n",
       "      <td>5.916667e+05</td>\n",
       "    </tr>\n",
       "    <tr>\n",
       "      <th>Gurgaon</th>\n",
       "      <th>Salesforce Business Analyst</th>\n",
       "      <td>4.950000e+05</td>\n",
       "    </tr>\n",
       "    <tr>\n",
       "      <th>Delhi</th>\n",
       "      <th>Salesforce Business Analyst</th>\n",
       "      <td>7.771667e+05</td>\n",
       "    </tr>\n",
       "    <tr>\n",
       "      <th>Chennai</th>\n",
       "      <th>Salesforce Business Analyst</th>\n",
       "      <td>7.550000e+05</td>\n",
       "    </tr>\n",
       "    <tr>\n",
       "      <th>Bengaluru</th>\n",
       "      <th>Salesforce Business Analyst</th>\n",
       "      <td>1.061833e+06</td>\n",
       "    </tr>\n",
       "    <tr>\n",
       "      <th>Mumbai</th>\n",
       "      <th>Salesforce Administrator</th>\n",
       "      <td>1.162500e+06</td>\n",
       "    </tr>\n",
       "    <tr>\n",
       "      <th>Kolkata</th>\n",
       "      <th>Salesforce Administrator</th>\n",
       "      <td>6.300000e+05</td>\n",
       "    </tr>\n",
       "    <tr>\n",
       "      <th>Hyderabad</th>\n",
       "      <th>Salesforce Administrator</th>\n",
       "      <td>3.017880e+05</td>\n",
       "    </tr>\n",
       "    <tr>\n",
       "      <th>Pune</th>\n",
       "      <th>Salesforce Administrator</th>\n",
       "      <td>1.147200e+06</td>\n",
       "    </tr>\n",
       "    <tr>\n",
       "      <th>Chennai</th>\n",
       "      <th>Salesforce Administrator</th>\n",
       "      <td>1.100625e+06</td>\n",
       "    </tr>\n",
       "    <tr>\n",
       "      <th>Remote</th>\n",
       "      <th>Salesforce Administrator</th>\n",
       "      <td>3.060000e+05</td>\n",
       "    </tr>\n",
       "    <tr>\n",
       "      <th>Bengaluru</th>\n",
       "      <th>Salesforce Administrator</th>\n",
       "      <td>1.228125e+06</td>\n",
       "    </tr>\n",
       "    <tr>\n",
       "      <th>Ahmedabad</th>\n",
       "      <th>Salesforce Administrator</th>\n",
       "      <td>6.000000e+05</td>\n",
       "    </tr>\n",
       "  </tbody>\n",
       "</table>\n",
       "</div>"
      ],
      "text/plain": [
       "                                                 salary_avg\n",
       "City      JobTitle                                         \n",
       "Noida     Salesforce Technical/Proect Manager  2.168833e+06\n",
       "Mumbai    Salesforce Technical/Proect Manager  1.263000e+06\n",
       "Ahmedabad Salesforce Technical/Proect Manager  8.000000e+05\n",
       "Hyderabad Salesforce Technical/Proect Manager  8.595000e+05\n",
       "Gurgaon   Salesforce Technical/Proect Manager  1.410667e+06\n",
       "Bengaluru Salesforce Technical/Proect Manager  2.482111e+06\n",
       "Delhi     Salesforce Technical/Proect Manager  2.240333e+06\n",
       "Chennai   Salesforce Technical/Proect Manager  2.394400e+06\n",
       "          Salesforce Technical Architect       2.530520e+06\n",
       "Hyderabad Salesforce Technical Architect       2.189557e+06\n",
       "Noida     Salesforce Technical Architect       1.587167e+06\n",
       "Delhi     Salesforce Technical Architect       2.502500e+06\n",
       "Mumbai    Salesforce Technical Architect       2.077750e+06\n",
       "Bengaluru Salesforce Technical Architect       2.096248e+06\n",
       "Pune      Salesforce Technical Architect       2.502500e+06\n",
       "Chennai   Salesforce Developer                 1.364221e+06\n",
       "Mumbai    Salesforce Developer                 1.800808e+06\n",
       "Delhi     Salesforce Developer                 2.030600e+06\n",
       "Pune      Salesforce Developer                 2.386679e+06\n",
       "Gurgaon   Salesforce Developer                 1.083822e+06\n",
       "Bengaluru Salesforce Developer                 1.756209e+06\n",
       "Noida     Salesforce Developer                 1.392207e+06\n",
       "Hyderabad Salesforce Developer                 1.536653e+06\n",
       "Ahmedabad Salesforce Developer                 9.511050e+05\n",
       "Kolkata   Salesforce Developer                 6.808833e+05\n",
       "Remote    Salesforce Developer                 1.162474e+06\n",
       "Pune      Salesforce Business Analyst          1.116875e+06\n",
       "Noida     Salesforce Business Analyst          3.200000e+05\n",
       "Remote    Salesforce Business Analyst          5.883333e+05\n",
       "Hyderabad Salesforce Business Analyst          8.412500e+05\n",
       "Mumbai    Salesforce Business Analyst          9.481000e+05\n",
       "Ahmedabad Salesforce Business Analyst          5.916667e+05\n",
       "Gurgaon   Salesforce Business Analyst          4.950000e+05\n",
       "Delhi     Salesforce Business Analyst          7.771667e+05\n",
       "Chennai   Salesforce Business Analyst          7.550000e+05\n",
       "Bengaluru Salesforce Business Analyst          1.061833e+06\n",
       "Mumbai    Salesforce Administrator             1.162500e+06\n",
       "Kolkata   Salesforce Administrator             6.300000e+05\n",
       "Hyderabad Salesforce Administrator             3.017880e+05\n",
       "Pune      Salesforce Administrator             1.147200e+06\n",
       "Chennai   Salesforce Administrator             1.100625e+06\n",
       "Remote    Salesforce Administrator             3.060000e+05\n",
       "Bengaluru Salesforce Administrator             1.228125e+06\n",
       "Ahmedabad Salesforce Administrator             6.000000e+05"
      ]
     },
     "execution_count": 19,
     "metadata": {},
     "output_type": "execute_result"
    }
   ],
   "source": [
    "pd.pivot_table(df, index = ['City','JobTitle'], values = 'salary_avg').sort_values('JobTitle', ascending = False)"
   ]
  },
  {
   "cell_type": "markdown",
   "metadata": {},
   "source": [
    "# Model Building"
   ]
  },
  {
   "cell_type": "code",
   "execution_count": 20,
   "metadata": {},
   "outputs": [],
   "source": [
    "# choose relevant columns "
   ]
  },
  {
   "cell_type": "code",
   "execution_count": 21,
   "metadata": {},
   "outputs": [
    {
     "data": {
      "text/plain": [
       "Index(['Unnamed: 0', 'Unnamed: 0.1', 'Company', 'Experience', 'JobTitle',\n",
       "       'salary_avg', 'Salary', 'Summary', 'monthly', 'Unnamed: 9',\n",
       "       'salary_max', 'salary_min', 'City', 'State', 'Lightning', 'LWC',\n",
       "       'Triggers', 'Test_Classes', 'JavaScript', 'Testing', 'Client',\n",
       "       'Configuration', 'Business', 'lightning', 'apex', 'development',\n",
       "       'Business_Interaction', 'Functional', 'Lead_team'],\n",
       "      dtype='object')"
      ]
     },
     "execution_count": 21,
     "metadata": {},
     "output_type": "execute_result"
    }
   ],
   "source": [
    "df.columns"
   ]
  },
  {
   "cell_type": "code",
   "execution_count": 22,
   "metadata": {},
   "outputs": [],
   "source": [
    "df_model = df[['salary_avg','Experience','JobTitle','City','development','Lead_team','Functional','Business_Interaction','Configuration']]"
   ]
  },
  {
   "cell_type": "code",
   "execution_count": 23,
   "metadata": {},
   "outputs": [],
   "source": [
    "# get dummy data "
   ]
  },
  {
   "cell_type": "code",
   "execution_count": 24,
   "metadata": {},
   "outputs": [],
   "source": [
    "df_dum = pd.get_dummies(df_model)"
   ]
  },
  {
   "cell_type": "code",
   "execution_count": 25,
   "metadata": {},
   "outputs": [],
   "source": [
    "# train test split "
   ]
  },
  {
   "cell_type": "code",
   "execution_count": 26,
   "metadata": {},
   "outputs": [],
   "source": [
    "from sklearn.model_selection import train_test_split"
   ]
  },
  {
   "cell_type": "code",
   "execution_count": 27,
   "metadata": {},
   "outputs": [],
   "source": [
    "X = df_dum.drop('salary_avg', axis=1)\n",
    "y = df_dum.salary_avg.values\n",
    "X_train, X_test, y_train, y_test = train_test_split(X, y, test_size=0.2, random_state=42)"
   ]
  },
  {
   "cell_type": "code",
   "execution_count": 28,
   "metadata": {},
   "outputs": [
    {
     "data": {
      "text/html": [
       "<table class=\"simpletable\">\n",
       "<caption>OLS Regression Results</caption>\n",
       "<tr>\n",
       "  <th>Dep. Variable:</th>            <td>y</td>        <th>  R-squared:         </th> <td>   0.495</td>\n",
       "</tr>\n",
       "<tr>\n",
       "  <th>Model:</th>                   <td>OLS</td>       <th>  Adj. R-squared:    </th> <td>   0.460</td>\n",
       "</tr>\n",
       "<tr>\n",
       "  <th>Method:</th>             <td>Least Squares</td>  <th>  F-statistic:       </th> <td>   14.11</td>\n",
       "</tr>\n",
       "<tr>\n",
       "  <th>Date:</th>             <td>Sun, 28 Feb 2021</td> <th>  Prob (F-statistic):</th> <td>3.65e-32</td>\n",
       "</tr>\n",
       "<tr>\n",
       "  <th>Time:</th>                 <td>00:17:45</td>     <th>  Log-Likelihood:    </th> <td> -4616.5</td>\n",
       "</tr>\n",
       "<tr>\n",
       "  <th>No. Observations:</th>      <td>   309</td>      <th>  AIC:               </th> <td>   9275.</td>\n",
       "</tr>\n",
       "<tr>\n",
       "  <th>Df Residuals:</th>          <td>   288</td>      <th>  BIC:               </th> <td>   9353.</td>\n",
       "</tr>\n",
       "<tr>\n",
       "  <th>Df Model:</th>              <td>    20</td>      <th>                     </th>     <td> </td>   \n",
       "</tr>\n",
       "<tr>\n",
       "  <th>Covariance Type:</th>      <td>nonrobust</td>    <th>                     </th>     <td> </td>   \n",
       "</tr>\n",
       "</table>\n",
       "<table class=\"simpletable\">\n",
       "<tr>\n",
       "                        <td></td>                          <th>coef</th>     <th>std err</th>      <th>t</th>      <th>P>|t|</th>  <th>[0.025</th>    <th>0.975]</th>  \n",
       "</tr>\n",
       "<tr>\n",
       "  <th>const</th>                                        <td> -4.94e+05</td> <td> 1.43e+05</td> <td>   -3.446</td> <td> 0.001</td> <td>-7.76e+05</td> <td>-2.12e+05</td>\n",
       "</tr>\n",
       "<tr>\n",
       "  <th>Experience</th>                                   <td> 3.075e+05</td> <td> 2.64e+04</td> <td>   11.668</td> <td> 0.000</td> <td> 2.56e+05</td> <td> 3.59e+05</td>\n",
       "</tr>\n",
       "<tr>\n",
       "  <th>development</th>                                  <td>-3.752e+04</td> <td>  1.1e+05</td> <td>   -0.340</td> <td> 0.734</td> <td>-2.54e+05</td> <td> 1.79e+05</td>\n",
       "</tr>\n",
       "<tr>\n",
       "  <th>Lead_team</th>                                    <td>-7.301e+04</td> <td> 1.37e+05</td> <td>   -0.532</td> <td> 0.595</td> <td>-3.43e+05</td> <td> 1.97e+05</td>\n",
       "</tr>\n",
       "<tr>\n",
       "  <th>Functional</th>                                   <td>-2.281e+05</td> <td> 1.75e+05</td> <td>   -1.305</td> <td> 0.193</td> <td>-5.72e+05</td> <td> 1.16e+05</td>\n",
       "</tr>\n",
       "<tr>\n",
       "  <th>Business_Interaction</th>                         <td> 2.334e+05</td> <td>  1.5e+05</td> <td>    1.556</td> <td> 0.121</td> <td>-6.18e+04</td> <td> 5.29e+05</td>\n",
       "</tr>\n",
       "<tr>\n",
       "  <th>Configuration</th>                                <td>-4713.1087</td> <td> 1.78e+05</td> <td>   -0.027</td> <td> 0.979</td> <td>-3.54e+05</td> <td> 3.45e+05</td>\n",
       "</tr>\n",
       "<tr>\n",
       "  <th>JobTitle_Salesforce Administrator</th>            <td>-2.248e+05</td> <td> 1.72e+05</td> <td>   -1.304</td> <td> 0.193</td> <td>-5.64e+05</td> <td> 1.15e+05</td>\n",
       "</tr>\n",
       "<tr>\n",
       "  <th>JobTitle_Salesforce Business Analyst</th>         <td> -2.71e+04</td> <td> 1.28e+05</td> <td>   -0.211</td> <td> 0.833</td> <td> -2.8e+05</td> <td> 2.26e+05</td>\n",
       "</tr>\n",
       "<tr>\n",
       "  <th>JobTitle_Salesforce Developer</th>                <td> 1.311e+05</td> <td> 7.38e+04</td> <td>    1.776</td> <td> 0.077</td> <td>-1.42e+04</td> <td> 2.76e+05</td>\n",
       "</tr>\n",
       "<tr>\n",
       "  <th>JobTitle_Salesforce Technical Architect</th>      <td>-2.305e+05</td> <td> 1.43e+05</td> <td>   -1.608</td> <td> 0.109</td> <td>-5.13e+05</td> <td> 5.17e+04</td>\n",
       "</tr>\n",
       "<tr>\n",
       "  <th>JobTitle_Salesforce Technical/Proect Manager</th> <td>-1.426e+05</td> <td> 1.52e+05</td> <td>   -0.935</td> <td> 0.350</td> <td>-4.43e+05</td> <td> 1.57e+05</td>\n",
       "</tr>\n",
       "<tr>\n",
       "  <th>City_Ahmedabad</th>                               <td>-2.158e+05</td> <td> 2.13e+05</td> <td>   -1.011</td> <td> 0.313</td> <td>-6.36e+05</td> <td> 2.04e+05</td>\n",
       "</tr>\n",
       "<tr>\n",
       "  <th>City_Bengaluru</th>                               <td> 6.663e+04</td> <td> 1.01e+05</td> <td>    0.661</td> <td> 0.509</td> <td>-1.32e+05</td> <td> 2.65e+05</td>\n",
       "</tr>\n",
       "<tr>\n",
       "  <th>City_Chennai</th>                                 <td> 3872.1333</td> <td> 1.19e+05</td> <td>    0.033</td> <td> 0.974</td> <td> -2.3e+05</td> <td> 2.38e+05</td>\n",
       "</tr>\n",
       "<tr>\n",
       "  <th>City_Delhi</th>                                   <td>-3.998e+04</td> <td> 2.07e+05</td> <td>   -0.193</td> <td> 0.847</td> <td>-4.48e+05</td> <td> 3.68e+05</td>\n",
       "</tr>\n",
       "<tr>\n",
       "  <th>City_Gurgaon</th>                                 <td>-1.978e+05</td> <td> 1.88e+05</td> <td>   -1.052</td> <td> 0.294</td> <td>-5.68e+05</td> <td> 1.72e+05</td>\n",
       "</tr>\n",
       "<tr>\n",
       "  <th>City_Hyderabad</th>                               <td>-7.842e+04</td> <td> 1.33e+05</td> <td>   -0.591</td> <td> 0.555</td> <td> -3.4e+05</td> <td> 1.83e+05</td>\n",
       "</tr>\n",
       "<tr>\n",
       "  <th>City_Kolkata</th>                                 <td>-3.524e+05</td> <td> 2.76e+05</td> <td>   -1.276</td> <td> 0.203</td> <td>-8.96e+05</td> <td> 1.91e+05</td>\n",
       "</tr>\n",
       "<tr>\n",
       "  <th>City_Mumbai</th>                                  <td>-8.213e+04</td> <td> 1.41e+05</td> <td>   -0.582</td> <td> 0.561</td> <td> -3.6e+05</td> <td> 1.96e+05</td>\n",
       "</tr>\n",
       "<tr>\n",
       "  <th>City_Noida</th>                                   <td>-1.009e+05</td> <td> 1.64e+05</td> <td>   -0.614</td> <td> 0.540</td> <td>-4.24e+05</td> <td> 2.23e+05</td>\n",
       "</tr>\n",
       "<tr>\n",
       "  <th>City_Pune</th>                                    <td> 5.285e+05</td> <td> 1.55e+05</td> <td>    3.416</td> <td> 0.001</td> <td> 2.24e+05</td> <td> 8.33e+05</td>\n",
       "</tr>\n",
       "<tr>\n",
       "  <th>City_Remote</th>                                  <td>-2.548e+04</td> <td> 1.81e+05</td> <td>   -0.141</td> <td> 0.888</td> <td>-3.82e+05</td> <td> 3.31e+05</td>\n",
       "</tr>\n",
       "</table>\n",
       "<table class=\"simpletable\">\n",
       "<tr>\n",
       "  <th>Omnibus:</th>       <td>500.610</td> <th>  Durbin-Watson:     </th>  <td>   1.955</td> \n",
       "</tr>\n",
       "<tr>\n",
       "  <th>Prob(Omnibus):</th> <td> 0.000</td>  <th>  Jarque-Bera (JB):  </th> <td>169043.408</td>\n",
       "</tr>\n",
       "<tr>\n",
       "  <th>Skew:</th>          <td> 8.445</td>  <th>  Prob(JB):          </th>  <td>    0.00</td> \n",
       "</tr>\n",
       "<tr>\n",
       "  <th>Kurtosis:</th>      <td>116.333</td> <th>  Cond. No.          </th>  <td>7.31e+16</td> \n",
       "</tr>\n",
       "</table><br/><br/>Notes:<br/>[1] Standard Errors assume that the covariance matrix of the errors is correctly specified.<br/>[2] The smallest eigenvalue is 3.01e-30. This might indicate that there are<br/>strong multicollinearity problems or that the design matrix is singular."
      ],
      "text/plain": [
       "<class 'statsmodels.iolib.summary.Summary'>\n",
       "\"\"\"\n",
       "                            OLS Regression Results                            \n",
       "==============================================================================\n",
       "Dep. Variable:                      y   R-squared:                       0.495\n",
       "Model:                            OLS   Adj. R-squared:                  0.460\n",
       "Method:                 Least Squares   F-statistic:                     14.11\n",
       "Date:                Sun, 28 Feb 2021   Prob (F-statistic):           3.65e-32\n",
       "Time:                        00:17:45   Log-Likelihood:                -4616.5\n",
       "No. Observations:                 309   AIC:                             9275.\n",
       "Df Residuals:                     288   BIC:                             9353.\n",
       "Df Model:                          20                                         \n",
       "Covariance Type:            nonrobust                                         \n",
       "================================================================================================================\n",
       "                                                   coef    std err          t      P>|t|      [0.025      0.975]\n",
       "----------------------------------------------------------------------------------------------------------------\n",
       "const                                         -4.94e+05   1.43e+05     -3.446      0.001   -7.76e+05   -2.12e+05\n",
       "Experience                                    3.075e+05   2.64e+04     11.668      0.000    2.56e+05    3.59e+05\n",
       "development                                  -3.752e+04    1.1e+05     -0.340      0.734   -2.54e+05    1.79e+05\n",
       "Lead_team                                    -7.301e+04   1.37e+05     -0.532      0.595   -3.43e+05    1.97e+05\n",
       "Functional                                   -2.281e+05   1.75e+05     -1.305      0.193   -5.72e+05    1.16e+05\n",
       "Business_Interaction                          2.334e+05    1.5e+05      1.556      0.121   -6.18e+04    5.29e+05\n",
       "Configuration                                -4713.1087   1.78e+05     -0.027      0.979   -3.54e+05    3.45e+05\n",
       "JobTitle_Salesforce Administrator            -2.248e+05   1.72e+05     -1.304      0.193   -5.64e+05    1.15e+05\n",
       "JobTitle_Salesforce Business Analyst          -2.71e+04   1.28e+05     -0.211      0.833    -2.8e+05    2.26e+05\n",
       "JobTitle_Salesforce Developer                 1.311e+05   7.38e+04      1.776      0.077   -1.42e+04    2.76e+05\n",
       "JobTitle_Salesforce Technical Architect      -2.305e+05   1.43e+05     -1.608      0.109   -5.13e+05    5.17e+04\n",
       "JobTitle_Salesforce Technical/Proect Manager -1.426e+05   1.52e+05     -0.935      0.350   -4.43e+05    1.57e+05\n",
       "City_Ahmedabad                               -2.158e+05   2.13e+05     -1.011      0.313   -6.36e+05    2.04e+05\n",
       "City_Bengaluru                                6.663e+04   1.01e+05      0.661      0.509   -1.32e+05    2.65e+05\n",
       "City_Chennai                                  3872.1333   1.19e+05      0.033      0.974    -2.3e+05    2.38e+05\n",
       "City_Delhi                                   -3.998e+04   2.07e+05     -0.193      0.847   -4.48e+05    3.68e+05\n",
       "City_Gurgaon                                 -1.978e+05   1.88e+05     -1.052      0.294   -5.68e+05    1.72e+05\n",
       "City_Hyderabad                               -7.842e+04   1.33e+05     -0.591      0.555    -3.4e+05    1.83e+05\n",
       "City_Kolkata                                 -3.524e+05   2.76e+05     -1.276      0.203   -8.96e+05    1.91e+05\n",
       "City_Mumbai                                  -8.213e+04   1.41e+05     -0.582      0.561    -3.6e+05    1.96e+05\n",
       "City_Noida                                   -1.009e+05   1.64e+05     -0.614      0.540   -4.24e+05    2.23e+05\n",
       "City_Pune                                     5.285e+05   1.55e+05      3.416      0.001    2.24e+05    8.33e+05\n",
       "City_Remote                                  -2.548e+04   1.81e+05     -0.141      0.888   -3.82e+05    3.31e+05\n",
       "==============================================================================\n",
       "Omnibus:                      500.610   Durbin-Watson:                   1.955\n",
       "Prob(Omnibus):                  0.000   Jarque-Bera (JB):           169043.408\n",
       "Skew:                           8.445   Prob(JB):                         0.00\n",
       "Kurtosis:                     116.333   Cond. No.                     7.31e+16\n",
       "==============================================================================\n",
       "\n",
       "Notes:\n",
       "[1] Standard Errors assume that the covariance matrix of the errors is correctly specified.\n",
       "[2] The smallest eigenvalue is 3.01e-30. This might indicate that there are\n",
       "strong multicollinearity problems or that the design matrix is singular.\n",
       "\"\"\""
      ]
     },
     "execution_count": 28,
     "metadata": {},
     "output_type": "execute_result"
    }
   ],
   "source": [
    "# multiple linear regression \n",
    "import statsmodels.api as sm\n",
    "\n",
    "X_sm = X = sm.add_constant(X)\n",
    "model = sm.OLS(y,X_sm)\n",
    "model.fit().summary()\n"
   ]
  },
  {
   "cell_type": "code",
   "execution_count": 29,
   "metadata": {},
   "outputs": [
    {
     "data": {
      "text/plain": [
       "-452250.93908938096"
      ]
     },
     "execution_count": 29,
     "metadata": {},
     "output_type": "execute_result"
    }
   ],
   "source": [
    "# Use cross validation\n",
    "from sklearn.linear_model import LinearRegression, Lasso\n",
    "from sklearn.model_selection import cross_val_score\n",
    "\n",
    "lm = LinearRegression()\n",
    "lm.fit(X_train, y_train)\n",
    "np.mean(cross_val_score(lm,X_train,y_train, scoring = 'neg_mean_absolute_error', cv= 3))"
   ]
  },
  {
   "cell_type": "code",
   "execution_count": 30,
   "metadata": {},
   "outputs": [],
   "source": [
    "## Hence we are off by a value of close to 4.5 lacs"
   ]
  },
  {
   "cell_type": "code",
   "execution_count": 31,
   "metadata": {},
   "outputs": [
    {
     "name": "stderr",
     "output_type": "stream",
     "text": [
      "C:\\Users\\akkhanvilkar\\Downloads\\WPy64-3870\\python-3.8.7.amd64\\lib\\site-packages\\sklearn\\linear_model\\_coordinate_descent.py:530: ConvergenceWarning: Objective did not converge. You might want to increase the number of iterations. Duality gap: 32022056816625.023, tolerance: 29657360261.343533\n",
      "  model = cd_fast.enet_coordinate_descent(\n",
      "C:\\Users\\akkhanvilkar\\Downloads\\WPy64-3870\\python-3.8.7.amd64\\lib\\site-packages\\sklearn\\linear_model\\_coordinate_descent.py:530: ConvergenceWarning: Objective did not converge. You might want to increase the number of iterations. Duality gap: 24830479230020.258, tolerance: 23381130848.221928\n",
      "  model = cd_fast.enet_coordinate_descent(\n",
      "C:\\Users\\akkhanvilkar\\Downloads\\WPy64-3870\\python-3.8.7.amd64\\lib\\site-packages\\sklearn\\linear_model\\_coordinate_descent.py:530: ConvergenceWarning: Objective did not converge. You might want to increase the number of iterations. Duality gap: 29288975890076.742, tolerance: 24239509430.6581\n",
      "  model = cd_fast.enet_coordinate_descent(\n",
      "C:\\Users\\akkhanvilkar\\Downloads\\WPy64-3870\\python-3.8.7.amd64\\lib\\site-packages\\sklearn\\linear_model\\_coordinate_descent.py:530: ConvergenceWarning: Objective did not converge. You might want to increase the number of iterations. Duality gap: 1356696059240.4102, tolerance: 11595975481.473267\n",
      "  model = cd_fast.enet_coordinate_descent(\n"
     ]
    },
    {
     "data": {
      "text/plain": [
       "-452250.49380193255"
      ]
     },
     "execution_count": 31,
     "metadata": {},
     "output_type": "execute_result"
    }
   ],
   "source": [
    "# lasso regression \n",
    "lm_l = Lasso(alpha=.13)\n",
    "lm_l.fit(X_train,y_train)\n",
    "np.mean(cross_val_score(lm_l,X_train,y_train, scoring = 'neg_mean_absolute_error', cv= 3))"
   ]
  },
  {
   "cell_type": "code",
   "execution_count": 32,
   "metadata": {},
   "outputs": [],
   "source": [
    "# lets try diferent values of alpha and see which works best for us"
   ]
  },
  {
   "cell_type": "code",
   "execution_count": 33,
   "metadata": {},
   "outputs": [
    {
     "name": "stderr",
     "output_type": "stream",
     "text": [
      "C:\\Users\\akkhanvilkar\\Downloads\\WPy64-3870\\python-3.8.7.amd64\\lib\\site-packages\\sklearn\\linear_model\\_coordinate_descent.py:530: ConvergenceWarning: Objective did not converge. You might want to increase the number of iterations. Duality gap: 24830423228743.46, tolerance: 23381130848.221928\n",
      "  model = cd_fast.enet_coordinate_descent(\n",
      "C:\\Users\\akkhanvilkar\\Downloads\\WPy64-3870\\python-3.8.7.amd64\\lib\\site-packages\\sklearn\\linear_model\\_coordinate_descent.py:530: ConvergenceWarning: Objective did not converge. You might want to increase the number of iterations. Duality gap: 29288899898638.758, tolerance: 24239509430.6581\n",
      "  model = cd_fast.enet_coordinate_descent(\n",
      "C:\\Users\\akkhanvilkar\\Downloads\\WPy64-3870\\python-3.8.7.amd64\\lib\\site-packages\\sklearn\\linear_model\\_coordinate_descent.py:530: ConvergenceWarning: Objective did not converge. You might want to increase the number of iterations. Duality gap: 1356681356214.5742, tolerance: 11595975481.473267\n",
      "  model = cd_fast.enet_coordinate_descent(\n",
      "C:\\Users\\akkhanvilkar\\Downloads\\WPy64-3870\\python-3.8.7.amd64\\lib\\site-packages\\sklearn\\linear_model\\_coordinate_descent.py:530: ConvergenceWarning: Objective did not converge. You might want to increase the number of iterations. Duality gap: 24830427927911.992, tolerance: 23381130848.221928\n",
      "  model = cd_fast.enet_coordinate_descent(\n",
      "C:\\Users\\akkhanvilkar\\Downloads\\WPy64-3870\\python-3.8.7.amd64\\lib\\site-packages\\sklearn\\linear_model\\_coordinate_descent.py:530: ConvergenceWarning: Objective did not converge. You might want to increase the number of iterations. Duality gap: 29288906253012.08, tolerance: 24239509430.6581\n",
      "  model = cd_fast.enet_coordinate_descent(\n",
      "C:\\Users\\akkhanvilkar\\Downloads\\WPy64-3870\\python-3.8.7.amd64\\lib\\site-packages\\sklearn\\linear_model\\_coordinate_descent.py:530: ConvergenceWarning: Objective did not converge. You might want to increase the number of iterations. Duality gap: 1356682577768.0195, tolerance: 11595975481.473267\n",
      "  model = cd_fast.enet_coordinate_descent(\n",
      "C:\\Users\\akkhanvilkar\\Downloads\\WPy64-3870\\python-3.8.7.amd64\\lib\\site-packages\\sklearn\\linear_model\\_coordinate_descent.py:530: ConvergenceWarning: Objective did not converge. You might want to increase the number of iterations. Duality gap: 24830432616436.78, tolerance: 23381130848.221928\n",
      "  model = cd_fast.enet_coordinate_descent(\n",
      "C:\\Users\\akkhanvilkar\\Downloads\\WPy64-3870\\python-3.8.7.amd64\\lib\\site-packages\\sklearn\\linear_model\\_coordinate_descent.py:530: ConvergenceWarning: Objective did not converge. You might want to increase the number of iterations. Duality gap: 29288912622189.867, tolerance: 24239509430.6581\n",
      "  model = cd_fast.enet_coordinate_descent(\n",
      "C:\\Users\\akkhanvilkar\\Downloads\\WPy64-3870\\python-3.8.7.amd64\\lib\\site-packages\\sklearn\\linear_model\\_coordinate_descent.py:530: ConvergenceWarning: Objective did not converge. You might want to increase the number of iterations. Duality gap: 1356683806413.246, tolerance: 11595975481.473267\n",
      "  model = cd_fast.enet_coordinate_descent(\n",
      "C:\\Users\\akkhanvilkar\\Downloads\\WPy64-3870\\python-3.8.7.amd64\\lib\\site-packages\\sklearn\\linear_model\\_coordinate_descent.py:530: ConvergenceWarning: Objective did not converge. You might want to increase the number of iterations. Duality gap: 24830437302333.03, tolerance: 23381130848.221928\n",
      "  model = cd_fast.enet_coordinate_descent(\n",
      "C:\\Users\\akkhanvilkar\\Downloads\\WPy64-3870\\python-3.8.7.amd64\\lib\\site-packages\\sklearn\\linear_model\\_coordinate_descent.py:530: ConvergenceWarning: Objective did not converge. You might want to increase the number of iterations. Duality gap: 29288918977281.797, tolerance: 24239509430.6581\n",
      "  model = cd_fast.enet_coordinate_descent(\n",
      "C:\\Users\\akkhanvilkar\\Downloads\\WPy64-3870\\python-3.8.7.amd64\\lib\\site-packages\\sklearn\\linear_model\\_coordinate_descent.py:530: ConvergenceWarning: Objective did not converge. You might want to increase the number of iterations. Duality gap: 1356685032503.6406, tolerance: 11595975481.473267\n",
      "  model = cd_fast.enet_coordinate_descent(\n",
      "C:\\Users\\akkhanvilkar\\Downloads\\WPy64-3870\\python-3.8.7.amd64\\lib\\site-packages\\sklearn\\linear_model\\_coordinate_descent.py:530: ConvergenceWarning: Objective did not converge. You might want to increase the number of iterations. Duality gap: 24830441977941.727, tolerance: 23381130848.221928\n",
      "  model = cd_fast.enet_coordinate_descent(\n",
      "C:\\Users\\akkhanvilkar\\Downloads\\WPy64-3870\\python-3.8.7.amd64\\lib\\site-packages\\sklearn\\linear_model\\_coordinate_descent.py:530: ConvergenceWarning: Objective did not converge. You might want to increase the number of iterations. Duality gap: 29288925327071.758, tolerance: 24239509430.6581\n",
      "  model = cd_fast.enet_coordinate_descent(\n",
      "C:\\Users\\akkhanvilkar\\Downloads\\WPy64-3870\\python-3.8.7.amd64\\lib\\site-packages\\sklearn\\linear_model\\_coordinate_descent.py:530: ConvergenceWarning: Objective did not converge. You might want to increase the number of iterations. Duality gap: 1356686257934.086, tolerance: 11595975481.473267\n",
      "  model = cd_fast.enet_coordinate_descent(\n",
      "C:\\Users\\akkhanvilkar\\Downloads\\WPy64-3870\\python-3.8.7.amd64\\lib\\site-packages\\sklearn\\linear_model\\_coordinate_descent.py:530: ConvergenceWarning: Objective did not converge. You might want to increase the number of iterations. Duality gap: 24830446651395.945, tolerance: 23381130848.221928\n",
      "  model = cd_fast.enet_coordinate_descent(\n",
      "C:\\Users\\akkhanvilkar\\Downloads\\WPy64-3870\\python-3.8.7.amd64\\lib\\site-packages\\sklearn\\linear_model\\_coordinate_descent.py:530: ConvergenceWarning: Objective did not converge. You might want to increase the number of iterations. Duality gap: 29288931670005.5, tolerance: 24239509430.6581\n",
      "  model = cd_fast.enet_coordinate_descent(\n",
      "C:\\Users\\akkhanvilkar\\Downloads\\WPy64-3870\\python-3.8.7.amd64\\lib\\site-packages\\sklearn\\linear_model\\_coordinate_descent.py:530: ConvergenceWarning: Objective did not converge. You might want to increase the number of iterations. Duality gap: 1356687484365.7422, tolerance: 11595975481.473267\n",
      "  model = cd_fast.enet_coordinate_descent(\n",
      "C:\\Users\\akkhanvilkar\\Downloads\\WPy64-3870\\python-3.8.7.amd64\\lib\\site-packages\\sklearn\\linear_model\\_coordinate_descent.py:530: ConvergenceWarning: Objective did not converge. You might want to increase the number of iterations. Duality gap: 24830451321093.11, tolerance: 23381130848.221928\n",
      "  model = cd_fast.enet_coordinate_descent(\n",
      "C:\\Users\\akkhanvilkar\\Downloads\\WPy64-3870\\python-3.8.7.amd64\\lib\\site-packages\\sklearn\\linear_model\\_coordinate_descent.py:530: ConvergenceWarning: Objective did not converge. You might want to increase the number of iterations. Duality gap: 29288938007224.703, tolerance: 24239509430.6581\n",
      "  model = cd_fast.enet_coordinate_descent(\n",
      "C:\\Users\\akkhanvilkar\\Downloads\\WPy64-3870\\python-3.8.7.amd64\\lib\\site-packages\\sklearn\\linear_model\\_coordinate_descent.py:530: ConvergenceWarning: Objective did not converge. You might want to increase the number of iterations. Duality gap: 1356688710182.5273, tolerance: 11595975481.473267\n",
      "  model = cd_fast.enet_coordinate_descent(\n",
      "C:\\Users\\akkhanvilkar\\Downloads\\WPy64-3870\\python-3.8.7.amd64\\lib\\site-packages\\sklearn\\linear_model\\_coordinate_descent.py:530: ConvergenceWarning: Objective did not converge. You might want to increase the number of iterations. Duality gap: 24830455982224.85, tolerance: 23381130848.221928\n",
      "  model = cd_fast.enet_coordinate_descent(\n",
      "C:\\Users\\akkhanvilkar\\Downloads\\WPy64-3870\\python-3.8.7.amd64\\lib\\site-packages\\sklearn\\linear_model\\_coordinate_descent.py:530: ConvergenceWarning: Objective did not converge. You might want to increase the number of iterations. Duality gap: 29288944335539.977, tolerance: 24239509430.6581\n",
      "  model = cd_fast.enet_coordinate_descent(\n",
      "C:\\Users\\akkhanvilkar\\Downloads\\WPy64-3870\\python-3.8.7.amd64\\lib\\site-packages\\sklearn\\linear_model\\_coordinate_descent.py:530: ConvergenceWarning: Objective did not converge. You might want to increase the number of iterations. Duality gap: 1356689935519.2148, tolerance: 11595975481.473267\n",
      "  model = cd_fast.enet_coordinate_descent(\n",
      "C:\\Users\\akkhanvilkar\\Downloads\\WPy64-3870\\python-3.8.7.amd64\\lib\\site-packages\\sklearn\\linear_model\\_coordinate_descent.py:530: ConvergenceWarning: Objective did not converge. You might want to increase the number of iterations. Duality gap: 24830460641222.53, tolerance: 23381130848.221928\n",
      "  model = cd_fast.enet_coordinate_descent(\n",
      "C:\\Users\\akkhanvilkar\\Downloads\\WPy64-3870\\python-3.8.7.amd64\\lib\\site-packages\\sklearn\\linear_model\\_coordinate_descent.py:530: ConvergenceWarning: Objective did not converge. You might want to increase the number of iterations. Duality gap: 29288950659951.758, tolerance: 24239509430.6581\n",
      "  model = cd_fast.enet_coordinate_descent(\n",
      "C:\\Users\\akkhanvilkar\\Downloads\\WPy64-3870\\python-3.8.7.amd64\\lib\\site-packages\\sklearn\\linear_model\\_coordinate_descent.py:530: ConvergenceWarning: Objective did not converge. You might want to increase the number of iterations. Duality gap: 1356691160375.6406, tolerance: 11595975481.473267\n",
      "  model = cd_fast.enet_coordinate_descent(\n",
      "C:\\Users\\akkhanvilkar\\Downloads\\WPy64-3870\\python-3.8.7.amd64\\lib\\site-packages\\sklearn\\linear_model\\_coordinate_descent.py:530: ConvergenceWarning: Objective did not converge. You might want to increase the number of iterations. Duality gap: 24830465295888.633, tolerance: 23381130848.221928\n",
      "  model = cd_fast.enet_coordinate_descent(\n",
      "C:\\Users\\akkhanvilkar\\Downloads\\WPy64-3870\\python-3.8.7.amd64\\lib\\site-packages\\sklearn\\linear_model\\_coordinate_descent.py:530: ConvergenceWarning: Objective did not converge. You might want to increase the number of iterations. Duality gap: 29288956976177.79, tolerance: 24239509430.6581\n",
      "  model = cd_fast.enet_coordinate_descent(\n",
      "C:\\Users\\akkhanvilkar\\Downloads\\WPy64-3870\\python-3.8.7.amd64\\lib\\site-packages\\sklearn\\linear_model\\_coordinate_descent.py:530: ConvergenceWarning: Objective did not converge. You might want to increase the number of iterations. Duality gap: 1356692385273.9336, tolerance: 11595975481.473267\n",
      "  model = cd_fast.enet_coordinate_descent(\n",
      "C:\\Users\\akkhanvilkar\\Downloads\\WPy64-3870\\python-3.8.7.amd64\\lib\\site-packages\\sklearn\\linear_model\\_coordinate_descent.py:530: ConvergenceWarning: Objective did not converge. You might want to increase the number of iterations. Duality gap: 24830469945473.242, tolerance: 23381130848.221928\n",
      "  model = cd_fast.enet_coordinate_descent(\n",
      "C:\\Users\\akkhanvilkar\\Downloads\\WPy64-3870\\python-3.8.7.amd64\\lib\\site-packages\\sklearn\\linear_model\\_coordinate_descent.py:530: ConvergenceWarning: Objective did not converge. You might want to increase the number of iterations. Duality gap: 29288963287108.0, tolerance: 24239509430.6581\n",
      "  model = cd_fast.enet_coordinate_descent(\n",
      "C:\\Users\\akkhanvilkar\\Downloads\\WPy64-3870\\python-3.8.7.amd64\\lib\\site-packages\\sklearn\\linear_model\\_coordinate_descent.py:530: ConvergenceWarning: Objective did not converge. You might want to increase the number of iterations. Duality gap: 1356693610312.3945, tolerance: 11595975481.473267\n",
      "  model = cd_fast.enet_coordinate_descent(\n",
      "C:\\Users\\akkhanvilkar\\Downloads\\WPy64-3870\\python-3.8.7.amd64\\lib\\site-packages\\sklearn\\linear_model\\_coordinate_descent.py:530: ConvergenceWarning: Objective did not converge. You might want to increase the number of iterations. Duality gap: 24830474591852.367, tolerance: 23381130848.221928\n",
      "  model = cd_fast.enet_coordinate_descent(\n",
      "C:\\Users\\akkhanvilkar\\Downloads\\WPy64-3870\\python-3.8.7.amd64\\lib\\site-packages\\sklearn\\linear_model\\_coordinate_descent.py:530: ConvergenceWarning: Objective did not converge. You might want to increase the number of iterations. Duality gap: 29288969591301.28, tolerance: 24239509430.6581\n",
      "  model = cd_fast.enet_coordinate_descent(\n"
     ]
    },
    {
     "name": "stderr",
     "output_type": "stream",
     "text": [
      "C:\\Users\\akkhanvilkar\\Downloads\\WPy64-3870\\python-3.8.7.amd64\\lib\\site-packages\\sklearn\\linear_model\\_coordinate_descent.py:530: ConvergenceWarning: Objective did not converge. You might want to increase the number of iterations. Duality gap: 1356694834878.6914, tolerance: 11595975481.473267\n",
      "  model = cd_fast.enet_coordinate_descent(\n",
      "C:\\Users\\akkhanvilkar\\Downloads\\WPy64-3870\\python-3.8.7.amd64\\lib\\site-packages\\sklearn\\linear_model\\_coordinate_descent.py:530: ConvergenceWarning: Objective did not converge. You might want to increase the number of iterations. Duality gap: 24830479230020.258, tolerance: 23381130848.221928\n",
      "  model = cd_fast.enet_coordinate_descent(\n",
      "C:\\Users\\akkhanvilkar\\Downloads\\WPy64-3870\\python-3.8.7.amd64\\lib\\site-packages\\sklearn\\linear_model\\_coordinate_descent.py:530: ConvergenceWarning: Objective did not converge. You might want to increase the number of iterations. Duality gap: 29288975890076.742, tolerance: 24239509430.6581\n",
      "  model = cd_fast.enet_coordinate_descent(\n",
      "C:\\Users\\akkhanvilkar\\Downloads\\WPy64-3870\\python-3.8.7.amd64\\lib\\site-packages\\sklearn\\linear_model\\_coordinate_descent.py:530: ConvergenceWarning: Objective did not converge. You might want to increase the number of iterations. Duality gap: 1356696059240.4102, tolerance: 11595975481.473267\n",
      "  model = cd_fast.enet_coordinate_descent(\n",
      "C:\\Users\\akkhanvilkar\\Downloads\\WPy64-3870\\python-3.8.7.amd64\\lib\\site-packages\\sklearn\\linear_model\\_coordinate_descent.py:530: ConvergenceWarning: Objective did not converge. You might want to increase the number of iterations. Duality gap: 24830483866580.344, tolerance: 23381130848.221928\n",
      "  model = cd_fast.enet_coordinate_descent(\n",
      "C:\\Users\\akkhanvilkar\\Downloads\\WPy64-3870\\python-3.8.7.amd64\\lib\\site-packages\\sklearn\\linear_model\\_coordinate_descent.py:530: ConvergenceWarning: Objective did not converge. You might want to increase the number of iterations. Duality gap: 29288982183186.71, tolerance: 24239509430.6581\n",
      "  model = cd_fast.enet_coordinate_descent(\n",
      "C:\\Users\\akkhanvilkar\\Downloads\\WPy64-3870\\python-3.8.7.amd64\\lib\\site-packages\\sklearn\\linear_model\\_coordinate_descent.py:530: ConvergenceWarning: Objective did not converge. You might want to increase the number of iterations. Duality gap: 1356697283442.0195, tolerance: 11595975481.473267\n",
      "  model = cd_fast.enet_coordinate_descent(\n",
      "C:\\Users\\akkhanvilkar\\Downloads\\WPy64-3870\\python-3.8.7.amd64\\lib\\site-packages\\sklearn\\linear_model\\_coordinate_descent.py:530: ConvergenceWarning: Objective did not converge. You might want to increase the number of iterations. Duality gap: 24830488499012.5, tolerance: 23381130848.221928\n",
      "  model = cd_fast.enet_coordinate_descent(\n",
      "C:\\Users\\akkhanvilkar\\Downloads\\WPy64-3870\\python-3.8.7.amd64\\lib\\site-packages\\sklearn\\linear_model\\_coordinate_descent.py:530: ConvergenceWarning: Objective did not converge. You might want to increase the number of iterations. Duality gap: 29288988468711.312, tolerance: 24239509430.6581\n",
      "  model = cd_fast.enet_coordinate_descent(\n",
      "C:\\Users\\akkhanvilkar\\Downloads\\WPy64-3870\\python-3.8.7.amd64\\lib\\site-packages\\sklearn\\linear_model\\_coordinate_descent.py:530: ConvergenceWarning: Objective did not converge. You might want to increase the number of iterations. Duality gap: 1356698507235.8047, tolerance: 11595975481.473267\n",
      "  model = cd_fast.enet_coordinate_descent(\n",
      "C:\\Users\\akkhanvilkar\\Downloads\\WPy64-3870\\python-3.8.7.amd64\\lib\\site-packages\\sklearn\\linear_model\\_coordinate_descent.py:530: ConvergenceWarning: Objective did not converge. You might want to increase the number of iterations. Duality gap: 24830493122310.664, tolerance: 23381130848.221928\n",
      "  model = cd_fast.enet_coordinate_descent(\n",
      "C:\\Users\\akkhanvilkar\\Downloads\\WPy64-3870\\python-3.8.7.amd64\\lib\\site-packages\\sklearn\\linear_model\\_coordinate_descent.py:530: ConvergenceWarning: Objective did not converge. You might want to increase the number of iterations. Duality gap: 29288994747731.844, tolerance: 24239509430.6581\n",
      "  model = cd_fast.enet_coordinate_descent(\n",
      "C:\\Users\\akkhanvilkar\\Downloads\\WPy64-3870\\python-3.8.7.amd64\\lib\\site-packages\\sklearn\\linear_model\\_coordinate_descent.py:530: ConvergenceWarning: Objective did not converge. You might want to increase the number of iterations. Duality gap: 1356699731230.2695, tolerance: 11595975481.473267\n",
      "  model = cd_fast.enet_coordinate_descent(\n",
      "C:\\Users\\akkhanvilkar\\Downloads\\WPy64-3870\\python-3.8.7.amd64\\lib\\site-packages\\sklearn\\linear_model\\_coordinate_descent.py:530: ConvergenceWarning: Objective did not converge. You might want to increase the number of iterations. Duality gap: 24830497743961.11, tolerance: 23381130848.221928\n",
      "  model = cd_fast.enet_coordinate_descent(\n",
      "C:\\Users\\akkhanvilkar\\Downloads\\WPy64-3870\\python-3.8.7.amd64\\lib\\site-packages\\sklearn\\linear_model\\_coordinate_descent.py:530: ConvergenceWarning: Objective did not converge. You might want to increase the number of iterations. Duality gap: 29289001021260.023, tolerance: 24239509430.6581\n",
      "  model = cd_fast.enet_coordinate_descent(\n",
      "C:\\Users\\akkhanvilkar\\Downloads\\WPy64-3870\\python-3.8.7.amd64\\lib\\site-packages\\sklearn\\linear_model\\_coordinate_descent.py:530: ConvergenceWarning: Objective did not converge. You might want to increase the number of iterations. Duality gap: 1356700954563.2188, tolerance: 11595975481.473267\n",
      "  model = cd_fast.enet_coordinate_descent(\n",
      "C:\\Users\\akkhanvilkar\\Downloads\\WPy64-3870\\python-3.8.7.amd64\\lib\\site-packages\\sklearn\\linear_model\\_coordinate_descent.py:530: ConvergenceWarning: Objective did not converge. You might want to increase the number of iterations. Duality gap: 24830502360287.844, tolerance: 23381130848.221928\n",
      "  model = cd_fast.enet_coordinate_descent(\n",
      "C:\\Users\\akkhanvilkar\\Downloads\\WPy64-3870\\python-3.8.7.amd64\\lib\\site-packages\\sklearn\\linear_model\\_coordinate_descent.py:530: ConvergenceWarning: Objective did not converge. You might want to increase the number of iterations. Duality gap: 29289007289206.42, tolerance: 24239509430.6581\n",
      "  model = cd_fast.enet_coordinate_descent(\n",
      "C:\\Users\\akkhanvilkar\\Downloads\\WPy64-3870\\python-3.8.7.amd64\\lib\\site-packages\\sklearn\\linear_model\\_coordinate_descent.py:530: ConvergenceWarning: Objective did not converge. You might want to increase the number of iterations. Duality gap: 1356702178259.211, tolerance: 11595975481.473267\n",
      "  model = cd_fast.enet_coordinate_descent(\n",
      "C:\\Users\\akkhanvilkar\\Downloads\\WPy64-3870\\python-3.8.7.amd64\\lib\\site-packages\\sklearn\\linear_model\\_coordinate_descent.py:530: ConvergenceWarning: Objective did not converge. You might want to increase the number of iterations. Duality gap: 24830506973637.086, tolerance: 23381130848.221928\n",
      "  model = cd_fast.enet_coordinate_descent(\n",
      "C:\\Users\\akkhanvilkar\\Downloads\\WPy64-3870\\python-3.8.7.amd64\\lib\\site-packages\\sklearn\\linear_model\\_coordinate_descent.py:530: ConvergenceWarning: Objective did not converge. You might want to increase the number of iterations. Duality gap: 29289013550414.07, tolerance: 24239509430.6581\n",
      "  model = cd_fast.enet_coordinate_descent(\n",
      "C:\\Users\\akkhanvilkar\\Downloads\\WPy64-3870\\python-3.8.7.amd64\\lib\\site-packages\\sklearn\\linear_model\\_coordinate_descent.py:530: ConvergenceWarning: Objective did not converge. You might want to increase the number of iterations. Duality gap: 1356703400980.9102, tolerance: 11595975481.473267\n",
      "  model = cd_fast.enet_coordinate_descent(\n",
      "C:\\Users\\akkhanvilkar\\Downloads\\WPy64-3870\\python-3.8.7.amd64\\lib\\site-packages\\sklearn\\linear_model\\_coordinate_descent.py:530: ConvergenceWarning: Objective did not converge. You might want to increase the number of iterations. Duality gap: 24830511581792.062, tolerance: 23381130848.221928\n",
      "  model = cd_fast.enet_coordinate_descent(\n",
      "C:\\Users\\akkhanvilkar\\Downloads\\WPy64-3870\\python-3.8.7.amd64\\lib\\site-packages\\sklearn\\linear_model\\_coordinate_descent.py:530: ConvergenceWarning: Objective did not converge. You might want to increase the number of iterations. Duality gap: 29289019804672.164, tolerance: 24239509430.6581\n",
      "  model = cd_fast.enet_coordinate_descent(\n",
      "C:\\Users\\akkhanvilkar\\Downloads\\WPy64-3870\\python-3.8.7.amd64\\lib\\site-packages\\sklearn\\linear_model\\_coordinate_descent.py:530: ConvergenceWarning: Objective did not converge. You might want to increase the number of iterations. Duality gap: 1356704624168.6406, tolerance: 11595975481.473267\n",
      "  model = cd_fast.enet_coordinate_descent(\n",
      "C:\\Users\\akkhanvilkar\\Downloads\\WPy64-3870\\python-3.8.7.amd64\\lib\\site-packages\\sklearn\\linear_model\\_coordinate_descent.py:530: ConvergenceWarning: Objective did not converge. You might want to increase the number of iterations. Duality gap: 24830516183972.633, tolerance: 23381130848.221928\n",
      "  model = cd_fast.enet_coordinate_descent(\n",
      "C:\\Users\\akkhanvilkar\\Downloads\\WPy64-3870\\python-3.8.7.amd64\\lib\\site-packages\\sklearn\\linear_model\\_coordinate_descent.py:530: ConvergenceWarning: Objective did not converge. You might want to increase the number of iterations. Duality gap: 29289026052111.53, tolerance: 24239509430.6581\n",
      "  model = cd_fast.enet_coordinate_descent(\n",
      "C:\\Users\\akkhanvilkar\\Downloads\\WPy64-3870\\python-3.8.7.amd64\\lib\\site-packages\\sklearn\\linear_model\\_coordinate_descent.py:530: ConvergenceWarning: Objective did not converge. You might want to increase the number of iterations. Duality gap: 1356705847038.207, tolerance: 11595975481.473267\n",
      "  model = cd_fast.enet_coordinate_descent(\n",
      "C:\\Users\\akkhanvilkar\\Downloads\\WPy64-3870\\python-3.8.7.amd64\\lib\\site-packages\\sklearn\\linear_model\\_coordinate_descent.py:530: ConvergenceWarning: Objective did not converge. You might want to increase the number of iterations. Duality gap: 24830520780838.414, tolerance: 23381130848.221928\n",
      "  model = cd_fast.enet_coordinate_descent(\n",
      "C:\\Users\\akkhanvilkar\\Downloads\\WPy64-3870\\python-3.8.7.amd64\\lib\\site-packages\\sklearn\\linear_model\\_coordinate_descent.py:530: ConvergenceWarning: Objective did not converge. You might want to increase the number of iterations. Duality gap: 29289032293808.15, tolerance: 24239509430.6581\n",
      "  model = cd_fast.enet_coordinate_descent(\n",
      "C:\\Users\\akkhanvilkar\\Downloads\\WPy64-3870\\python-3.8.7.amd64\\lib\\site-packages\\sklearn\\linear_model\\_coordinate_descent.py:530: ConvergenceWarning: Objective did not converge. You might want to increase the number of iterations. Duality gap: 1356707069551.8164, tolerance: 11595975481.473267\n",
      "  model = cd_fast.enet_coordinate_descent(\n",
      "C:\\Users\\akkhanvilkar\\Downloads\\WPy64-3870\\python-3.8.7.amd64\\lib\\site-packages\\sklearn\\linear_model\\_coordinate_descent.py:530: ConvergenceWarning: Objective did not converge. You might want to increase the number of iterations. Duality gap: 24830525375410.742, tolerance: 23381130848.221928\n",
      "  model = cd_fast.enet_coordinate_descent(\n",
      "C:\\Users\\akkhanvilkar\\Downloads\\WPy64-3870\\python-3.8.7.amd64\\lib\\site-packages\\sklearn\\linear_model\\_coordinate_descent.py:530: ConvergenceWarning: Objective did not converge. You might want to increase the number of iterations. Duality gap: 29289038529794.016, tolerance: 24239509430.6581\n",
      "  model = cd_fast.enet_coordinate_descent(\n",
      "C:\\Users\\akkhanvilkar\\Downloads\\WPy64-3870\\python-3.8.7.amd64\\lib\\site-packages\\sklearn\\linear_model\\_coordinate_descent.py:530: ConvergenceWarning: Objective did not converge. You might want to increase the number of iterations. Duality gap: 1356708291971.9062, tolerance: 11595975481.473267\n",
      "  model = cd_fast.enet_coordinate_descent(\n",
      "C:\\Users\\akkhanvilkar\\Downloads\\WPy64-3870\\python-3.8.7.amd64\\lib\\site-packages\\sklearn\\linear_model\\_coordinate_descent.py:530: ConvergenceWarning: Objective did not converge. You might want to increase the number of iterations. Duality gap: 24830529963379.945, tolerance: 23381130848.221928\n",
      "  model = cd_fast.enet_coordinate_descent(\n"
     ]
    },
    {
     "name": "stderr",
     "output_type": "stream",
     "text": [
      "C:\\Users\\akkhanvilkar\\Downloads\\WPy64-3870\\python-3.8.7.amd64\\lib\\site-packages\\sklearn\\linear_model\\_coordinate_descent.py:530: ConvergenceWarning: Objective did not converge. You might want to increase the number of iterations. Duality gap: 29289044758773.188, tolerance: 24239509430.6581\n",
      "  model = cd_fast.enet_coordinate_descent(\n",
      "C:\\Users\\akkhanvilkar\\Downloads\\WPy64-3870\\python-3.8.7.amd64\\lib\\site-packages\\sklearn\\linear_model\\_coordinate_descent.py:530: ConvergenceWarning: Objective did not converge. You might want to increase the number of iterations. Duality gap: 1356709514097.129, tolerance: 11595975481.473267\n",
      "  model = cd_fast.enet_coordinate_descent(\n",
      "C:\\Users\\akkhanvilkar\\Downloads\\WPy64-3870\\python-3.8.7.amd64\\lib\\site-packages\\sklearn\\linear_model\\_coordinate_descent.py:530: ConvergenceWarning: Objective did not converge. You might want to increase the number of iterations. Duality gap: 24830534547255.42, tolerance: 23381130848.221928\n",
      "  model = cd_fast.enet_coordinate_descent(\n",
      "C:\\Users\\akkhanvilkar\\Downloads\\WPy64-3870\\python-3.8.7.amd64\\lib\\site-packages\\sklearn\\linear_model\\_coordinate_descent.py:530: ConvergenceWarning: Objective did not converge. You might want to increase the number of iterations. Duality gap: 29289050981401.453, tolerance: 24239509430.6581\n",
      "  model = cd_fast.enet_coordinate_descent(\n",
      "C:\\Users\\akkhanvilkar\\Downloads\\WPy64-3870\\python-3.8.7.amd64\\lib\\site-packages\\sklearn\\linear_model\\_coordinate_descent.py:530: ConvergenceWarning: Objective did not converge. You might want to increase the number of iterations. Duality gap: 1356710736154.1602, tolerance: 11595975481.473267\n",
      "  model = cd_fast.enet_coordinate_descent(\n",
      "C:\\Users\\akkhanvilkar\\Downloads\\WPy64-3870\\python-3.8.7.amd64\\lib\\site-packages\\sklearn\\linear_model\\_coordinate_descent.py:530: ConvergenceWarning: Objective did not converge. You might want to increase the number of iterations. Duality gap: 24830539126004.703, tolerance: 23381130848.221928\n",
      "  model = cd_fast.enet_coordinate_descent(\n",
      "C:\\Users\\akkhanvilkar\\Downloads\\WPy64-3870\\python-3.8.7.amd64\\lib\\site-packages\\sklearn\\linear_model\\_coordinate_descent.py:530: ConvergenceWarning: Objective did not converge. You might want to increase the number of iterations. Duality gap: 29289057197682.79, tolerance: 24239509430.6581\n",
      "  model = cd_fast.enet_coordinate_descent(\n",
      "C:\\Users\\akkhanvilkar\\Downloads\\WPy64-3870\\python-3.8.7.amd64\\lib\\site-packages\\sklearn\\linear_model\\_coordinate_descent.py:530: ConvergenceWarning: Objective did not converge. You might want to increase the number of iterations. Duality gap: 1356711957908.4688, tolerance: 11595975481.473267\n",
      "  model = cd_fast.enet_coordinate_descent(\n",
      "C:\\Users\\akkhanvilkar\\Downloads\\WPy64-3870\\python-3.8.7.amd64\\lib\\site-packages\\sklearn\\linear_model\\_coordinate_descent.py:530: ConvergenceWarning: Objective did not converge. You might want to increase the number of iterations. Duality gap: 24830543700204.17, tolerance: 23381130848.221928\n",
      "  model = cd_fast.enet_coordinate_descent(\n",
      "C:\\Users\\akkhanvilkar\\Downloads\\WPy64-3870\\python-3.8.7.amd64\\lib\\site-packages\\sklearn\\linear_model\\_coordinate_descent.py:530: ConvergenceWarning: Objective did not converge. You might want to increase the number of iterations. Duality gap: 29289063408210.297, tolerance: 24239509430.6581\n",
      "  model = cd_fast.enet_coordinate_descent(\n",
      "C:\\Users\\akkhanvilkar\\Downloads\\WPy64-3870\\python-3.8.7.amd64\\lib\\site-packages\\sklearn\\linear_model\\_coordinate_descent.py:530: ConvergenceWarning: Objective did not converge. You might want to increase the number of iterations. Duality gap: 1356713179608.8125, tolerance: 11595975481.473267\n",
      "  model = cd_fast.enet_coordinate_descent(\n",
      "C:\\Users\\akkhanvilkar\\Downloads\\WPy64-3870\\python-3.8.7.amd64\\lib\\site-packages\\sklearn\\linear_model\\_coordinate_descent.py:530: ConvergenceWarning: Objective did not converge. You might want to increase the number of iterations. Duality gap: 24830548270217.867, tolerance: 23381130848.221928\n",
      "  model = cd_fast.enet_coordinate_descent(\n",
      "C:\\Users\\akkhanvilkar\\Downloads\\WPy64-3870\\python-3.8.7.amd64\\lib\\site-packages\\sklearn\\linear_model\\_coordinate_descent.py:530: ConvergenceWarning: Objective did not converge. You might want to increase the number of iterations. Duality gap: 29289069612696.54, tolerance: 24239509430.6581\n",
      "  model = cd_fast.enet_coordinate_descent(\n",
      "C:\\Users\\akkhanvilkar\\Downloads\\WPy64-3870\\python-3.8.7.amd64\\lib\\site-packages\\sklearn\\linear_model\\_coordinate_descent.py:530: ConvergenceWarning: Objective did not converge. You might want to increase the number of iterations. Duality gap: 1356714401032.2578, tolerance: 11595975481.473267\n",
      "  model = cd_fast.enet_coordinate_descent(\n",
      "C:\\Users\\akkhanvilkar\\Downloads\\WPy64-3870\\python-3.8.7.amd64\\lib\\site-packages\\sklearn\\linear_model\\_coordinate_descent.py:530: ConvergenceWarning: Objective did not converge. You might want to increase the number of iterations. Duality gap: 24830552835008.812, tolerance: 23381130848.221928\n",
      "  model = cd_fast.enet_coordinate_descent(\n",
      "C:\\Users\\akkhanvilkar\\Downloads\\WPy64-3870\\python-3.8.7.amd64\\lib\\site-packages\\sklearn\\linear_model\\_coordinate_descent.py:530: ConvergenceWarning: Objective did not converge. You might want to increase the number of iterations. Duality gap: 29289075810106.82, tolerance: 24239509430.6581\n",
      "  model = cd_fast.enet_coordinate_descent(\n",
      "C:\\Users\\akkhanvilkar\\Downloads\\WPy64-3870\\python-3.8.7.amd64\\lib\\site-packages\\sklearn\\linear_model\\_coordinate_descent.py:530: ConvergenceWarning: Objective did not converge. You might want to increase the number of iterations. Duality gap: 1356715622217.2148, tolerance: 11595975481.473267\n",
      "  model = cd_fast.enet_coordinate_descent(\n",
      "C:\\Users\\akkhanvilkar\\Downloads\\WPy64-3870\\python-3.8.7.amd64\\lib\\site-packages\\sklearn\\linear_model\\_coordinate_descent.py:530: ConvergenceWarning: Objective did not converge. You might want to increase the number of iterations. Duality gap: 24830557395579.92, tolerance: 23381130848.221928\n",
      "  model = cd_fast.enet_coordinate_descent(\n",
      "C:\\Users\\akkhanvilkar\\Downloads\\WPy64-3870\\python-3.8.7.amd64\\lib\\site-packages\\sklearn\\linear_model\\_coordinate_descent.py:530: ConvergenceWarning: Objective did not converge. You might want to increase the number of iterations. Duality gap: 29289082000517.984, tolerance: 24239509430.6581\n",
      "  model = cd_fast.enet_coordinate_descent(\n",
      "C:\\Users\\akkhanvilkar\\Downloads\\WPy64-3870\\python-3.8.7.amd64\\lib\\site-packages\\sklearn\\linear_model\\_coordinate_descent.py:530: ConvergenceWarning: Objective did not converge. You might want to increase the number of iterations. Duality gap: 1356716843135.4453, tolerance: 11595975481.473267\n",
      "  model = cd_fast.enet_coordinate_descent(\n",
      "C:\\Users\\akkhanvilkar\\Downloads\\WPy64-3870\\python-3.8.7.amd64\\lib\\site-packages\\sklearn\\linear_model\\_coordinate_descent.py:530: ConvergenceWarning: Objective did not converge. You might want to increase the number of iterations. Duality gap: 24830561950503.727, tolerance: 23381130848.221928\n",
      "  model = cd_fast.enet_coordinate_descent(\n",
      "C:\\Users\\akkhanvilkar\\Downloads\\WPy64-3870\\python-3.8.7.amd64\\lib\\site-packages\\sklearn\\linear_model\\_coordinate_descent.py:530: ConvergenceWarning: Objective did not converge. You might want to increase the number of iterations. Duality gap: 29289088185834.523, tolerance: 24239509430.6581\n",
      "  model = cd_fast.enet_coordinate_descent(\n",
      "C:\\Users\\akkhanvilkar\\Downloads\\WPy64-3870\\python-3.8.7.amd64\\lib\\site-packages\\sklearn\\linear_model\\_coordinate_descent.py:530: ConvergenceWarning: Objective did not converge. You might want to increase the number of iterations. Duality gap: 1356718063888.0547, tolerance: 11595975481.473267\n",
      "  model = cd_fast.enet_coordinate_descent(\n",
      "C:\\Users\\akkhanvilkar\\Downloads\\WPy64-3870\\python-3.8.7.amd64\\lib\\site-packages\\sklearn\\linear_model\\_coordinate_descent.py:530: ConvergenceWarning: Objective did not converge. You might want to increase the number of iterations. Duality gap: 24830566502094.766, tolerance: 23381130848.221928\n",
      "  model = cd_fast.enet_coordinate_descent(\n",
      "C:\\Users\\akkhanvilkar\\Downloads\\WPy64-3870\\python-3.8.7.amd64\\lib\\site-packages\\sklearn\\linear_model\\_coordinate_descent.py:530: ConvergenceWarning: Objective did not converge. You might want to increase the number of iterations. Duality gap: 29289094365548.75, tolerance: 24239509430.6581\n",
      "  model = cd_fast.enet_coordinate_descent(\n",
      "C:\\Users\\akkhanvilkar\\Downloads\\WPy64-3870\\python-3.8.7.amd64\\lib\\site-packages\\sklearn\\linear_model\\_coordinate_descent.py:530: ConvergenceWarning: Objective did not converge. You might want to increase the number of iterations. Duality gap: 1356719284646.2578, tolerance: 11595975481.473267\n",
      "  model = cd_fast.enet_coordinate_descent(\n",
      "C:\\Users\\akkhanvilkar\\Downloads\\WPy64-3870\\python-3.8.7.amd64\\lib\\site-packages\\sklearn\\linear_model\\_coordinate_descent.py:530: ConvergenceWarning: Objective did not converge. You might want to increase the number of iterations. Duality gap: 24830571047961.79, tolerance: 23381130848.221928\n",
      "  model = cd_fast.enet_coordinate_descent(\n",
      "C:\\Users\\akkhanvilkar\\Downloads\\WPy64-3870\\python-3.8.7.amd64\\lib\\site-packages\\sklearn\\linear_model\\_coordinate_descent.py:530: ConvergenceWarning: Objective did not converge. You might want to increase the number of iterations. Duality gap: 29289100537508.797, tolerance: 24239509430.6581\n",
      "  model = cd_fast.enet_coordinate_descent(\n",
      "C:\\Users\\akkhanvilkar\\Downloads\\WPy64-3870\\python-3.8.7.amd64\\lib\\site-packages\\sklearn\\linear_model\\_coordinate_descent.py:530: ConvergenceWarning: Objective did not converge. You might want to increase the number of iterations. Duality gap: 1356720505186.9375, tolerance: 11595975481.473267\n",
      "  model = cd_fast.enet_coordinate_descent(\n",
      "C:\\Users\\akkhanvilkar\\Downloads\\WPy64-3870\\python-3.8.7.amd64\\lib\\site-packages\\sklearn\\linear_model\\_coordinate_descent.py:530: ConvergenceWarning: Objective did not converge. You might want to increase the number of iterations. Duality gap: 24830575589451.742, tolerance: 23381130848.221928\n",
      "  model = cd_fast.enet_coordinate_descent(\n",
      "C:\\Users\\akkhanvilkar\\Downloads\\WPy64-3870\\python-3.8.7.amd64\\lib\\site-packages\\sklearn\\linear_model\\_coordinate_descent.py:530: ConvergenceWarning: Objective did not converge. You might want to increase the number of iterations. Duality gap: 29289106704032.633, tolerance: 24239509430.6581\n",
      "  model = cd_fast.enet_coordinate_descent(\n",
      "C:\\Users\\akkhanvilkar\\Downloads\\WPy64-3870\\python-3.8.7.amd64\\lib\\site-packages\\sklearn\\linear_model\\_coordinate_descent.py:530: ConvergenceWarning: Objective did not converge. You might want to increase the number of iterations. Duality gap: 1356721725258.914, tolerance: 11595975481.473267\n",
      "  model = cd_fast.enet_coordinate_descent(\n",
      "C:\\Users\\akkhanvilkar\\Downloads\\WPy64-3870\\python-3.8.7.amd64\\lib\\site-packages\\sklearn\\linear_model\\_coordinate_descent.py:530: ConvergenceWarning: Objective did not converge. You might want to increase the number of iterations. Duality gap: 24830580126027.93, tolerance: 23381130848.221928\n",
      "  model = cd_fast.enet_coordinate_descent(\n",
      "C:\\Users\\akkhanvilkar\\Downloads\\WPy64-3870\\python-3.8.7.amd64\\lib\\site-packages\\sklearn\\linear_model\\_coordinate_descent.py:530: ConvergenceWarning: Objective did not converge. You might want to increase the number of iterations. Duality gap: 29289112863055.57, tolerance: 24239509430.6581\n",
      "  model = cd_fast.enet_coordinate_descent(\n",
      "C:\\Users\\akkhanvilkar\\Downloads\\WPy64-3870\\python-3.8.7.amd64\\lib\\site-packages\\sklearn\\linear_model\\_coordinate_descent.py:530: ConvergenceWarning: Objective did not converge. You might want to increase the number of iterations. Duality gap: 1356722945383.125, tolerance: 11595975481.473267\n",
      "  model = cd_fast.enet_coordinate_descent(\n",
      "C:\\Users\\akkhanvilkar\\Downloads\\WPy64-3870\\python-3.8.7.amd64\\lib\\site-packages\\sklearn\\linear_model\\_coordinate_descent.py:530: ConvergenceWarning: Objective did not converge. You might want to increase the number of iterations. Duality gap: 24830584657608.07, tolerance: 23381130848.221928\n",
      "  model = cd_fast.enet_coordinate_descent(\n",
      "C:\\Users\\akkhanvilkar\\Downloads\\WPy64-3870\\python-3.8.7.amd64\\lib\\site-packages\\sklearn\\linear_model\\_coordinate_descent.py:530: ConvergenceWarning: Objective did not converge. You might want to increase the number of iterations. Duality gap: 29289119016918.86, tolerance: 24239509430.6581\n",
      "  model = cd_fast.enet_coordinate_descent(\n",
      "C:\\Users\\akkhanvilkar\\Downloads\\WPy64-3870\\python-3.8.7.amd64\\lib\\site-packages\\sklearn\\linear_model\\_coordinate_descent.py:530: ConvergenceWarning: Objective did not converge. You might want to increase the number of iterations. Duality gap: 1356724165139.0312, tolerance: 11595975481.473267\n",
      "  model = cd_fast.enet_coordinate_descent(\n",
      "C:\\Users\\akkhanvilkar\\Downloads\\WPy64-3870\\python-3.8.7.amd64\\lib\\site-packages\\sklearn\\linear_model\\_coordinate_descent.py:530: ConvergenceWarning: Objective did not converge. You might want to increase the number of iterations. Duality gap: 24830589185466.72, tolerance: 23381130848.221928\n",
      "  model = cd_fast.enet_coordinate_descent(\n"
     ]
    },
    {
     "name": "stderr",
     "output_type": "stream",
     "text": [
      "C:\\Users\\akkhanvilkar\\Downloads\\WPy64-3870\\python-3.8.7.amd64\\lib\\site-packages\\sklearn\\linear_model\\_coordinate_descent.py:530: ConvergenceWarning: Objective did not converge. You might want to increase the number of iterations. Duality gap: 29289125164141.17, tolerance: 24239509430.6581\n",
      "  model = cd_fast.enet_coordinate_descent(\n",
      "C:\\Users\\akkhanvilkar\\Downloads\\WPy64-3870\\python-3.8.7.amd64\\lib\\site-packages\\sklearn\\linear_model\\_coordinate_descent.py:530: ConvergenceWarning: Objective did not converge. You might want to increase the number of iterations. Duality gap: 1356725384827.4727, tolerance: 11595975481.473267\n",
      "  model = cd_fast.enet_coordinate_descent(\n",
      "C:\\Users\\akkhanvilkar\\Downloads\\WPy64-3870\\python-3.8.7.amd64\\lib\\site-packages\\sklearn\\linear_model\\_coordinate_descent.py:530: ConvergenceWarning: Objective did not converge. You might want to increase the number of iterations. Duality gap: 24830593708120.68, tolerance: 23381130848.221928\n",
      "  model = cd_fast.enet_coordinate_descent(\n",
      "C:\\Users\\akkhanvilkar\\Downloads\\WPy64-3870\\python-3.8.7.amd64\\lib\\site-packages\\sklearn\\linear_model\\_coordinate_descent.py:530: ConvergenceWarning: Objective did not converge. You might want to increase the number of iterations. Duality gap: 29289131305309.766, tolerance: 24239509430.6581\n",
      "  model = cd_fast.enet_coordinate_descent(\n",
      "C:\\Users\\akkhanvilkar\\Downloads\\WPy64-3870\\python-3.8.7.amd64\\lib\\site-packages\\sklearn\\linear_model\\_coordinate_descent.py:530: ConvergenceWarning: Objective did not converge. You might want to increase the number of iterations. Duality gap: 1356726604224.0742, tolerance: 11595975481.473267\n",
      "  model = cd_fast.enet_coordinate_descent(\n",
      "C:\\Users\\akkhanvilkar\\Downloads\\WPy64-3870\\python-3.8.7.amd64\\lib\\site-packages\\sklearn\\linear_model\\_coordinate_descent.py:530: ConvergenceWarning: Objective did not converge. You might want to increase the number of iterations. Duality gap: 24830598226155.914, tolerance: 23381130848.221928\n",
      "  model = cd_fast.enet_coordinate_descent(\n",
      "C:\\Users\\akkhanvilkar\\Downloads\\WPy64-3870\\python-3.8.7.amd64\\lib\\site-packages\\sklearn\\linear_model\\_coordinate_descent.py:530: ConvergenceWarning: Objective did not converge. You might want to increase the number of iterations. Duality gap: 29289137439878.227, tolerance: 24239509430.6581\n",
      "  model = cd_fast.enet_coordinate_descent(\n",
      "C:\\Users\\akkhanvilkar\\Downloads\\WPy64-3870\\python-3.8.7.amd64\\lib\\site-packages\\sklearn\\linear_model\\_coordinate_descent.py:530: ConvergenceWarning: Objective did not converge. You might want to increase the number of iterations. Duality gap: 1356727823470.2148, tolerance: 11595975481.473267\n",
      "  model = cd_fast.enet_coordinate_descent(\n",
      "C:\\Users\\akkhanvilkar\\Downloads\\WPy64-3870\\python-3.8.7.amd64\\lib\\site-packages\\sklearn\\linear_model\\_coordinate_descent.py:530: ConvergenceWarning: Objective did not converge. You might want to increase the number of iterations. Duality gap: 24830602739566.46, tolerance: 23381130848.221928\n",
      "  model = cd_fast.enet_coordinate_descent(\n",
      "C:\\Users\\akkhanvilkar\\Downloads\\WPy64-3870\\python-3.8.7.amd64\\lib\\site-packages\\sklearn\\linear_model\\_coordinate_descent.py:530: ConvergenceWarning: Objective did not converge. You might want to increase the number of iterations. Duality gap: 29289143568007.883, tolerance: 24239509430.6581\n",
      "  model = cd_fast.enet_coordinate_descent(\n",
      "C:\\Users\\akkhanvilkar\\Downloads\\WPy64-3870\\python-3.8.7.amd64\\lib\\site-packages\\sklearn\\linear_model\\_coordinate_descent.py:530: ConvergenceWarning: Objective did not converge. You might want to increase the number of iterations. Duality gap: 1356729042650.1094, tolerance: 11595975481.473267\n",
      "  model = cd_fast.enet_coordinate_descent(\n",
      "C:\\Users\\akkhanvilkar\\Downloads\\WPy64-3870\\python-3.8.7.amd64\\lib\\site-packages\\sklearn\\linear_model\\_coordinate_descent.py:530: ConvergenceWarning: Objective did not converge. You might want to increase the number of iterations. Duality gap: 24830607247563.97, tolerance: 23381130848.221928\n",
      "  model = cd_fast.enet_coordinate_descent(\n",
      "C:\\Users\\akkhanvilkar\\Downloads\\WPy64-3870\\python-3.8.7.amd64\\lib\\site-packages\\sklearn\\linear_model\\_coordinate_descent.py:530: ConvergenceWarning: Objective did not converge. You might want to increase the number of iterations. Duality gap: 29289149690017.68, tolerance: 24239509430.6581\n",
      "  model = cd_fast.enet_coordinate_descent(\n",
      "C:\\Users\\akkhanvilkar\\Downloads\\WPy64-3870\\python-3.8.7.amd64\\lib\\site-packages\\sklearn\\linear_model\\_coordinate_descent.py:530: ConvergenceWarning: Objective did not converge. You might want to increase the number of iterations. Duality gap: 1356730261480.375, tolerance: 11595975481.473267\n",
      "  model = cd_fast.enet_coordinate_descent(\n",
      "C:\\Users\\akkhanvilkar\\Downloads\\WPy64-3870\\python-3.8.7.amd64\\lib\\site-packages\\sklearn\\linear_model\\_coordinate_descent.py:530: ConvergenceWarning: Objective did not converge. You might want to increase the number of iterations. Duality gap: 24830611751301.17, tolerance: 23381130848.221928\n",
      "  model = cd_fast.enet_coordinate_descent(\n",
      "C:\\Users\\akkhanvilkar\\Downloads\\WPy64-3870\\python-3.8.7.amd64\\lib\\site-packages\\sklearn\\linear_model\\_coordinate_descent.py:530: ConvergenceWarning: Objective did not converge. You might want to increase the number of iterations. Duality gap: 29289155805780.96, tolerance: 24239509430.6581\n",
      "  model = cd_fast.enet_coordinate_descent(\n",
      "C:\\Users\\akkhanvilkar\\Downloads\\WPy64-3870\\python-3.8.7.amd64\\lib\\site-packages\\sklearn\\linear_model\\_coordinate_descent.py:530: ConvergenceWarning: Objective did not converge. You might want to increase the number of iterations. Duality gap: 1356731479998.9766, tolerance: 11595975481.473267\n",
      "  model = cd_fast.enet_coordinate_descent(\n",
      "C:\\Users\\akkhanvilkar\\Downloads\\WPy64-3870\\python-3.8.7.amd64\\lib\\site-packages\\sklearn\\linear_model\\_coordinate_descent.py:530: ConvergenceWarning: Objective did not converge. You might want to increase the number of iterations. Duality gap: 24830616250249.6, tolerance: 23381130848.221928\n",
      "  model = cd_fast.enet_coordinate_descent(\n",
      "C:\\Users\\akkhanvilkar\\Downloads\\WPy64-3870\\python-3.8.7.amd64\\lib\\site-packages\\sklearn\\linear_model\\_coordinate_descent.py:530: ConvergenceWarning: Objective did not converge. You might want to increase the number of iterations. Duality gap: 29289161915292.6, tolerance: 24239509430.6581\n",
      "  model = cd_fast.enet_coordinate_descent(\n",
      "C:\\Users\\akkhanvilkar\\Downloads\\WPy64-3870\\python-3.8.7.amd64\\lib\\site-packages\\sklearn\\linear_model\\_coordinate_descent.py:530: ConvergenceWarning: Objective did not converge. You might want to increase the number of iterations. Duality gap: 1356732698478.2812, tolerance: 11595975481.473267\n",
      "  model = cd_fast.enet_coordinate_descent(\n",
      "C:\\Users\\akkhanvilkar\\Downloads\\WPy64-3870\\python-3.8.7.amd64\\lib\\site-packages\\sklearn\\linear_model\\_coordinate_descent.py:530: ConvergenceWarning: Objective did not converge. You might want to increase the number of iterations. Duality gap: 24830620744496.773, tolerance: 23381130848.221928\n",
      "  model = cd_fast.enet_coordinate_descent(\n",
      "C:\\Users\\akkhanvilkar\\Downloads\\WPy64-3870\\python-3.8.7.amd64\\lib\\site-packages\\sklearn\\linear_model\\_coordinate_descent.py:530: ConvergenceWarning: Objective did not converge. You might want to increase the number of iterations. Duality gap: 29289168018732.14, tolerance: 24239509430.6581\n",
      "  model = cd_fast.enet_coordinate_descent(\n",
      "C:\\Users\\akkhanvilkar\\Downloads\\WPy64-3870\\python-3.8.7.amd64\\lib\\site-packages\\sklearn\\linear_model\\_coordinate_descent.py:530: ConvergenceWarning: Objective did not converge. You might want to increase the number of iterations. Duality gap: 1356733916773.4375, tolerance: 11595975481.473267\n",
      "  model = cd_fast.enet_coordinate_descent(\n",
      "C:\\Users\\akkhanvilkar\\Downloads\\WPy64-3870\\python-3.8.7.amd64\\lib\\site-packages\\sklearn\\linear_model\\_coordinate_descent.py:530: ConvergenceWarning: Objective did not converge. You might want to increase the number of iterations. Duality gap: 24830625234833.484, tolerance: 23381130848.221928\n",
      "  model = cd_fast.enet_coordinate_descent(\n",
      "C:\\Users\\akkhanvilkar\\Downloads\\WPy64-3870\\python-3.8.7.amd64\\lib\\site-packages\\sklearn\\linear_model\\_coordinate_descent.py:530: ConvergenceWarning: Objective did not converge. You might want to increase the number of iterations. Duality gap: 29289174115290.094, tolerance: 24239509430.6581\n",
      "  model = cd_fast.enet_coordinate_descent(\n",
      "C:\\Users\\akkhanvilkar\\Downloads\\WPy64-3870\\python-3.8.7.amd64\\lib\\site-packages\\sklearn\\linear_model\\_coordinate_descent.py:530: ConvergenceWarning: Objective did not converge. You might want to increase the number of iterations. Duality gap: 1356735134811.6836, tolerance: 11595975481.473267\n",
      "  model = cd_fast.enet_coordinate_descent(\n",
      "C:\\Users\\akkhanvilkar\\Downloads\\WPy64-3870\\python-3.8.7.amd64\\lib\\site-packages\\sklearn\\linear_model\\_coordinate_descent.py:530: ConvergenceWarning: Objective did not converge. You might want to increase the number of iterations. Duality gap: 24830629719194.17, tolerance: 23381130848.221928\n",
      "  model = cd_fast.enet_coordinate_descent(\n",
      "C:\\Users\\akkhanvilkar\\Downloads\\WPy64-3870\\python-3.8.7.amd64\\lib\\site-packages\\sklearn\\linear_model\\_coordinate_descent.py:530: ConvergenceWarning: Objective did not converge. You might want to increase the number of iterations. Duality gap: 29289180205676.375, tolerance: 24239509430.6581\n",
      "  model = cd_fast.enet_coordinate_descent(\n",
      "C:\\Users\\akkhanvilkar\\Downloads\\WPy64-3870\\python-3.8.7.amd64\\lib\\site-packages\\sklearn\\linear_model\\_coordinate_descent.py:530: ConvergenceWarning: Objective did not converge. You might want to increase the number of iterations. Duality gap: 1356736352687.1797, tolerance: 11595975481.473267\n",
      "  model = cd_fast.enet_coordinate_descent(\n",
      "C:\\Users\\akkhanvilkar\\Downloads\\WPy64-3870\\python-3.8.7.amd64\\lib\\site-packages\\sklearn\\linear_model\\_coordinate_descent.py:530: ConvergenceWarning: Objective did not converge. You might want to increase the number of iterations. Duality gap: 24830634199478.656, tolerance: 23381130848.221928\n",
      "  model = cd_fast.enet_coordinate_descent(\n",
      "C:\\Users\\akkhanvilkar\\Downloads\\WPy64-3870\\python-3.8.7.amd64\\lib\\site-packages\\sklearn\\linear_model\\_coordinate_descent.py:530: ConvergenceWarning: Objective did not converge. You might want to increase the number of iterations. Duality gap: 29289186289392.67, tolerance: 24239509430.6581\n",
      "  model = cd_fast.enet_coordinate_descent(\n",
      "C:\\Users\\akkhanvilkar\\Downloads\\WPy64-3870\\python-3.8.7.amd64\\lib\\site-packages\\sklearn\\linear_model\\_coordinate_descent.py:530: ConvergenceWarning: Objective did not converge. You might want to increase the number of iterations. Duality gap: 1356737570294.582, tolerance: 11595975481.473267\n",
      "  model = cd_fast.enet_coordinate_descent(\n",
      "C:\\Users\\akkhanvilkar\\Downloads\\WPy64-3870\\python-3.8.7.amd64\\lib\\site-packages\\sklearn\\linear_model\\_coordinate_descent.py:530: ConvergenceWarning: Objective did not converge. You might want to increase the number of iterations. Duality gap: 24830638675424.93, tolerance: 23381130848.221928\n",
      "  model = cd_fast.enet_coordinate_descent(\n",
      "C:\\Users\\akkhanvilkar\\Downloads\\WPy64-3870\\python-3.8.7.amd64\\lib\\site-packages\\sklearn\\linear_model\\_coordinate_descent.py:530: ConvergenceWarning: Objective did not converge. You might want to increase the number of iterations. Duality gap: 29289192367684.023, tolerance: 24239509430.6581\n",
      "  model = cd_fast.enet_coordinate_descent(\n",
      "C:\\Users\\akkhanvilkar\\Downloads\\WPy64-3870\\python-3.8.7.amd64\\lib\\site-packages\\sklearn\\linear_model\\_coordinate_descent.py:530: ConvergenceWarning: Objective did not converge. You might want to increase the number of iterations. Duality gap: 1356738787847.8828, tolerance: 11595975481.473267\n",
      "  model = cd_fast.enet_coordinate_descent(\n",
      "C:\\Users\\akkhanvilkar\\Downloads\\WPy64-3870\\python-3.8.7.amd64\\lib\\site-packages\\sklearn\\linear_model\\_coordinate_descent.py:530: ConvergenceWarning: Objective did not converge. You might want to increase the number of iterations. Duality gap: 24830643145920.83, tolerance: 23381130848.221928\n",
      "  model = cd_fast.enet_coordinate_descent(\n",
      "C:\\Users\\akkhanvilkar\\Downloads\\WPy64-3870\\python-3.8.7.amd64\\lib\\site-packages\\sklearn\\linear_model\\_coordinate_descent.py:530: ConvergenceWarning: Objective did not converge. You might want to increase the number of iterations. Duality gap: 29289198439284.773, tolerance: 24239509430.6581\n",
      "  model = cd_fast.enet_coordinate_descent(\n",
      "C:\\Users\\akkhanvilkar\\Downloads\\WPy64-3870\\python-3.8.7.amd64\\lib\\site-packages\\sklearn\\linear_model\\_coordinate_descent.py:530: ConvergenceWarning: Objective did not converge. You might want to increase the number of iterations. Duality gap: 1356740005198.6172, tolerance: 11595975481.473267\n",
      "  model = cd_fast.enet_coordinate_descent(\n",
      "C:\\Users\\akkhanvilkar\\Downloads\\WPy64-3870\\python-3.8.7.amd64\\lib\\site-packages\\sklearn\\linear_model\\_coordinate_descent.py:530: ConvergenceWarning: Objective did not converge. You might want to increase the number of iterations. Duality gap: 24830647612149.914, tolerance: 23381130848.221928\n",
      "  model = cd_fast.enet_coordinate_descent(\n",
      "C:\\Users\\akkhanvilkar\\Downloads\\WPy64-3870\\python-3.8.7.amd64\\lib\\site-packages\\sklearn\\linear_model\\_coordinate_descent.py:530: ConvergenceWarning: Objective did not converge. You might want to increase the number of iterations. Duality gap: 29289204504819.516, tolerance: 24239509430.6581\n",
      "  model = cd_fast.enet_coordinate_descent(\n",
      "C:\\Users\\akkhanvilkar\\Downloads\\WPy64-3870\\python-3.8.7.amd64\\lib\\site-packages\\sklearn\\linear_model\\_coordinate_descent.py:530: ConvergenceWarning: Objective did not converge. You might want to increase the number of iterations. Duality gap: 1356741222137.3555, tolerance: 11595975481.473267\n",
      "  model = cd_fast.enet_coordinate_descent(\n"
     ]
    },
    {
     "name": "stderr",
     "output_type": "stream",
     "text": [
      "C:\\Users\\akkhanvilkar\\Downloads\\WPy64-3870\\python-3.8.7.amd64\\lib\\site-packages\\sklearn\\linear_model\\_coordinate_descent.py:530: ConvergenceWarning: Objective did not converge. You might want to increase the number of iterations. Duality gap: 24830652073458.617, tolerance: 23381130848.221928\n",
      "  model = cd_fast.enet_coordinate_descent(\n",
      "C:\\Users\\akkhanvilkar\\Downloads\\WPy64-3870\\python-3.8.7.amd64\\lib\\site-packages\\sklearn\\linear_model\\_coordinate_descent.py:530: ConvergenceWarning: Objective did not converge. You might want to increase the number of iterations. Duality gap: 29289210563436.5, tolerance: 24239509430.6581\n",
      "  model = cd_fast.enet_coordinate_descent(\n",
      "C:\\Users\\akkhanvilkar\\Downloads\\WPy64-3870\\python-3.8.7.amd64\\lib\\site-packages\\sklearn\\linear_model\\_coordinate_descent.py:530: ConvergenceWarning: Objective did not converge. You might want to increase the number of iterations. Duality gap: 1356742439086.9258, tolerance: 11595975481.473267\n",
      "  model = cd_fast.enet_coordinate_descent(\n",
      "C:\\Users\\akkhanvilkar\\Downloads\\WPy64-3870\\python-3.8.7.amd64\\lib\\site-packages\\sklearn\\linear_model\\_coordinate_descent.py:530: ConvergenceWarning: Objective did not converge. You might want to increase the number of iterations. Duality gap: 24830656530337.633, tolerance: 23381130848.221928\n",
      "  model = cd_fast.enet_coordinate_descent(\n",
      "C:\\Users\\akkhanvilkar\\Downloads\\WPy64-3870\\python-3.8.7.amd64\\lib\\site-packages\\sklearn\\linear_model\\_coordinate_descent.py:530: ConvergenceWarning: Objective did not converge. You might want to increase the number of iterations. Duality gap: 29289216616007.016, tolerance: 24239509430.6581\n",
      "  model = cd_fast.enet_coordinate_descent(\n",
      "C:\\Users\\akkhanvilkar\\Downloads\\WPy64-3870\\python-3.8.7.amd64\\lib\\site-packages\\sklearn\\linear_model\\_coordinate_descent.py:530: ConvergenceWarning: Objective did not converge. You might want to increase the number of iterations. Duality gap: 1356743655813.0977, tolerance: 11595975481.473267\n",
      "  model = cd_fast.enet_coordinate_descent(\n",
      "C:\\Users\\akkhanvilkar\\Downloads\\WPy64-3870\\python-3.8.7.amd64\\lib\\site-packages\\sklearn\\linear_model\\_coordinate_descent.py:530: ConvergenceWarning: Objective did not converge. You might want to increase the number of iterations. Duality gap: 24830660982233.766, tolerance: 23381130848.221928\n",
      "  model = cd_fast.enet_coordinate_descent(\n",
      "C:\\Users\\akkhanvilkar\\Downloads\\WPy64-3870\\python-3.8.7.amd64\\lib\\site-packages\\sklearn\\linear_model\\_coordinate_descent.py:530: ConvergenceWarning: Objective did not converge. You might want to increase the number of iterations. Duality gap: 29289222662547.53, tolerance: 24239509430.6581\n",
      "  model = cd_fast.enet_coordinate_descent(\n",
      "C:\\Users\\akkhanvilkar\\Downloads\\WPy64-3870\\python-3.8.7.amd64\\lib\\site-packages\\sklearn\\linear_model\\_coordinate_descent.py:530: ConvergenceWarning: Objective did not converge. You might want to increase the number of iterations. Duality gap: 1356744872270.7617, tolerance: 11595975481.473267\n",
      "  model = cd_fast.enet_coordinate_descent(\n",
      "C:\\Users\\akkhanvilkar\\Downloads\\WPy64-3870\\python-3.8.7.amd64\\lib\\site-packages\\sklearn\\linear_model\\_coordinate_descent.py:530: ConvergenceWarning: Objective did not converge. You might want to increase the number of iterations. Duality gap: 24830665429228.953, tolerance: 23381130848.221928\n",
      "  model = cd_fast.enet_coordinate_descent(\n",
      "C:\\Users\\akkhanvilkar\\Downloads\\WPy64-3870\\python-3.8.7.amd64\\lib\\site-packages\\sklearn\\linear_model\\_coordinate_descent.py:530: ConvergenceWarning: Objective did not converge. You might want to increase the number of iterations. Duality gap: 29289228702706.367, tolerance: 24239509430.6581\n",
      "  model = cd_fast.enet_coordinate_descent(\n",
      "C:\\Users\\akkhanvilkar\\Downloads\\WPy64-3870\\python-3.8.7.amd64\\lib\\site-packages\\sklearn\\linear_model\\_coordinate_descent.py:530: ConvergenceWarning: Objective did not converge. You might want to increase the number of iterations. Duality gap: 1356746088515.375, tolerance: 11595975481.473267\n",
      "  model = cd_fast.enet_coordinate_descent(\n",
      "C:\\Users\\akkhanvilkar\\Downloads\\WPy64-3870\\python-3.8.7.amd64\\lib\\site-packages\\sklearn\\linear_model\\_coordinate_descent.py:530: ConvergenceWarning: Objective did not converge. You might want to increase the number of iterations. Duality gap: 24830669871722.08, tolerance: 23381130848.221928\n",
      "  model = cd_fast.enet_coordinate_descent(\n",
      "C:\\Users\\akkhanvilkar\\Downloads\\WPy64-3870\\python-3.8.7.amd64\\lib\\site-packages\\sklearn\\linear_model\\_coordinate_descent.py:530: ConvergenceWarning: Objective did not converge. You might want to increase the number of iterations. Duality gap: 29289234736558.836, tolerance: 24239509430.6581\n",
      "  model = cd_fast.enet_coordinate_descent(\n",
      "C:\\Users\\akkhanvilkar\\Downloads\\WPy64-3870\\python-3.8.7.amd64\\lib\\site-packages\\sklearn\\linear_model\\_coordinate_descent.py:530: ConvergenceWarning: Objective did not converge. You might want to increase the number of iterations. Duality gap: 1356747304668.6914, tolerance: 11595975481.473267\n",
      "  model = cd_fast.enet_coordinate_descent(\n",
      "C:\\Users\\akkhanvilkar\\Downloads\\WPy64-3870\\python-3.8.7.amd64\\lib\\site-packages\\sklearn\\linear_model\\_coordinate_descent.py:530: ConvergenceWarning: Objective did not converge. You might want to increase the number of iterations. Duality gap: 24830674309893.516, tolerance: 23381130848.221928\n",
      "  model = cd_fast.enet_coordinate_descent(\n",
      "C:\\Users\\akkhanvilkar\\Downloads\\WPy64-3870\\python-3.8.7.amd64\\lib\\site-packages\\sklearn\\linear_model\\_coordinate_descent.py:530: ConvergenceWarning: Objective did not converge. You might want to increase the number of iterations. Duality gap: 29289240763921.79, tolerance: 24239509430.6581\n",
      "  model = cd_fast.enet_coordinate_descent(\n",
      "C:\\Users\\akkhanvilkar\\Downloads\\WPy64-3870\\python-3.8.7.amd64\\lib\\site-packages\\sklearn\\linear_model\\_coordinate_descent.py:530: ConvergenceWarning: Objective did not converge. You might want to increase the number of iterations. Duality gap: 1356748520576.1797, tolerance: 11595975481.473267\n",
      "  model = cd_fast.enet_coordinate_descent(\n",
      "C:\\Users\\akkhanvilkar\\Downloads\\WPy64-3870\\python-3.8.7.amd64\\lib\\site-packages\\sklearn\\linear_model\\_coordinate_descent.py:530: ConvergenceWarning: Objective did not converge. You might want to increase the number of iterations. Duality gap: 24830678743096.9, tolerance: 23381130848.221928\n",
      "  model = cd_fast.enet_coordinate_descent(\n",
      "C:\\Users\\akkhanvilkar\\Downloads\\WPy64-3870\\python-3.8.7.amd64\\lib\\site-packages\\sklearn\\linear_model\\_coordinate_descent.py:530: ConvergenceWarning: Objective did not converge. You might want to increase the number of iterations. Duality gap: 29289246785137.97, tolerance: 24239509430.6581\n",
      "  model = cd_fast.enet_coordinate_descent(\n",
      "C:\\Users\\akkhanvilkar\\Downloads\\WPy64-3870\\python-3.8.7.amd64\\lib\\site-packages\\sklearn\\linear_model\\_coordinate_descent.py:530: ConvergenceWarning: Objective did not converge. You might want to increase the number of iterations. Duality gap: 1356749736318.2734, tolerance: 11595975481.473267\n",
      "  model = cd_fast.enet_coordinate_descent(\n",
      "C:\\Users\\akkhanvilkar\\Downloads\\WPy64-3870\\python-3.8.7.amd64\\lib\\site-packages\\sklearn\\linear_model\\_coordinate_descent.py:530: ConvergenceWarning: Objective did not converge. You might want to increase the number of iterations. Duality gap: 24830683171530.656, tolerance: 23381130848.221928\n",
      "  model = cd_fast.enet_coordinate_descent(\n",
      "C:\\Users\\akkhanvilkar\\Downloads\\WPy64-3870\\python-3.8.7.amd64\\lib\\site-packages\\sklearn\\linear_model\\_coordinate_descent.py:530: ConvergenceWarning: Objective did not converge. You might want to increase the number of iterations. Duality gap: 29289252800144.266, tolerance: 24239509430.6581\n",
      "  model = cd_fast.enet_coordinate_descent(\n",
      "C:\\Users\\akkhanvilkar\\Downloads\\WPy64-3870\\python-3.8.7.amd64\\lib\\site-packages\\sklearn\\linear_model\\_coordinate_descent.py:530: ConvergenceWarning: Objective did not converge. You might want to increase the number of iterations. Duality gap: 1356750951708.6055, tolerance: 11595975481.473267\n",
      "  model = cd_fast.enet_coordinate_descent(\n",
      "C:\\Users\\akkhanvilkar\\Downloads\\WPy64-3870\\python-3.8.7.amd64\\lib\\site-packages\\sklearn\\linear_model\\_coordinate_descent.py:530: ConvergenceWarning: Objective did not converge. You might want to increase the number of iterations. Duality gap: 24830687595258.07, tolerance: 23381130848.221928\n",
      "  model = cd_fast.enet_coordinate_descent(\n",
      "C:\\Users\\akkhanvilkar\\Downloads\\WPy64-3870\\python-3.8.7.amd64\\lib\\site-packages\\sklearn\\linear_model\\_coordinate_descent.py:530: ConvergenceWarning: Objective did not converge. You might want to increase the number of iterations. Duality gap: 29289258808521.67, tolerance: 24239509430.6581\n",
      "  model = cd_fast.enet_coordinate_descent(\n",
      "C:\\Users\\akkhanvilkar\\Downloads\\WPy64-3870\\python-3.8.7.amd64\\lib\\site-packages\\sklearn\\linear_model\\_coordinate_descent.py:530: ConvergenceWarning: Objective did not converge. You might want to increase the number of iterations. Duality gap: 1356752167065.4492, tolerance: 11595975481.473267\n",
      "  model = cd_fast.enet_coordinate_descent(\n",
      "C:\\Users\\akkhanvilkar\\Downloads\\WPy64-3870\\python-3.8.7.amd64\\lib\\site-packages\\sklearn\\linear_model\\_coordinate_descent.py:530: ConvergenceWarning: Objective did not converge. You might want to increase the number of iterations. Duality gap: 24830692014161.14, tolerance: 23381130848.221928\n",
      "  model = cd_fast.enet_coordinate_descent(\n",
      "C:\\Users\\akkhanvilkar\\Downloads\\WPy64-3870\\python-3.8.7.amd64\\lib\\site-packages\\sklearn\\linear_model\\_coordinate_descent.py:530: ConvergenceWarning: Objective did not converge. You might want to increase the number of iterations. Duality gap: 29289264810878.445, tolerance: 24239509430.6581\n",
      "  model = cd_fast.enet_coordinate_descent(\n",
      "C:\\Users\\akkhanvilkar\\Downloads\\WPy64-3870\\python-3.8.7.amd64\\lib\\site-packages\\sklearn\\linear_model\\_coordinate_descent.py:530: ConvergenceWarning: Objective did not converge. You might want to increase the number of iterations. Duality gap: 1356753382140.0195, tolerance: 11595975481.473267\n",
      "  model = cd_fast.enet_coordinate_descent(\n",
      "C:\\Users\\akkhanvilkar\\Downloads\\WPy64-3870\\python-3.8.7.amd64\\lib\\site-packages\\sklearn\\linear_model\\_coordinate_descent.py:530: ConvergenceWarning: Objective did not converge. You might want to increase the number of iterations. Duality gap: 24830696428712.42, tolerance: 23381130848.221928\n",
      "  model = cd_fast.enet_coordinate_descent(\n",
      "C:\\Users\\akkhanvilkar\\Downloads\\WPy64-3870\\python-3.8.7.amd64\\lib\\site-packages\\sklearn\\linear_model\\_coordinate_descent.py:530: ConvergenceWarning: Objective did not converge. You might want to increase the number of iterations. Duality gap: 29289270806708.508, tolerance: 24239509430.6581\n",
      "  model = cd_fast.enet_coordinate_descent(\n",
      "C:\\Users\\akkhanvilkar\\Downloads\\WPy64-3870\\python-3.8.7.amd64\\lib\\site-packages\\sklearn\\linear_model\\_coordinate_descent.py:530: ConvergenceWarning: Objective did not converge. You might want to increase the number of iterations. Duality gap: 1356754597065.5195, tolerance: 11595975481.473267\n",
      "  model = cd_fast.enet_coordinate_descent(\n",
      "C:\\Users\\akkhanvilkar\\Downloads\\WPy64-3870\\python-3.8.7.amd64\\lib\\site-packages\\sklearn\\linear_model\\_coordinate_descent.py:530: ConvergenceWarning: Objective did not converge. You might want to increase the number of iterations. Duality gap: 24830700838492.164, tolerance: 23381130848.221928\n",
      "  model = cd_fast.enet_coordinate_descent(\n",
      "C:\\Users\\akkhanvilkar\\Downloads\\WPy64-3870\\python-3.8.7.amd64\\lib\\site-packages\\sklearn\\linear_model\\_coordinate_descent.py:530: ConvergenceWarning: Objective did not converge. You might want to increase the number of iterations. Duality gap: 29289276796277.36, tolerance: 24239509430.6581\n",
      "  model = cd_fast.enet_coordinate_descent(\n",
      "C:\\Users\\akkhanvilkar\\Downloads\\WPy64-3870\\python-3.8.7.amd64\\lib\\site-packages\\sklearn\\linear_model\\_coordinate_descent.py:530: ConvergenceWarning: Objective did not converge. You might want to increase the number of iterations. Duality gap: 1356755811814.4766, tolerance: 11595975481.473267\n",
      "  model = cd_fast.enet_coordinate_descent(\n",
      "C:\\Users\\akkhanvilkar\\Downloads\\WPy64-3870\\python-3.8.7.amd64\\lib\\site-packages\\sklearn\\linear_model\\_coordinate_descent.py:530: ConvergenceWarning: Objective did not converge. You might want to increase the number of iterations. Duality gap: 24830705242881.203, tolerance: 23381130848.221928\n",
      "  model = cd_fast.enet_coordinate_descent(\n",
      "C:\\Users\\akkhanvilkar\\Downloads\\WPy64-3870\\python-3.8.7.amd64\\lib\\site-packages\\sklearn\\linear_model\\_coordinate_descent.py:530: ConvergenceWarning: Objective did not converge. You might want to increase the number of iterations. Duality gap: 29289282779796.688, tolerance: 24239509430.6581\n",
      "  model = cd_fast.enet_coordinate_descent(\n",
      "C:\\Users\\akkhanvilkar\\Downloads\\WPy64-3870\\python-3.8.7.amd64\\lib\\site-packages\\sklearn\\linear_model\\_coordinate_descent.py:530: ConvergenceWarning: Objective did not converge. You might want to increase the number of iterations. Duality gap: 1356757026370.8945, tolerance: 11595975481.473267\n",
      "  model = cd_fast.enet_coordinate_descent(\n",
      "C:\\Users\\akkhanvilkar\\Downloads\\WPy64-3870\\python-3.8.7.amd64\\lib\\site-packages\\sklearn\\linear_model\\_coordinate_descent.py:530: ConvergenceWarning: Objective did not converge. You might want to increase the number of iterations. Duality gap: 24830709643694.055, tolerance: 23381130848.221928\n",
      "  model = cd_fast.enet_coordinate_descent(\n",
      "C:\\Users\\akkhanvilkar\\Downloads\\WPy64-3870\\python-3.8.7.amd64\\lib\\site-packages\\sklearn\\linear_model\\_coordinate_descent.py:530: ConvergenceWarning: Objective did not converge. You might want to increase the number of iterations. Duality gap: 29289288756810.492, tolerance: 24239509430.6581\n",
      "  model = cd_fast.enet_coordinate_descent(\n",
      "C:\\Users\\akkhanvilkar\\Downloads\\WPy64-3870\\python-3.8.7.amd64\\lib\\site-packages\\sklearn\\linear_model\\_coordinate_descent.py:530: ConvergenceWarning: Objective did not converge. You might want to increase the number of iterations. Duality gap: 1356758240689.543, tolerance: 11595975481.473267\n",
      "  model = cd_fast.enet_coordinate_descent(\n",
      "C:\\Users\\akkhanvilkar\\Downloads\\WPy64-3870\\python-3.8.7.amd64\\lib\\site-packages\\sklearn\\linear_model\\_coordinate_descent.py:530: ConvergenceWarning: Objective did not converge. You might want to increase the number of iterations. Duality gap: 24830714038575.586, tolerance: 23381130848.221928\n",
      "  model = cd_fast.enet_coordinate_descent(\n",
      "C:\\Users\\akkhanvilkar\\Downloads\\WPy64-3870\\python-3.8.7.amd64\\lib\\site-packages\\sklearn\\linear_model\\_coordinate_descent.py:530: ConvergenceWarning: Objective did not converge. You might want to increase the number of iterations. Duality gap: 29289294727449.71, tolerance: 24239509430.6581\n",
      "  model = cd_fast.enet_coordinate_descent(\n"
     ]
    },
    {
     "name": "stderr",
     "output_type": "stream",
     "text": [
      "C:\\Users\\akkhanvilkar\\Downloads\\WPy64-3870\\python-3.8.7.amd64\\lib\\site-packages\\sklearn\\linear_model\\_coordinate_descent.py:530: ConvergenceWarning: Objective did not converge. You might want to increase the number of iterations. Duality gap: 1356759454811.7227, tolerance: 11595975481.473267\n",
      "  model = cd_fast.enet_coordinate_descent(\n",
      "C:\\Users\\akkhanvilkar\\Downloads\\WPy64-3870\\python-3.8.7.amd64\\lib\\site-packages\\sklearn\\linear_model\\_coordinate_descent.py:530: ConvergenceWarning: Objective did not converge. You might want to increase the number of iterations. Duality gap: 24830718429740.562, tolerance: 23381130848.221928\n",
      "  model = cd_fast.enet_coordinate_descent(\n",
      "C:\\Users\\akkhanvilkar\\Downloads\\WPy64-3870\\python-3.8.7.amd64\\lib\\site-packages\\sklearn\\linear_model\\_coordinate_descent.py:530: ConvergenceWarning: Objective did not converge. You might want to increase the number of iterations. Duality gap: 29289300691800.367, tolerance: 24239509430.6581\n",
      "  model = cd_fast.enet_coordinate_descent(\n",
      "C:\\Users\\akkhanvilkar\\Downloads\\WPy64-3870\\python-3.8.7.amd64\\lib\\site-packages\\sklearn\\linear_model\\_coordinate_descent.py:530: ConvergenceWarning: Objective did not converge. You might want to increase the number of iterations. Duality gap: 1356760668720.1836, tolerance: 11595975481.473267\n",
      "  model = cd_fast.enet_coordinate_descent(\n",
      "C:\\Users\\akkhanvilkar\\Downloads\\WPy64-3870\\python-3.8.7.amd64\\lib\\site-packages\\sklearn\\linear_model\\_coordinate_descent.py:530: ConvergenceWarning: Objective did not converge. You might want to increase the number of iterations. Duality gap: 24830722815869.33, tolerance: 23381130848.221928\n",
      "  model = cd_fast.enet_coordinate_descent(\n",
      "C:\\Users\\akkhanvilkar\\Downloads\\WPy64-3870\\python-3.8.7.amd64\\lib\\site-packages\\sklearn\\linear_model\\_coordinate_descent.py:530: ConvergenceWarning: Objective did not converge. You might want to increase the number of iterations. Duality gap: 29289306649944.086, tolerance: 24239509430.6581\n",
      "  model = cd_fast.enet_coordinate_descent(\n",
      "C:\\Users\\akkhanvilkar\\Downloads\\WPy64-3870\\python-3.8.7.amd64\\lib\\site-packages\\sklearn\\linear_model\\_coordinate_descent.py:530: ConvergenceWarning: Objective did not converge. You might want to increase the number of iterations. Duality gap: 1356761882505.6875, tolerance: 11595975481.473267\n",
      "  model = cd_fast.enet_coordinate_descent(\n",
      "C:\\Users\\akkhanvilkar\\Downloads\\WPy64-3870\\python-3.8.7.amd64\\lib\\site-packages\\sklearn\\linear_model\\_coordinate_descent.py:530: ConvergenceWarning: Objective did not converge. You might want to increase the number of iterations. Duality gap: 24830727196975.43, tolerance: 23381130848.221928\n",
      "  model = cd_fast.enet_coordinate_descent(\n",
      "C:\\Users\\akkhanvilkar\\Downloads\\WPy64-3870\\python-3.8.7.amd64\\lib\\site-packages\\sklearn\\linear_model\\_coordinate_descent.py:530: ConvergenceWarning: Objective did not converge. You might want to increase the number of iterations. Duality gap: 29289312601948.227, tolerance: 24239509430.6581\n",
      "  model = cd_fast.enet_coordinate_descent(\n",
      "C:\\Users\\akkhanvilkar\\Downloads\\WPy64-3870\\python-3.8.7.amd64\\lib\\site-packages\\sklearn\\linear_model\\_coordinate_descent.py:530: ConvergenceWarning: Objective did not converge. You might want to increase the number of iterations. Duality gap: 1356763095949.1133, tolerance: 11595975481.473267\n",
      "  model = cd_fast.enet_coordinate_descent(\n",
      "C:\\Users\\akkhanvilkar\\Downloads\\WPy64-3870\\python-3.8.7.amd64\\lib\\site-packages\\sklearn\\linear_model\\_coordinate_descent.py:530: ConvergenceWarning: Objective did not converge. You might want to increase the number of iterations. Duality gap: 24830731574208.523, tolerance: 23381130848.221928\n",
      "  model = cd_fast.enet_coordinate_descent(\n",
      "C:\\Users\\akkhanvilkar\\Downloads\\WPy64-3870\\python-3.8.7.amd64\\lib\\site-packages\\sklearn\\linear_model\\_coordinate_descent.py:530: ConvergenceWarning: Objective did not converge. You might want to increase the number of iterations. Duality gap: 29289318547324.008, tolerance: 24239509430.6581\n",
      "  model = cd_fast.enet_coordinate_descent(\n",
      "C:\\Users\\akkhanvilkar\\Downloads\\WPy64-3870\\python-3.8.7.amd64\\lib\\site-packages\\sklearn\\linear_model\\_coordinate_descent.py:530: ConvergenceWarning: Objective did not converge. You might want to increase the number of iterations. Duality gap: 1356764309375.8984, tolerance: 11595975481.473267\n",
      "  model = cd_fast.enet_coordinate_descent(\n",
      "C:\\Users\\akkhanvilkar\\Downloads\\WPy64-3870\\python-3.8.7.amd64\\lib\\site-packages\\sklearn\\linear_model\\_coordinate_descent.py:530: ConvergenceWarning: Objective did not converge. You might want to increase the number of iterations. Duality gap: 24830735945956.156, tolerance: 23381130848.221928\n",
      "  model = cd_fast.enet_coordinate_descent(\n",
      "C:\\Users\\akkhanvilkar\\Downloads\\WPy64-3870\\python-3.8.7.amd64\\lib\\site-packages\\sklearn\\linear_model\\_coordinate_descent.py:530: ConvergenceWarning: Objective did not converge. You might want to increase the number of iterations. Duality gap: 29289324486502.1, tolerance: 24239509430.6581\n",
      "  model = cd_fast.enet_coordinate_descent(\n",
      "C:\\Users\\akkhanvilkar\\Downloads\\WPy64-3870\\python-3.8.7.amd64\\lib\\site-packages\\sklearn\\linear_model\\_coordinate_descent.py:530: ConvergenceWarning: Objective did not converge. You might want to increase the number of iterations. Duality gap: 1356765522492.3984, tolerance: 11595975481.473267\n",
      "  model = cd_fast.enet_coordinate_descent(\n",
      "C:\\Users\\akkhanvilkar\\Downloads\\WPy64-3870\\python-3.8.7.amd64\\lib\\site-packages\\sklearn\\linear_model\\_coordinate_descent.py:530: ConvergenceWarning: Objective did not converge. You might want to increase the number of iterations. Duality gap: 24830740312651.914, tolerance: 23381130848.221928\n",
      "  model = cd_fast.enet_coordinate_descent(\n",
      "C:\\Users\\akkhanvilkar\\Downloads\\WPy64-3870\\python-3.8.7.amd64\\lib\\site-packages\\sklearn\\linear_model\\_coordinate_descent.py:530: ConvergenceWarning: Objective did not converge. You might want to increase the number of iterations. Duality gap: 29289330419689.625, tolerance: 24239509430.6581\n",
      "  model = cd_fast.enet_coordinate_descent(\n",
      "C:\\Users\\akkhanvilkar\\Downloads\\WPy64-3870\\python-3.8.7.amd64\\lib\\site-packages\\sklearn\\linear_model\\_coordinate_descent.py:530: ConvergenceWarning: Objective did not converge. You might want to increase the number of iterations. Duality gap: 1356766735438.4688, tolerance: 11595975481.473267\n",
      "  model = cd_fast.enet_coordinate_descent(\n",
      "C:\\Users\\akkhanvilkar\\Downloads\\WPy64-3870\\python-3.8.7.amd64\\lib\\site-packages\\sklearn\\linear_model\\_coordinate_descent.py:530: ConvergenceWarning: Objective did not converge. You might want to increase the number of iterations. Duality gap: 24830744675448.438, tolerance: 23381130848.221928\n",
      "  model = cd_fast.enet_coordinate_descent(\n",
      "C:\\Users\\akkhanvilkar\\Downloads\\WPy64-3870\\python-3.8.7.amd64\\lib\\site-packages\\sklearn\\linear_model\\_coordinate_descent.py:530: ConvergenceWarning: Objective did not converge. You might want to increase the number of iterations. Duality gap: 29289336346128.36, tolerance: 24239509430.6581\n",
      "  model = cd_fast.enet_coordinate_descent(\n",
      "C:\\Users\\akkhanvilkar\\Downloads\\WPy64-3870\\python-3.8.7.amd64\\lib\\site-packages\\sklearn\\linear_model\\_coordinate_descent.py:530: ConvergenceWarning: Objective did not converge. You might want to increase the number of iterations. Duality gap: 1356767948201.6133, tolerance: 11595975481.473267\n",
      "  model = cd_fast.enet_coordinate_descent(\n",
      "C:\\Users\\akkhanvilkar\\Downloads\\WPy64-3870\\python-3.8.7.amd64\\lib\\site-packages\\sklearn\\linear_model\\_coordinate_descent.py:530: ConvergenceWarning: Objective did not converge. You might want to increase the number of iterations. Duality gap: 24830749033189.79, tolerance: 23381130848.221928\n",
      "  model = cd_fast.enet_coordinate_descent(\n",
      "C:\\Users\\akkhanvilkar\\Downloads\\WPy64-3870\\python-3.8.7.amd64\\lib\\site-packages\\sklearn\\linear_model\\_coordinate_descent.py:530: ConvergenceWarning: Objective did not converge. You might want to increase the number of iterations. Duality gap: 29289342266464.04, tolerance: 24239509430.6581\n",
      "  model = cd_fast.enet_coordinate_descent(\n",
      "C:\\Users\\akkhanvilkar\\Downloads\\WPy64-3870\\python-3.8.7.amd64\\lib\\site-packages\\sklearn\\linear_model\\_coordinate_descent.py:530: ConvergenceWarning: Objective did not converge. You might want to increase the number of iterations. Duality gap: 1356769160760.7773, tolerance: 11595975481.473267\n",
      "  model = cd_fast.enet_coordinate_descent(\n",
      "C:\\Users\\akkhanvilkar\\Downloads\\WPy64-3870\\python-3.8.7.amd64\\lib\\site-packages\\sklearn\\linear_model\\_coordinate_descent.py:530: ConvergenceWarning: Objective did not converge. You might want to increase the number of iterations. Duality gap: 24830753386323.78, tolerance: 23381130848.221928\n",
      "  model = cd_fast.enet_coordinate_descent(\n",
      "C:\\Users\\akkhanvilkar\\Downloads\\WPy64-3870\\python-3.8.7.amd64\\lib\\site-packages\\sklearn\\linear_model\\_coordinate_descent.py:530: ConvergenceWarning: Objective did not converge. You might want to increase the number of iterations. Duality gap: 29289348180613.46, tolerance: 24239509430.6581\n",
      "  model = cd_fast.enet_coordinate_descent(\n",
      "C:\\Users\\akkhanvilkar\\Downloads\\WPy64-3870\\python-3.8.7.amd64\\lib\\site-packages\\sklearn\\linear_model\\_coordinate_descent.py:530: ConvergenceWarning: Objective did not converge. You might want to increase the number of iterations. Duality gap: 1356770373117.6016, tolerance: 11595975481.473267\n",
      "  model = cd_fast.enet_coordinate_descent(\n",
      "C:\\Users\\akkhanvilkar\\Downloads\\WPy64-3870\\python-3.8.7.amd64\\lib\\site-packages\\sklearn\\linear_model\\_coordinate_descent.py:530: ConvergenceWarning: Objective did not converge. You might want to increase the number of iterations. Duality gap: 24830757735178.414, tolerance: 23381130848.221928\n",
      "  model = cd_fast.enet_coordinate_descent(\n",
      "C:\\Users\\akkhanvilkar\\Downloads\\WPy64-3870\\python-3.8.7.amd64\\lib\\site-packages\\sklearn\\linear_model\\_coordinate_descent.py:530: ConvergenceWarning: Objective did not converge. You might want to increase the number of iterations. Duality gap: 29289354088055.938, tolerance: 24239509430.6581\n",
      "  model = cd_fast.enet_coordinate_descent(\n",
      "C:\\Users\\akkhanvilkar\\Downloads\\WPy64-3870\\python-3.8.7.amd64\\lib\\site-packages\\sklearn\\linear_model\\_coordinate_descent.py:530: ConvergenceWarning: Objective did not converge. You might want to increase the number of iterations. Duality gap: 1356771585224.1875, tolerance: 11595975481.473267\n",
      "  model = cd_fast.enet_coordinate_descent(\n",
      "C:\\Users\\akkhanvilkar\\Downloads\\WPy64-3870\\python-3.8.7.amd64\\lib\\site-packages\\sklearn\\linear_model\\_coordinate_descent.py:530: ConvergenceWarning: Objective did not converge. You might want to increase the number of iterations. Duality gap: 24830762078893.25, tolerance: 23381130848.221928\n",
      "  model = cd_fast.enet_coordinate_descent(\n",
      "C:\\Users\\akkhanvilkar\\Downloads\\WPy64-3870\\python-3.8.7.amd64\\lib\\site-packages\\sklearn\\linear_model\\_coordinate_descent.py:530: ConvergenceWarning: Objective did not converge. You might want to increase the number of iterations. Duality gap: 29289359989535.117, tolerance: 24239509430.6581\n",
      "  model = cd_fast.enet_coordinate_descent(\n",
      "C:\\Users\\akkhanvilkar\\Downloads\\WPy64-3870\\python-3.8.7.amd64\\lib\\site-packages\\sklearn\\linear_model\\_coordinate_descent.py:530: ConvergenceWarning: Objective did not converge. You might want to increase the number of iterations. Duality gap: 1356772797204.8828, tolerance: 11595975481.473267\n",
      "  model = cd_fast.enet_coordinate_descent(\n",
      "C:\\Users\\akkhanvilkar\\Downloads\\WPy64-3870\\python-3.8.7.amd64\\lib\\site-packages\\sklearn\\linear_model\\_coordinate_descent.py:530: ConvergenceWarning: Objective did not converge. You might want to increase the number of iterations. Duality gap: 24830766417578.67, tolerance: 23381130848.221928\n",
      "  model = cd_fast.enet_coordinate_descent(\n",
      "C:\\Users\\akkhanvilkar\\Downloads\\WPy64-3870\\python-3.8.7.amd64\\lib\\site-packages\\sklearn\\linear_model\\_coordinate_descent.py:530: ConvergenceWarning: Objective did not converge. You might want to increase the number of iterations. Duality gap: 29289365884678.07, tolerance: 24239509430.6581\n",
      "  model = cd_fast.enet_coordinate_descent(\n",
      "C:\\Users\\akkhanvilkar\\Downloads\\WPy64-3870\\python-3.8.7.amd64\\lib\\site-packages\\sklearn\\linear_model\\_coordinate_descent.py:530: ConvergenceWarning: Objective did not converge. You might want to increase the number of iterations. Duality gap: 1356774008977.5195, tolerance: 11595975481.473267\n",
      "  model = cd_fast.enet_coordinate_descent(\n",
      "C:\\Users\\akkhanvilkar\\Downloads\\WPy64-3870\\python-3.8.7.amd64\\lib\\site-packages\\sklearn\\linear_model\\_coordinate_descent.py:530: ConvergenceWarning: Objective did not converge. You might want to increase the number of iterations. Duality gap: 24830770751884.61, tolerance: 23381130848.221928\n",
      "  model = cd_fast.enet_coordinate_descent(\n",
      "C:\\Users\\akkhanvilkar\\Downloads\\WPy64-3870\\python-3.8.7.amd64\\lib\\site-packages\\sklearn\\linear_model\\_coordinate_descent.py:530: ConvergenceWarning: Objective did not converge. You might want to increase the number of iterations. Duality gap: 29289371773608.758, tolerance: 24239509430.6581\n",
      "  model = cd_fast.enet_coordinate_descent(\n"
     ]
    },
    {
     "name": "stderr",
     "output_type": "stream",
     "text": [
      "C:\\Users\\akkhanvilkar\\Downloads\\WPy64-3870\\python-3.8.7.amd64\\lib\\site-packages\\sklearn\\linear_model\\_coordinate_descent.py:530: ConvergenceWarning: Objective did not converge. You might want to increase the number of iterations. Duality gap: 1356775220533.7188, tolerance: 11595975481.473267\n",
      "  model = cd_fast.enet_coordinate_descent(\n",
      "C:\\Users\\akkhanvilkar\\Downloads\\WPy64-3870\\python-3.8.7.amd64\\lib\\site-packages\\sklearn\\linear_model\\_coordinate_descent.py:530: ConvergenceWarning: Objective did not converge. You might want to increase the number of iterations. Duality gap: 24830775081619.094, tolerance: 23381130848.221928\n",
      "  model = cd_fast.enet_coordinate_descent(\n",
      "C:\\Users\\akkhanvilkar\\Downloads\\WPy64-3870\\python-3.8.7.amd64\\lib\\site-packages\\sklearn\\linear_model\\_coordinate_descent.py:530: ConvergenceWarning: Objective did not converge. You might want to increase the number of iterations. Duality gap: 29289377655832.703, tolerance: 24239509430.6581\n",
      "  model = cd_fast.enet_coordinate_descent(\n",
      "C:\\Users\\akkhanvilkar\\Downloads\\WPy64-3870\\python-3.8.7.amd64\\lib\\site-packages\\sklearn\\linear_model\\_coordinate_descent.py:530: ConvergenceWarning: Objective did not converge. You might want to increase the number of iterations. Duality gap: 1356776431983.3047, tolerance: 11595975481.473267\n",
      "  model = cd_fast.enet_coordinate_descent(\n",
      "C:\\Users\\akkhanvilkar\\Downloads\\WPy64-3870\\python-3.8.7.amd64\\lib\\site-packages\\sklearn\\linear_model\\_coordinate_descent.py:530: ConvergenceWarning: Objective did not converge. You might want to increase the number of iterations. Duality gap: 24830779406644.586, tolerance: 23381130848.221928\n",
      "  model = cd_fast.enet_coordinate_descent(\n",
      "C:\\Users\\akkhanvilkar\\Downloads\\WPy64-3870\\python-3.8.7.amd64\\lib\\site-packages\\sklearn\\linear_model\\_coordinate_descent.py:530: ConvergenceWarning: Objective did not converge. You might want to increase the number of iterations. Duality gap: 29289383532096.844, tolerance: 24239509430.6581\n",
      "  model = cd_fast.enet_coordinate_descent(\n",
      "C:\\Users\\akkhanvilkar\\Downloads\\WPy64-3870\\python-3.8.7.amd64\\lib\\site-packages\\sklearn\\linear_model\\_coordinate_descent.py:530: ConvergenceWarning: Objective did not converge. You might want to increase the number of iterations. Duality gap: 1356777643162.8438, tolerance: 11595975481.473267\n",
      "  model = cd_fast.enet_coordinate_descent(\n",
      "C:\\Users\\akkhanvilkar\\Downloads\\WPy64-3870\\python-3.8.7.amd64\\lib\\site-packages\\sklearn\\linear_model\\_coordinate_descent.py:530: ConvergenceWarning: Objective did not converge. You might want to increase the number of iterations. Duality gap: 24830783726915.43, tolerance: 23381130848.221928\n",
      "  model = cd_fast.enet_coordinate_descent(\n",
      "C:\\Users\\akkhanvilkar\\Downloads\\WPy64-3870\\python-3.8.7.amd64\\lib\\site-packages\\sklearn\\linear_model\\_coordinate_descent.py:530: ConvergenceWarning: Objective did not converge. You might want to increase the number of iterations. Duality gap: 29289389402074.758, tolerance: 24239509430.6581\n",
      "  model = cd_fast.enet_coordinate_descent(\n",
      "C:\\Users\\akkhanvilkar\\Downloads\\WPy64-3870\\python-3.8.7.amd64\\lib\\site-packages\\sklearn\\linear_model\\_coordinate_descent.py:530: ConvergenceWarning: Objective did not converge. You might want to increase the number of iterations. Duality gap: 1356778854068.3672, tolerance: 11595975481.473267\n",
      "  model = cd_fast.enet_coordinate_descent(\n",
      "C:\\Users\\akkhanvilkar\\Downloads\\WPy64-3870\\python-3.8.7.amd64\\lib\\site-packages\\sklearn\\linear_model\\_coordinate_descent.py:530: ConvergenceWarning: Objective did not converge. You might want to increase the number of iterations. Duality gap: 24830788042218.133, tolerance: 23381130848.221928\n",
      "  model = cd_fast.enet_coordinate_descent(\n",
      "C:\\Users\\akkhanvilkar\\Downloads\\WPy64-3870\\python-3.8.7.amd64\\lib\\site-packages\\sklearn\\linear_model\\_coordinate_descent.py:530: ConvergenceWarning: Objective did not converge. You might want to increase the number of iterations. Duality gap: 29289395265874.016, tolerance: 24239509430.6581\n",
      "  model = cd_fast.enet_coordinate_descent(\n",
      "C:\\Users\\akkhanvilkar\\Downloads\\WPy64-3870\\python-3.8.7.amd64\\lib\\site-packages\\sklearn\\linear_model\\_coordinate_descent.py:530: ConvergenceWarning: Objective did not converge. You might want to increase the number of iterations. Duality gap: 1356780064877.2383, tolerance: 11595975481.473267\n",
      "  model = cd_fast.enet_coordinate_descent(\n",
      "C:\\Users\\akkhanvilkar\\Downloads\\WPy64-3870\\python-3.8.7.amd64\\lib\\site-packages\\sklearn\\linear_model\\_coordinate_descent.py:530: ConvergenceWarning: Objective did not converge. You might want to increase the number of iterations. Duality gap: 24830792352989.156, tolerance: 23381130848.221928\n",
      "  model = cd_fast.enet_coordinate_descent(\n",
      "C:\\Users\\akkhanvilkar\\Downloads\\WPy64-3870\\python-3.8.7.amd64\\lib\\site-packages\\sklearn\\linear_model\\_coordinate_descent.py:530: ConvergenceWarning: Objective did not converge. You might want to increase the number of iterations. Duality gap: 29289401122945.6, tolerance: 24239509430.6581\n",
      "  model = cd_fast.enet_coordinate_descent(\n",
      "C:\\Users\\akkhanvilkar\\Downloads\\WPy64-3870\\python-3.8.7.amd64\\lib\\site-packages\\sklearn\\linear_model\\_coordinate_descent.py:530: ConvergenceWarning: Objective did not converge. You might want to increase the number of iterations. Duality gap: 1356781275509.3867, tolerance: 11595975481.473267\n",
      "  model = cd_fast.enet_coordinate_descent(\n",
      "C:\\Users\\akkhanvilkar\\Downloads\\WPy64-3870\\python-3.8.7.amd64\\lib\\site-packages\\sklearn\\linear_model\\_coordinate_descent.py:530: ConvergenceWarning: Objective did not converge. You might want to increase the number of iterations. Duality gap: 24830796659350.492, tolerance: 23381130848.221928\n",
      "  model = cd_fast.enet_coordinate_descent(\n",
      "C:\\Users\\akkhanvilkar\\Downloads\\WPy64-3870\\python-3.8.7.amd64\\lib\\site-packages\\sklearn\\linear_model\\_coordinate_descent.py:530: ConvergenceWarning: Objective did not converge. You might want to increase the number of iterations. Duality gap: 29289406973898.492, tolerance: 24239509430.6581\n",
      "  model = cd_fast.enet_coordinate_descent(\n",
      "C:\\Users\\akkhanvilkar\\Downloads\\WPy64-3870\\python-3.8.7.amd64\\lib\\site-packages\\sklearn\\linear_model\\_coordinate_descent.py:530: ConvergenceWarning: Objective did not converge. You might want to increase the number of iterations. Duality gap: 1356782485873.6094, tolerance: 11595975481.473267\n",
      "  model = cd_fast.enet_coordinate_descent(\n",
      "C:\\Users\\akkhanvilkar\\Downloads\\WPy64-3870\\python-3.8.7.amd64\\lib\\site-packages\\sklearn\\linear_model\\_coordinate_descent.py:530: ConvergenceWarning: Objective did not converge. You might want to increase the number of iterations. Duality gap: 24830800960411.35, tolerance: 23381130848.221928\n",
      "  model = cd_fast.enet_coordinate_descent(\n",
      "C:\\Users\\akkhanvilkar\\Downloads\\WPy64-3870\\python-3.8.7.amd64\\lib\\site-packages\\sklearn\\linear_model\\_coordinate_descent.py:530: ConvergenceWarning: Objective did not converge. You might want to increase the number of iterations. Duality gap: 29289412818491.992, tolerance: 24239509430.6581\n",
      "  model = cd_fast.enet_coordinate_descent(\n",
      "C:\\Users\\akkhanvilkar\\Downloads\\WPy64-3870\\python-3.8.7.amd64\\lib\\site-packages\\sklearn\\linear_model\\_coordinate_descent.py:530: ConvergenceWarning: Objective did not converge. You might want to increase the number of iterations. Duality gap: 1356783696043.871, tolerance: 11595975481.473267\n",
      "  model = cd_fast.enet_coordinate_descent(\n",
      "C:\\Users\\akkhanvilkar\\Downloads\\WPy64-3870\\python-3.8.7.amd64\\lib\\site-packages\\sklearn\\linear_model\\_coordinate_descent.py:530: ConvergenceWarning: Objective did not converge. You might want to increase the number of iterations. Duality gap: 24830805257062.89, tolerance: 23381130848.221928\n",
      "  model = cd_fast.enet_coordinate_descent(\n",
      "C:\\Users\\akkhanvilkar\\Downloads\\WPy64-3870\\python-3.8.7.amd64\\lib\\site-packages\\sklearn\\linear_model\\_coordinate_descent.py:530: ConvergenceWarning: Objective did not converge. You might want to increase the number of iterations. Duality gap: 29289418656895.617, tolerance: 24239509430.6581\n",
      "  model = cd_fast.enet_coordinate_descent(\n",
      "C:\\Users\\akkhanvilkar\\Downloads\\WPy64-3870\\python-3.8.7.amd64\\lib\\site-packages\\sklearn\\linear_model\\_coordinate_descent.py:530: ConvergenceWarning: Objective did not converge. You might want to increase the number of iterations. Duality gap: 1356784906045.5508, tolerance: 11595975481.473267\n",
      "  model = cd_fast.enet_coordinate_descent(\n",
      "C:\\Users\\akkhanvilkar\\Downloads\\WPy64-3870\\python-3.8.7.amd64\\lib\\site-packages\\sklearn\\linear_model\\_coordinate_descent.py:530: ConvergenceWarning: Objective did not converge. You might want to increase the number of iterations. Duality gap: 24830809549089.67, tolerance: 23381130848.221928\n",
      "  model = cd_fast.enet_coordinate_descent(\n",
      "C:\\Users\\akkhanvilkar\\Downloads\\WPy64-3870\\python-3.8.7.amd64\\lib\\site-packages\\sklearn\\linear_model\\_coordinate_descent.py:530: ConvergenceWarning: Objective did not converge. You might want to increase the number of iterations. Duality gap: 29289424488968.75, tolerance: 24239509430.6581\n",
      "  model = cd_fast.enet_coordinate_descent(\n",
      "C:\\Users\\akkhanvilkar\\Downloads\\WPy64-3870\\python-3.8.7.amd64\\lib\\site-packages\\sklearn\\linear_model\\_coordinate_descent.py:530: ConvergenceWarning: Objective did not converge. You might want to increase the number of iterations. Duality gap: 1356786115791.4688, tolerance: 11595975481.473267\n",
      "  model = cd_fast.enet_coordinate_descent(\n",
      "C:\\Users\\akkhanvilkar\\Downloads\\WPy64-3870\\python-3.8.7.amd64\\lib\\site-packages\\sklearn\\linear_model\\_coordinate_descent.py:530: ConvergenceWarning: Objective did not converge. You might want to increase the number of iterations. Duality gap: 24830813836731.664, tolerance: 23381130848.221928\n",
      "  model = cd_fast.enet_coordinate_descent(\n",
      "C:\\Users\\akkhanvilkar\\Downloads\\WPy64-3870\\python-3.8.7.amd64\\lib\\site-packages\\sklearn\\linear_model\\_coordinate_descent.py:530: ConvergenceWarning: Objective did not converge. You might want to increase the number of iterations. Duality gap: 29289430314675.875, tolerance: 24239509430.6581\n",
      "  model = cd_fast.enet_coordinate_descent(\n",
      "C:\\Users\\akkhanvilkar\\Downloads\\WPy64-3870\\python-3.8.7.amd64\\lib\\site-packages\\sklearn\\linear_model\\_coordinate_descent.py:530: ConvergenceWarning: Objective did not converge. You might want to increase the number of iterations. Duality gap: 1356787325448.3047, tolerance: 11595975481.473267\n",
      "  model = cd_fast.enet_coordinate_descent(\n",
      "C:\\Users\\akkhanvilkar\\Downloads\\WPy64-3870\\python-3.8.7.amd64\\lib\\site-packages\\sklearn\\linear_model\\_coordinate_descent.py:530: ConvergenceWarning: Objective did not converge. You might want to increase the number of iterations. Duality gap: 24830818118897.61, tolerance: 23381130848.221928\n",
      "  model = cd_fast.enet_coordinate_descent(\n",
      "C:\\Users\\akkhanvilkar\\Downloads\\WPy64-3870\\python-3.8.7.amd64\\lib\\site-packages\\sklearn\\linear_model\\_coordinate_descent.py:530: ConvergenceWarning: Objective did not converge. You might want to increase the number of iterations. Duality gap: 29289436134348.414, tolerance: 24239509430.6581\n",
      "  model = cd_fast.enet_coordinate_descent(\n",
      "C:\\Users\\akkhanvilkar\\Downloads\\WPy64-3870\\python-3.8.7.amd64\\lib\\site-packages\\sklearn\\linear_model\\_coordinate_descent.py:530: ConvergenceWarning: Objective did not converge. You might want to increase the number of iterations. Duality gap: 1356788534842.082, tolerance: 11595975481.473267\n",
      "  model = cd_fast.enet_coordinate_descent(\n",
      "C:\\Users\\akkhanvilkar\\Downloads\\WPy64-3870\\python-3.8.7.amd64\\lib\\site-packages\\sklearn\\linear_model\\_coordinate_descent.py:530: ConvergenceWarning: Objective did not converge. You might want to increase the number of iterations. Duality gap: 24830822396681.28, tolerance: 23381130848.221928\n",
      "  model = cd_fast.enet_coordinate_descent(\n",
      "C:\\Users\\akkhanvilkar\\Downloads\\WPy64-3870\\python-3.8.7.amd64\\lib\\site-packages\\sklearn\\linear_model\\_coordinate_descent.py:530: ConvergenceWarning: Objective did not converge. You might want to increase the number of iterations. Duality gap: 29289441947352.36, tolerance: 24239509430.6581\n",
      "  model = cd_fast.enet_coordinate_descent(\n",
      "C:\\Users\\akkhanvilkar\\Downloads\\WPy64-3870\\python-3.8.7.amd64\\lib\\site-packages\\sklearn\\linear_model\\_coordinate_descent.py:530: ConvergenceWarning: Objective did not converge. You might want to increase the number of iterations. Duality gap: 1356789744084.6055, tolerance: 11595975481.473267\n",
      "  model = cd_fast.enet_coordinate_descent(\n",
      "C:\\Users\\akkhanvilkar\\Downloads\\WPy64-3870\\python-3.8.7.amd64\\lib\\site-packages\\sklearn\\linear_model\\_coordinate_descent.py:530: ConvergenceWarning: Objective did not converge. You might want to increase the number of iterations. Duality gap: 24830826669955.17, tolerance: 23381130848.221928\n",
      "  model = cd_fast.enet_coordinate_descent(\n",
      "C:\\Users\\akkhanvilkar\\Downloads\\WPy64-3870\\python-3.8.7.amd64\\lib\\site-packages\\sklearn\\linear_model\\_coordinate_descent.py:530: ConvergenceWarning: Objective did not converge. You might want to increase the number of iterations. Duality gap: 29289447754378.258, tolerance: 24239509430.6581\n",
      "  model = cd_fast.enet_coordinate_descent(\n",
      "C:\\Users\\akkhanvilkar\\Downloads\\WPy64-3870\\python-3.8.7.amd64\\lib\\site-packages\\sklearn\\linear_model\\_coordinate_descent.py:530: ConvergenceWarning: Objective did not converge. You might want to increase the number of iterations. Duality gap: 1356790953099.4023, tolerance: 11595975481.473267\n",
      "  model = cd_fast.enet_coordinate_descent(\n",
      "C:\\Users\\akkhanvilkar\\Downloads\\WPy64-3870\\python-3.8.7.amd64\\lib\\site-packages\\sklearn\\linear_model\\_coordinate_descent.py:530: ConvergenceWarning: Objective did not converge. You might want to increase the number of iterations. Duality gap: 24830830938325.867, tolerance: 23381130848.221928\n",
      "  model = cd_fast.enet_coordinate_descent(\n",
      "C:\\Users\\akkhanvilkar\\Downloads\\WPy64-3870\\python-3.8.7.amd64\\lib\\site-packages\\sklearn\\linear_model\\_coordinate_descent.py:530: ConvergenceWarning: Objective did not converge. You might want to increase the number of iterations. Duality gap: 29289453554934.625, tolerance: 24239509430.6581\n",
      "  model = cd_fast.enet_coordinate_descent(\n"
     ]
    },
    {
     "name": "stderr",
     "output_type": "stream",
     "text": [
      "C:\\Users\\akkhanvilkar\\Downloads\\WPy64-3870\\python-3.8.7.amd64\\lib\\site-packages\\sklearn\\linear_model\\_coordinate_descent.py:530: ConvergenceWarning: Objective did not converge. You might want to increase the number of iterations. Duality gap: 1356792161937.8398, tolerance: 11595975481.473267\n",
      "  model = cd_fast.enet_coordinate_descent(\n",
      "C:\\Users\\akkhanvilkar\\Downloads\\WPy64-3870\\python-3.8.7.amd64\\lib\\site-packages\\sklearn\\linear_model\\_coordinate_descent.py:530: ConvergenceWarning: Objective did not converge. You might want to increase the number of iterations. Duality gap: 24830835202066.867, tolerance: 23381130848.221928\n",
      "  model = cd_fast.enet_coordinate_descent(\n",
      "C:\\Users\\akkhanvilkar\\Downloads\\WPy64-3870\\python-3.8.7.amd64\\lib\\site-packages\\sklearn\\linear_model\\_coordinate_descent.py:530: ConvergenceWarning: Objective did not converge. You might want to increase the number of iterations. Duality gap: 29289459349213.266, tolerance: 24239509430.6581\n",
      "  model = cd_fast.enet_coordinate_descent(\n",
      "C:\\Users\\akkhanvilkar\\Downloads\\WPy64-3870\\python-3.8.7.amd64\\lib\\site-packages\\sklearn\\linear_model\\_coordinate_descent.py:530: ConvergenceWarning: Objective did not converge. You might want to increase the number of iterations. Duality gap: 1356793370521.0195, tolerance: 11595975481.473267\n",
      "  model = cd_fast.enet_coordinate_descent(\n",
      "C:\\Users\\akkhanvilkar\\Downloads\\WPy64-3870\\python-3.8.7.amd64\\lib\\site-packages\\sklearn\\linear_model\\_coordinate_descent.py:530: ConvergenceWarning: Objective did not converge. You might want to increase the number of iterations. Duality gap: 24830839461138.39, tolerance: 23381130848.221928\n",
      "  model = cd_fast.enet_coordinate_descent(\n",
      "C:\\Users\\akkhanvilkar\\Downloads\\WPy64-3870\\python-3.8.7.amd64\\lib\\site-packages\\sklearn\\linear_model\\_coordinate_descent.py:530: ConvergenceWarning: Objective did not converge. You might want to increase the number of iterations. Duality gap: 29289465137155.336, tolerance: 24239509430.6581\n",
      "  model = cd_fast.enet_coordinate_descent(\n",
      "C:\\Users\\akkhanvilkar\\Downloads\\WPy64-3870\\python-3.8.7.amd64\\lib\\site-packages\\sklearn\\linear_model\\_coordinate_descent.py:530: ConvergenceWarning: Objective did not converge. You might want to increase the number of iterations. Duality gap: 1356794578910.375, tolerance: 11595975481.473267\n",
      "  model = cd_fast.enet_coordinate_descent(\n",
      "C:\\Users\\akkhanvilkar\\Downloads\\WPy64-3870\\python-3.8.7.amd64\\lib\\site-packages\\sklearn\\linear_model\\_coordinate_descent.py:530: ConvergenceWarning: Objective did not converge. You might want to increase the number of iterations. Duality gap: 24830843715576.633, tolerance: 23381130848.221928\n",
      "  model = cd_fast.enet_coordinate_descent(\n",
      "C:\\Users\\akkhanvilkar\\Downloads\\WPy64-3870\\python-3.8.7.amd64\\lib\\site-packages\\sklearn\\linear_model\\_coordinate_descent.py:530: ConvergenceWarning: Objective did not converge. You might want to increase the number of iterations. Duality gap: 29289470918643.92, tolerance: 24239509430.6581\n",
      "  model = cd_fast.enet_coordinate_descent(\n",
      "C:\\Users\\akkhanvilkar\\Downloads\\WPy64-3870\\python-3.8.7.amd64\\lib\\site-packages\\sklearn\\linear_model\\_coordinate_descent.py:530: ConvergenceWarning: Objective did not converge. You might want to increase the number of iterations. Duality gap: 1356795787178.3828, tolerance: 11595975481.473267\n",
      "  model = cd_fast.enet_coordinate_descent(\n",
      "C:\\Users\\akkhanvilkar\\Downloads\\WPy64-3870\\python-3.8.7.amd64\\lib\\site-packages\\sklearn\\linear_model\\_coordinate_descent.py:530: ConvergenceWarning: Objective did not converge. You might want to increase the number of iterations. Duality gap: 24830847964933.984, tolerance: 23381130848.221928\n",
      "  model = cd_fast.enet_coordinate_descent(\n",
      "C:\\Users\\akkhanvilkar\\Downloads\\WPy64-3870\\python-3.8.7.amd64\\lib\\site-packages\\sklearn\\linear_model\\_coordinate_descent.py:530: ConvergenceWarning: Objective did not converge. You might want to increase the number of iterations. Duality gap: 29289476694064.305, tolerance: 24239509430.6581\n",
      "  model = cd_fast.enet_coordinate_descent(\n",
      "C:\\Users\\akkhanvilkar\\Downloads\\WPy64-3870\\python-3.8.7.amd64\\lib\\site-packages\\sklearn\\linear_model\\_coordinate_descent.py:530: ConvergenceWarning: Objective did not converge. You might want to increase the number of iterations. Duality gap: 1356796995173.039, tolerance: 11595975481.473267\n",
      "  model = cd_fast.enet_coordinate_descent(\n",
      "C:\\Users\\akkhanvilkar\\Downloads\\WPy64-3870\\python-3.8.7.amd64\\lib\\site-packages\\sklearn\\linear_model\\_coordinate_descent.py:530: ConvergenceWarning: Objective did not converge. You might want to increase the number of iterations. Duality gap: 24830852209773.312, tolerance: 23381130848.221928\n",
      "  model = cd_fast.enet_coordinate_descent(\n",
      "C:\\Users\\akkhanvilkar\\Downloads\\WPy64-3870\\python-3.8.7.amd64\\lib\\site-packages\\sklearn\\linear_model\\_coordinate_descent.py:530: ConvergenceWarning: Objective did not converge. You might want to increase the number of iterations. Duality gap: 29289482463097.5, tolerance: 24239509430.6581\n",
      "  model = cd_fast.enet_coordinate_descent(\n",
      "C:\\Users\\akkhanvilkar\\Downloads\\WPy64-3870\\python-3.8.7.amd64\\lib\\site-packages\\sklearn\\linear_model\\_coordinate_descent.py:530: ConvergenceWarning: Objective did not converge. You might want to increase the number of iterations. Duality gap: 1356798202985.8867, tolerance: 11595975481.473267\n",
      "  model = cd_fast.enet_coordinate_descent(\n",
      "C:\\Users\\akkhanvilkar\\Downloads\\WPy64-3870\\python-3.8.7.amd64\\lib\\site-packages\\sklearn\\linear_model\\_coordinate_descent.py:530: ConvergenceWarning: Objective did not converge. You might want to increase the number of iterations. Duality gap: 24830856450051.984, tolerance: 23381130848.221928\n",
      "  model = cd_fast.enet_coordinate_descent(\n",
      "C:\\Users\\akkhanvilkar\\Downloads\\WPy64-3870\\python-3.8.7.amd64\\lib\\site-packages\\sklearn\\linear_model\\_coordinate_descent.py:530: ConvergenceWarning: Objective did not converge. You might want to increase the number of iterations. Duality gap: 29289488225788.594, tolerance: 24239509430.6581\n",
      "  model = cd_fast.enet_coordinate_descent(\n",
      "C:\\Users\\akkhanvilkar\\Downloads\\WPy64-3870\\python-3.8.7.amd64\\lib\\site-packages\\sklearn\\linear_model\\_coordinate_descent.py:530: ConvergenceWarning: Objective did not converge. You might want to increase the number of iterations. Duality gap: 1356799410617.5898, tolerance: 11595975481.473267\n",
      "  model = cd_fast.enet_coordinate_descent(\n",
      "C:\\Users\\akkhanvilkar\\Downloads\\WPy64-3870\\python-3.8.7.amd64\\lib\\site-packages\\sklearn\\linear_model\\_coordinate_descent.py:530: ConvergenceWarning: Objective did not converge. You might want to increase the number of iterations. Duality gap: 24830860685405.812, tolerance: 23381130848.221928\n",
      "  model = cd_fast.enet_coordinate_descent(\n",
      "C:\\Users\\akkhanvilkar\\Downloads\\WPy64-3870\\python-3.8.7.amd64\\lib\\site-packages\\sklearn\\linear_model\\_coordinate_descent.py:530: ConvergenceWarning: Objective did not converge. You might want to increase the number of iterations. Duality gap: 29289493982337.57, tolerance: 24239509430.6581\n",
      "  model = cd_fast.enet_coordinate_descent(\n",
      "C:\\Users\\akkhanvilkar\\Downloads\\WPy64-3870\\python-3.8.7.amd64\\lib\\site-packages\\sklearn\\linear_model\\_coordinate_descent.py:530: ConvergenceWarning: Objective did not converge. You might want to increase the number of iterations. Duality gap: 1356800618085.871, tolerance: 11595975481.473267\n",
      "  model = cd_fast.enet_coordinate_descent(\n"
     ]
    },
    {
     "data": {
      "text/plain": [
       "[<matplotlib.lines.Line2D at 0x20f3f7c37c0>]"
      ]
     },
     "execution_count": 33,
     "metadata": {},
     "output_type": "execute_result"
    },
    {
     "data": {
      "image/png": "[encoded data removed]",
      "text/plain": [
       "<Figure size 432x288 with 1 Axes>"
      ]
     },
     "metadata": {
      "needs_background": "light"
     },
     "output_type": "display_data"
    }
   ],
   "source": [
    "alpha = []\n",
    "error = []\n",
    "\n",
    "for i in range(1,100):\n",
    "    alpha.append(i/100)\n",
    "    lml = Lasso(alpha=(i/100))\n",
    "    error.append(np.mean(cross_val_score(lml,X_train,y_train, scoring = 'neg_mean_absolute_error', cv= 3)))\n",
    "    \n",
    "plt.plot(alpha,error)"
   ]
  },
  {
   "cell_type": "code",
   "execution_count": 34,
   "metadata": {},
   "outputs": [
    {
     "data": {
      "text/html": [
       "<div>\n",
       "<style scoped>\n",
       "    .dataframe tbody tr th:only-of-type {\n",
       "        vertical-align: middle;\n",
       "    }\n",
       "\n",
       "    .dataframe tbody tr th {\n",
       "        vertical-align: top;\n",
       "    }\n",
       "\n",
       "    .dataframe thead th {\n",
       "        text-align: right;\n",
       "    }\n",
       "</style>\n",
       "<table border=\"1\" class=\"dataframe\">\n",
       "  <thead>\n",
       "    <tr style=\"text-align: right;\">\n",
       "      <th></th>\n",
       "      <th>alpha</th>\n",
       "      <th>error</th>\n",
       "    </tr>\n",
       "  </thead>\n",
       "  <tbody>\n",
       "    <tr>\n",
       "      <th>98</th>\n",
       "      <td>0.99</td>\n",
       "      <td>-452247.548054</td>\n",
       "    </tr>\n",
       "  </tbody>\n",
       "</table>\n",
       "</div>"
      ],
      "text/plain": [
       "    alpha          error\n",
       "98   0.99 -452247.548054"
      ]
     },
     "execution_count": 34,
     "metadata": {},
     "output_type": "execute_result"
    }
   ],
   "source": [
    "# Finding perfect value of alpha\n",
    "err = tuple(zip(alpha,error))\n",
    "df_err = pd.DataFrame(err, columns = ['alpha','error'])\n",
    "df_err[df_err.error == max(df_err.error)]"
   ]
  },
  {
   "cell_type": "code",
   "execution_count": 35,
   "metadata": {},
   "outputs": [
    {
     "data": {
      "text/plain": [
       "-451729.5971984376"
      ]
     },
     "execution_count": 35,
     "metadata": {},
     "output_type": "execute_result"
    }
   ],
   "source": [
    "# lasso regression again\n",
    "lm_l = Lasso(alpha=99)\n",
    "lm_l.fit(X_train,y_train)\n",
    "np.mean(cross_val_score(lm_l,X_train,y_train, scoring = 'neg_mean_absolute_error', cv= 3))"
   ]
  },
  {
   "cell_type": "code",
   "execution_count": 36,
   "metadata": {},
   "outputs": [
    {
     "data": {
      "text/plain": [
       "-453403.4679968455"
      ]
     },
     "execution_count": 36,
     "metadata": {},
     "output_type": "execute_result"
    }
   ],
   "source": [
    "# random forest (we expect this too work well as its a tree based decision model and here we have lot of 0 and 1 values)\n",
    "from sklearn.ensemble import RandomForestRegressor\n",
    "rf = RandomForestRegressor()\n",
    "\n",
    "np.mean(cross_val_score(rf,X_train,y_train,scoring = 'neg_mean_absolute_error', cv= 3))"
   ]
  },
  {
   "cell_type": "code",
   "execution_count": 37,
   "metadata": {},
   "outputs": [
    {
     "data": {
      "text/plain": [
       "RandomForestRegressor(criterion='mae', max_features='log2', n_estimators=20)"
      ]
     },
     "execution_count": 37,
     "metadata": {},
     "output_type": "execute_result"
    }
   ],
   "source": [
    "# tune models GridsearchCV \n",
    "from sklearn.model_selection import GridSearchCV\n",
    "parameters = {'n_estimators':range(10,300,10), 'criterion':('mse','mae'), 'max_features':('auto','sqrt','log2')}\n",
    "\n",
    "gs = GridSearchCV(rf,parameters,scoring='neg_mean_absolute_error',cv=3)\n",
    "gs.fit(X_train,y_train)\n",
    "\n",
    "gs.best_score_\n",
    "gs.best_estimator_"
   ]
  },
  {
   "cell_type": "code",
   "execution_count": 38,
   "metadata": {},
   "outputs": [
    {
     "data": {
      "text/plain": [
       "-371559.6957414169"
      ]
     },
     "execution_count": 38,
     "metadata": {},
     "output_type": "execute_result"
    }
   ],
   "source": [
    "gs.best_score_"
   ]
  },
  {
   "cell_type": "code",
   "execution_count": 39,
   "metadata": {},
   "outputs": [
    {
     "data": {
      "text/plain": [
       "RandomForestRegressor(criterion='mae', max_features='log2', n_estimators=20)"
      ]
     },
     "execution_count": 39,
     "metadata": {},
     "output_type": "execute_result"
    }
   ],
   "source": [
    "gs.best_estimator_"
   ]
  },
  {
   "cell_type": "code",
   "execution_count": 40,
   "metadata": {},
   "outputs": [],
   "source": [
    "# test ensembles \n",
    "tpred_lm = lm.predict(X_test)\n",
    "tpred_lml = lm_l.predict(X_test)\n",
    "tpred_rf = gs.best_estimator_.predict(X_test)"
   ]
  },
  {
   "cell_type": "code",
   "execution_count": 41,
   "metadata": {},
   "outputs": [
    {
     "data": {
      "text/plain": [
       "313262.6832881948"
      ]
     },
     "execution_count": 41,
     "metadata": {},
     "output_type": "execute_result"
    }
   ],
   "source": [
    "from sklearn.metrics import mean_absolute_error\n",
    "mean_absolute_error(y_test,tpred_lm)\n",
    "mean_absolute_error(y_test,tpred_lml)\n",
    "mean_absolute_error(y_test,tpred_rf)\n",
    "mean_absolute_error(y_test,(tpred_lm+tpred_rf)/2)"
   ]
  },
  {
   "cell_type": "code",
   "execution_count": 42,
   "metadata": {},
   "outputs": [
    {
     "data": {
      "text/plain": [
       "[5, 0, 0, 1, 0, 0, 1, 0, 0, 0, 0, 0, 0, 1, 0, 0, 0, 0, 0, 0, 0, 0]"
      ]
     },
     "execution_count": 42,
     "metadata": {},
     "output_type": "execute_result"
    }
   ],
   "source": [
    "import pickle\n",
    "pickl = {'model': gs.best_estimator_}\n",
    "pickle.dump( pickl, open( 'model_file' + \".p\", \"wb\" ) )\n",
    "\n",
    "file_name = \"model_file.p\"\n",
    "with open(file_name, 'rb') as pickled:\n",
    "    data = pickle.load(pickled)\n",
    "    model = data['model']\n",
    "\n",
    "model.predict(np.array(list(X_test.iloc[1,:])).reshape(1,-1))[0]\n",
    "\n",
    "list(X_test.iloc[1,:])"
   ]
  },
  {
   "cell_type": "code",
   "execution_count": null,
   "metadata": {},
   "outputs": [],
   "source": []
  },
  {
   "cell_type": "code",
   "execution_count": null,
   "metadata": {},
   "outputs": [],
   "source": []
  }
 ],
 "metadata": {
  "kernelspec": {
   "display_name": "Python 3",
   "language": "python",
   "name": "python3"
  },
  "language_info": {
   "codemirror_mode": {
    "name": "ipython",
    "version": 3
   },
   "file_extension": ".py",
   "mimetype": "text/x-python",
   "name": "python",
   "nbconvert_exporter": "python",
   "pygments_lexer": "ipython3",
   "version": "3.8.7"
  }
 },
 "nbformat": 4,
 "nbformat_minor": 4
}
